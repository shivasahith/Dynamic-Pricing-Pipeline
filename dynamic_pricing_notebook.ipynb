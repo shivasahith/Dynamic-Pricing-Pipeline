{
 "cells": [
  {
   "cell_type": "markdown",
   "metadata": {
    "application/vnd.databricks.v1+cell": {
     "cellMetadata": {},
     "inputWidgets": {},
     "nuid": "ba27969c-25ec-4f9b-a595-89f2b86785f0",
     "showTitle": false,
     "tableResultSettingsMap": {},
     "title": ""
    }
   },
   "source": [
    "**BRONZE LAYER - INGESTION**\n",
    "- It will read the raw CSV file into a Spark DataFrame\n",
    "- Keep schema as-is (messy values like ₹, %, commas remain)"
   ]
  },
  {
   "cell_type": "code",
   "execution_count": 0,
   "metadata": {
    "application/vnd.databricks.v1+cell": {
     "cellMetadata": {
      "byteLimit": 2048000,
      "rowLimit": 10000
     },
     "inputWidgets": {},
     "nuid": "2eb4a671-d3cb-4054-9df6-cf66726494a1",
     "showTitle": false,
     "tableResultSettingsMap": {},
     "title": ""
    }
   },
   "outputs": [
    {
     "output_type": "display_data",
     "data": {
      "text/html": [
       "<style scoped>\n",
       "  .table-result-container {\n",
       "    max-height: 300px;\n",
       "    overflow: auto;\n",
       "  }\n",
       "  table, th, td {\n",
       "    border: 1px solid black;\n",
       "    border-collapse: collapse;\n",
       "  }\n",
       "  th, td {\n",
       "    padding: 5px;\n",
       "  }\n",
       "  th {\n",
       "    text-align: left;\n",
       "  }\n",
       "</style><div class='table-result-container'><table class='table-result'><thead style='background-color: white'><tr><th>product_id</th><th>product_name</th><th>category</th><th>discounted_price</th><th>actual_price</th><th>discount_percentage</th><th>rating</th><th>rating_count</th><th>about_product</th><th>user_id</th><th>user_name</th><th>review_id</th><th>review_title</th><th>review_content</th><th>img_link</th><th>product_link</th></tr></thead><tbody><tr><td>B07JW9H4J1</td><td>Wayona Nylon Braided USB to Lightning Fast Charging and Data Sync Cable Compatible for iPhone 13, 12,11, X, 8, 7, 6, 5, iPad Air, Pro, Mini (3 FT Pack of 1, Grey)</td><td>Computers&Accessories|Accessories&Peripherals|Cables&Accessories|Cables|USBCables</td><td>₹399</td><td>₹1,099</td><td>64%</td><td>4.2</td><td>24,269</td><td>High Compatibility : Compatible With iPhone 12, 11, X/XsMax/Xr ,iPhone 8/8 Plus,iPhone 7/7 Plus,iPhone 6s/6s Plus,iPhone 6/6 Plus,iPhone 5/5s/5c/se,iPad Pro,iPad Air 1/2,iPad mini 1/2/3,iPod nano7,iPod touch and more apple devices.|Fast Charge&Data Sync : It can charge and sync simultaneously at a rapid speed, Compatible with any charging adaptor, multi-port charging station or power bank.|Durability : Durable nylon braided design with premium aluminum housing and toughened nylon fiber wound tightly around the cord lending it superior durability and adding a bit to its flexibility.|High Security Level : It is designed to fully protect your device from damaging excessive current.Copper core thick+Multilayer shielding, Anti-interference, Protective circuit equipment.|WARRANTY: 12 months warranty and friendly customer services, ensures the long-time enjoyment of your purchase. If you meet any question or problem, please don't hesitate to contact us.</td><td>AG3D6O4STAQKAY2UVGEUV46KN35Q,AHMY5CWJMMK5BJRBBSNLYT3ONILA,AHCTC6ULH4XB6YHDY6PCH2R772LQ,AGYHHIERNXKA6P5T7CZLXKVPT7IQ,AG4OGOFWXJZTQ2HKYIOCOY3KXF2Q,AENGU523SXMOS7JPDTW52PNNVWGQ,AEQJHCVTNINBS4FKTBGQRQTGTE5Q,AFC3FFC5PKFF5PMA52S3VCHOZ5FQ</td><td>Manav,Adarsh gupta,Sundeep,S.Sayeed Ahmed,jaspreet singh,Khaja moin,Anand,S.ARUMUGAM</td><td>R3HXWT0LRP0NMF,R2AJM3LFTLZHFO,R6AQJGUP6P86,R1KD19VHEDV0OR,R3C02RMYQMK6FC,R39GQRVBUZBWGY,R2K9EDOE15QIRJ,R3OI7YT648TL8I</td><td>Satisfied,Charging is really fast,Value for money,Product review,Good quality,Good product,Good Product,As of now seems good</td><td>Looks durable Charging is fine tooNo complains,Charging is really fast, good product.,Till now satisfied with the quality.,This is a good product . The charging speed is slower than the original iPhone cable,Good quality, would recommend,https://m.media-amazon.com/images/W/WEBP_402378-T1/images/I/81---F1ZgHL._SY88.jpg,Product had worked well till date and was having no issue.Cable is also sturdy enough...Have asked for replacement and company is doing the same...,Value for money</td><td>https://m.media-amazon.com/images/W/WEBP_402378-T1/images/I/51UsScvHQNL._SX300_SY300_QL70_FMwebp_.jpg</td><td>https://www.amazon.in/Wayona-Braided-WN3LG1-Syncing-Charging/dp/B07JW9H4J1/ref=sr_1_1?qid=1672909124&s=electronics&sr=1-1</td></tr><tr><td>B098NS6PVG</td><td>Ambrane Unbreakable 60W / 3A Fast Charging 1.5m Braided Type C Cable for Smartphones, Tablets, Laptops & other Type C devices, PD Technology, 480Mbps Data Sync, Quick Charge 3.0 (RCT15A, Black)</td><td>Computers&Accessories|Accessories&Peripherals|Cables&Accessories|Cables|USBCables</td><td>₹199</td><td>₹349</td><td>43%</td><td>4.0</td><td>43,994</td><td>Compatible with all Type C enabled devices, be it an android smartphone (Mi, Samsung, Oppo, Vivo, Realme, OnePlus, etc), tablet, laptop (Macbook, Chromebook, etc)|Supports Quick Charging (2.0/3.0)|Unbreakable – Made of special braided outer with rugged interior bindings, it is ultra-durable cable that won’t be affected by daily rough usage|Ideal Length – It has ideal length of 1.5 meters which is neither too short like your typical 1meter cable or too long like a 2meters cable|Supports maximum 3A fast charging and 480 Mbps data transfer speed|6 months manufacturer warranty from the date of purchase</td><td>AECPFYFQVRUWC3KGNLJIOREFP5LQ,AGYYVPDD7YG7FYNBXNGXZJT525AQ,AHONIZU3ICIEHQIGQ6R2VFRSBXOQ,AFPHD2CRPDZMWMBL7WXRSVYWS5JA,AEZ346GX3HJ4O4XNRPHCNHXQURMQ,AEPSWFPNECKO34PUC7I56ITGXR6Q,AHWVEHR5DYLVFTO2KF3IZATFQSWQ,AH4QT33M55677I7ISQOAKEQWACYQ</td><td>ArdKn,Nirbhay kumar,Sagar Viswanathan,Asp,Placeholder,BharanI,sonia,Niam</td><td>RGIQEG07R9HS2,R1SMWZQ86XIN8U,R2J3Y1WL29GWDE,RYGGS0M09S3KY,R17KQRUTAN5DKS,R3AAQGS6HP2QUK,R1HDNOG6TO2CCA,R3PHKXYA5AFEOU</td><td>A Good Braided Cable for Your Type C Device,Good quality product from ambrane,Super cable,As,Good quality,Good product,its good,Good quality for the price but one issue with my unit</td><td>I ordered this cable to connect my phone to Android Auto of car. The cable is really strong and the connection ports are really well made. I already has a Micro USB cable from Ambrane and it's still in good shape. I connected my phone to the car using the cable and it got connected well and no issues. I also connected it to the charging port and yes it has Fast Charging support.,It quality is good at this price and the main thing is that i didn't ever thought that this cable will be so long it's good one and charging power is too good and also supports fast charging,Value for money, with extra length\uD83D\uDC4D,Good, working fine,Product quality is good,Good,very good,Bought for my daughter's old phone.Brand new cable it was not charging, I already repacked and requested for replacement.I checked again, and there was some green colour paste/fungus inside the micro USB connector. I cleaned with an alcoholic and starts working again.Checked the ampere of charging speed got around 1400ma-1500ma - not bad, came with braided 1.5m long cable, pretty impressive for the price.Can't blame the manufacturer.But quality issues by the distributor, they might have stored in very humid place.</td><td>https://m.media-amazon.com/images/W/WEBP_402378-T2/images/I/31zOsqQOAOL._SY445_SX342_QL70_FMwebp_.jpg</td><td>https://www.amazon.in/Ambrane-Unbreakable-Charging-Braided-Cable/dp/B098NS6PVG/ref=sr_1_2?qid=1672909124&s=electronics&sr=1-2</td></tr><tr><td>B096MSW6CT</td><td>Sounce Fast Phone Charging Cable & Data Sync USB Cable Compatible for iPhone 13, 12,11, X, 8, 7, 6, 5, iPad Air, Pro, Mini & iOS Devices</td><td>Computers&Accessories|Accessories&Peripherals|Cables&Accessories|Cables|USBCables</td><td>₹199</td><td>₹1,899</td><td>90%</td><td>3.9</td><td>7,928</td><td>【 Fast Charger& Data Sync】-With built-in safety proctections and four-core copper wires promote maximum signal quality and strength and enhance charging & data transfer speed with up to 480 mb/s transferring speed.|【 Compatibility】-Compatible with iPhone 13, 12,11, X, 8, 7, 6, 5, iPad Air, Pro, Mini & iOS devices.|【 Sturdy & Durable】-The jacket and enforced connector made of TPE and premium copper, are resistant to repeatedly bending and coiling.|【 Ultra High Quality】: According to the experimental results, the fishbone design can accept at least 20,000 bending and insertion tests for extra protection and durability. Upgraded 3D aluminum connector and exclusive laser welding technology, which to ensure the metal part won't break and also have a tighter connection which fits well even with a protective case on and will never loose connection.|【 Good After Sales Service】-Our friendly and reliable customer service will respond to you within 24 hours ! you can purchase with confidence,and every sale includes a 365-day worry-free Service to prove the importance we set on quality.</td><td>AGU3BBQ2V2DDAMOAKGFAWDDQ6QHA,AESFLDV2PT363T2AQLWQOWZ4N3OA,AHTPQRIMGUD4BYR5YIHBH3CCGEFQ,AEUVWXYP5LT7PZLLZENEO2NODPBQ,AHC7MPW55DOO6WNCOQVA2VHOD26A,AFDI6FRPFBTNBG7BAEB7JDJSMKDQ,AFQKCEEEKXCOHTDG4WUN3XPPHJQQ,AHKUUFNMBZIDLSSPA4FEHIO2EC7Q</td><td>Kunal,Himanshu,viswanath,sai niharka,saqib malik,Aashiq,Ramu Challa,Sanjay gupta</td><td>R3J3EQQ9TZI5ZJ,R3E7WBGK7ID0KV,RWU79XKQ6I1QF,R25X4TBMPY91LX,R27OK7G99VK0TR,R207CYDCHJJTCJ,R3PCU8XMU173BT,R1IMONDOWRNU5V</td><td>Good speed for earlier versions,Good Product,Working good,Good for the price,Good,Worth for money,Working nice,it's a really nice product</td><td>Not quite durable and sturdy,https://m.media-amazon.com/images/W/WEBP_402378-T1/images/I/71rIggrbUCL._SY88.jpg,Working good,https://m.media-amazon.com/images/W/WEBP_402378-T1/images/I/61bKp9YO6wL._SY88.jpg,Product,Very nice product,Working well,It's a really nice product</td><td>https://m.media-amazon.com/images/W/WEBP_402378-T1/images/I/31IvNJZnmdL._SY445_SX342_QL70_FMwebp_.jpg</td><td>https://www.amazon.in/Sounce-iPhone-Charging-Compatible-Devices/dp/B096MSW6CT/ref=sr_1_3?qid=1672909124&s=electronics&sr=1-3</td></tr><tr><td>B08HDJ86NZ</td><td>boAt Deuce USB 300 2 in 1 Type-C & Micro USB Stress Resistant, Tangle-Free, Sturdy Cable with 3A Fast Charging & 480mbps Data Transmission, 10000+ Bends Lifespan and Extended 1.5m Length(Martian Red)</td><td>Computers&Accessories|Accessories&Peripherals|Cables&Accessories|Cables|USBCables</td><td>₹329</td><td>₹699</td><td>53%</td><td>4.2</td><td>94,363</td><td>The boAt Deuce USB 300 2 in 1 cable is compatible with smartphones, tablets, PC peripherals, Bluetooth speakers, power banks and all other devices with Type-C as well as Micro USB port|It ensures 3A fast charging and data transmissions with rapid sync at 480 mbps|The premium Nylon braided skin makes it sturdy and invincible against external damage|Its Aluminium alloy shell housing makes it last longer with 10000+ Bends Lifespan with extended frame protection for strain relief|The resilient and flexible design offers a tangle free experience seamlessly|Deuce USB 300 cable offers a perfect 1.5 meters in length for smooth & hassle-free user experience|2 years warranty from the date of purchase</td><td>AEWAZDZZJLQUYVOVGBEUKSLXHQ5A,AG5HTSFRRE6NL3M5SGCUQBP7YSCA,AH725ST5NW2Y4JZPKUNTIJCUK2BA,AHV3TXIFCJPMS4D5JATCEUR266MQ,AGWIGDEMFIIUAOXYY2QATNBSUGHA,AFSTSLQUV4EVEXWKBOLEFHL2H5YQ,AGAKDNBHY2FKX7I4ACRGILU7QL7A,AFNWJUWJRHCC6HN52KMG5AKZY37Q</td><td>Omkar dhale,JD,HEMALATHA,Ajwadh a.,amar singh chouhan,Ravi Siddan,Himanshu Goel,Udaykumar</td><td>R3EEUZKKK9J36I,R3HJVYCLYOY554,REDECAZ7AMPQC,R1CLH2ULIVG5U3,R2DMKIBGFKBD6R,RC89B5IAJUTR5,R3B3DDON5FH8DS,R13WAEJDI5RS36</td><td>Good product,Good one,Nice,Really nice product,Very first time change,Good,Fine product but could be better,Very nice it's charging like jet</td><td>Good product,long wire,Charges good,Nice,I bought this cable for Rs.339 worthy product for this price, i tested it in various charger adapters 33w and 18w it supports fast charging as well.,Good,Ok,I had got this at good price on sale on Amazon and product is useful with warranty but for warranty you need to go very far not practical for such a cost and mine micro to type c connector stopped working after few days only.,I like this product</td><td>https://m.media-amazon.com/images/I/41V5FtEWPkL._SX300_SY300_QL70_FMwebp_.jpg</td><td>https://www.amazon.in/Deuce-300-Resistant-Tangle-Free-Transmission/dp/B08HDJ86NZ/ref=sr_1_4?qid=1672909124&s=electronics&sr=1-4</td></tr><tr><td>B08CF3B7N1</td><td>Portronics Konnect L 1.2M Fast Charging 3A 8 Pin USB Cable with Charge & Sync Function for iPhone, iPad (Grey)</td><td>Computers&Accessories|Accessories&Peripherals|Cables&Accessories|Cables|USBCables</td><td>₹154</td><td>₹399</td><td>61%</td><td>4.2</td><td>16,905</td><td>[CHARGE & SYNC FUNCTION]- This cable comes with charging & Data sync function|[HIGH QUALITY MATERIAL]- TPE + Nylon Material to make sure that the life of the cable is enhanced significantly|[LONG CORD]- The Cable is extra thick 1.2 meter long, optimized for an easy use for your comfort at home or office|[MORE DURABLE]-This cable is unique interms of design and multi-use and is positioned to provide the best comfort and performance while using|[UNIVERSAL COMPATIBILITY]- Compatible with all devices like iPhone XS, X, XR, 8, 7, 6S, 6, 5S, iPad Pro, iPad mini and iPad Air</td><td>AE3Q6KSUK5P75D5HFYHCRAOLODSA,AFUGIFH5ZAFXRDSZHM4QB2KPKFUQ,AFK4NJOLFSJGWLOJIUIAROJF6YVA,AFUOTYRFUXVPEBGIXVZZ7DR3CZUA,AFDLRSXKDZ6U3U3KD46SQLFGZQRA,AH5VLM66SIK7J3IRG4NY7XVOQ55A,AE3MQNNHHLUHXURL5S7IAR7JTGNQ,AFSEOFZY67MYC7UAJU264Z5NFTLA</td><td>rahuls6099,Swasat Borah,Ajay Wadke,Pranali,RVK,Bhargav,Durai Vignesh,Amazon Customer</td><td>R1BP4L2HH9TFUP,R16PVJEXKV6QZS,R2UPDB81N66T4P,R3KK4GT934ST3I,RCFHMWUSBIJO,RDO7DACXMAJ84,R3A6MEZL3LY66Z,R1ESIEKPGAYA29</td><td>As good as original,Decent,Good one for secondary use,Best quality,GOOD,Amazing product at a mind blowing price!,Nice Quality,Good product</td><td>Bought this instead of original apple, does the work for 150rs, not as fast as apple charger but its a good option if you want cheap and good product, bought it for iPad pro 10.5 and it's working flawlessly, build quality is ok, its not like i am gonna hang my clothes on it and i want a very strong cable, even a braided cable stop working after a year, i have used both Anker and Apple store strong braided cable they all stop working after a year so please don't buy high end cables just for that instead choose a this one and even if it's stops working withing a year you only loose 150rs compares to 2000rs.UPDATE------------------------------------pin has stopped charging from one side, now i have to slip the pin to charge from other side, but i will update and let know for how long does it work,,It’s good. Not sure about durability as the pin area feels a bit fragile,Does not support apple carplaySo was little disappointed about thatOther than that cable is made up of very good quality,Best to buy,100% NOT FATHFUL,Writing this review post 10 months and 3 orders of the same product.Honestly Portronics Konnect L lightning cable works like magic with the original Apple charging brick.Seeing the price of the cable I initially hesitated buying as it was as low as ₹99/- with the offers and so I wasn’t sure if it would work well with my iPhone 12 or whether it would impact my iPhone’s battery health because all the other lightning cable brands were costing over ₹350/- like Wayona, Amazon Basics, etc.Earlier I was using Wayona Brand lightning cable with eventually frayed and stopped working.Charging Speed:Charges my iPhone fast enough almost similar compared to the original cable level when used with 12W Original Apple power adapter.Quality and Durability:Great quality braided cable and doesn’t tangle easily and can withstand day-to-day usage.L-Shaped pin:This is very innovative by Portronics and it makes sure the cable doesn’t get damaged even if used while charging.CarPlay and Data Sync:Works smoothly with CarPlay and syncs data effortlessly.PS: I have used this cable only with the Original Apple Charging Brick and extremely satisfied with its performance.,Better than I expect the product I like that Quality and I plan to buy same type cable come with usb C to Lighting cable for emergency purpose that much I love this cable. Buy for this cable only emergency uses only since Good one,Good product and value for money</td><td>https://m.media-amazon.com/images/W/WEBP_402378-T2/images/I/31VzNhhqifL._SX300_SY300_QL70_FMwebp_.jpg</td><td>https://www.amazon.in/Portronics-Konnect-POR-1080-Charging-Function/dp/B08CF3B7N1/ref=sr_1_5?qid=1672909124&s=electronics&sr=1-5</td></tr><tr><td>B08Y1TFSP6</td><td>pTron Solero TB301 3A Type-C Data and Fast Charging Cable, Made in India, 480Mbps Data Sync, Strong and Durable 1.5-Meter Nylon Braided USB Cable for Type-C Devices for Charging Adapter (Black)</td><td>Computers&Accessories|Accessories&Peripherals|Cables&Accessories|Cables|USBCables</td><td>₹149</td><td>₹1,000</td><td>85%</td><td>3.9</td><td>24,871</td><td>Fast Charging & Data Sync: Solero TB301 Type-C cable supports fast charge up to 5V/3A for devices and data syncing speed up to 480Mbps.|Universal Compatibility: This USB charging cable connects USB Type-C devices with standard USB devices like laptops, hard drives, power banks, wall and car chargers, etc..Connector One: Reversible Type C|Connector Two: USB A Type|Rough & Tough Type-C Cable: Charging cable with a double-braided exterior, premium aramid fiber core and metal plugs. It has passed 10,000 bending tests and can easily withstand daily use.|Extended Length: 1.5-meter long c-type cable uses nylon material to protect the wire and avoid knots.|Perfect Fit Connectors: pTron Soler USB-C has passed the 5KG load test, swing test, 5000+ times connect & disconnect to ensure that there are no loose connections.</td><td>AEQ2YMXSZWEOHK2EHTNLOS56YTZQ,AGRVINWECNY7323CWFXZYYIZOFTQ,AHBAT6VLOXWGYDL57KHCNCLPXAKA,AF7NDY2H6JVYTSQOZP76GCATQ34Q,AFV7ZA733ZLME4KNLZPMPCBUNPPA,AHFAAPSY2MJ5HYOU2VQDJ7AQY4NQ,AH2WGV2PEBUTICRPBEEVKF24G5LA,AEP4MK3EKOBDKTGPJTRN5RBDIODA</td><td>Jayesh,Rajesh k.,Soopy,amazon customer,Aman,Shankar,dinesh,Chitra,Ajaybabu.O.M</td><td>R7S8ANNSDPR40,R3CLZFLHVJU26P,RFF7U7MPQFUGR,R1MV1NKC23DWPI,R11D3U0V2XKDKF,R18MP1KLUE18PC,RWGJNVEH5ZQME,R1XN72FU6Q37IH</td><td>It's pretty good,Average quality,very good and useful usb cable,Good USB cable. My experience was very good it is long lasting,Good,Nice product and useful,-,Sturdy but does not support 33w charging</td><td>It's a good product.,Like,Very good item strong and useful USB cableValue for moneyThanks to amazon and producer,https://m.media-amazon.com/images/I/51112ZRE-1L._SY88.jpg,Good,Nice product and useful product,-,Sturdy but does not support 33w charging</td><td>https://m.media-amazon.com/images/I/31wOPjcSxlL._SX300_SY300_QL70_FMwebp_.jpg</td><td>https://www.amazon.in/Solero-TB301-Charging-480Mbps-1-5-Meter/dp/B08Y1TFSP6/ref=sr_1_6?qid=1672909124&s=electronics&sr=1-6</td></tr><tr><td>B08WRWPM22</td><td>boAt Micro USB 55 Tangle-free, Sturdy Micro USB Cable with 3A Fast Charging & 480mbps Data Transmission (Black)</td><td>Computers&Accessories|Accessories&Peripherals|Cables&Accessories|Cables|USBCables</td><td>₹176.63</td><td>₹499</td><td>65%</td><td>4.1</td><td>15,188</td><td>It Ensures High Speed Transmission And Charging By Offering 3A Fast Charging And Data Transmissions With Rapid Sync At 480 Mbps|The Braided Skin Makes It Durable And Invincible Against External Damage So You Can Have An Absolute Hassle-Free & Tangle Free Experience|Its Durable Pvc Housing And The Flexible Design Makes It Last 6 Times Longer Than Other Cables|Usb Cable Offers A Perfect 1.5 Meters In Length For Smooth & Hassle-Free User Experience For Superior Charging & Data Transfer Tasks|The Compact And Smooth Aluminium Connector Fits Most Cases Seamlessly And Resists Corrosion For Signal Purity|Micro Usb 55 Cable Offers Universal Compatibility As It Is Compatible With Most Android Smartphones, Tablets, Pc Peripherals, Bluetooth Speakers, Power Banks, Game Consoles & All Micro-Usb Enabled Devices|2 years warranty from the date of purchase</td><td>AG7C6DAADCTRQJG2BRS3RIKDT52Q,AFU7BOMPVJ7Q3TTA4G67RASTGYIQ,AER5ZGIXXVYG3AWZTRZT7M2BYCEA,AHE76XQSOLGOP5ZEKTIW6KUPDWBQ,AGXTMB2XHZBEWZ2UIX7ODZ4XTU6Q,AHNM2XVU745EDPNGUOAG74PTSNRA,AH5RWQ4S72IVLZD6O75OPCFIVDXQ,AG322TYKVPLPBDXE7ABEUK5QTALQ</td><td>Vivek kumar,Amazon Customer,SARTHAK,Chiranjeevi,V V GIRI KUMAR,Rajnandini,Akshay Talla,sudhanshu chaubey</td><td>R8E73K2KWJRDS,RSD0JTIIWQQL8,R64CRSTE9SLW1,R2FRTNIIUFJE1F,RWGNX3W7UOJ7W,R32TYHHODHTF5D,RQL9ZMQUTY7P2,R280XJ5VZUBOXV</td><td>Long durable.,good,Does not charge Lenovo m8 tab,Best charging cable,good,Boat,Product was good,1.5 m का केबल मेरे लिए बहुत ही लाभदायक है ।</td><td>Build quality is good and it is comes with 2 year warranty.,Good Product,Bought it for charging my mobile & tab but it doesn't work for Lenovo m8 tab,Guys this cable is is best compare of everyone over heat protection, quickly charging, but chance to shock circuit,good,Nice,Good quality,1.5एम का डाटा केबल मेरे लिए बहुत ही लाभदायक है ।  मैं इस केबल को लाइन में चार्ज करते समय फोन बहुत आराम से उपयोग  कर पा रहा हु । आप इस केबल से 15watt का  चार्जर उसे कर सकते है (इससे जड़ा नही) । लोकल बाजार में इसका दाम 150 है ,  अमेजन पे ये केबल मुझे 67 में मिला । गर्व से कहो हम हिंदू है , जय हिंद जय भारत ,</td><td>https://m.media-amazon.com/images/W/WEBP_402378-T2/images/I/41jlwEZpa5L._SX300_SY300_QL70_FMwebp_.jpg</td><td>https://www.amazon.in/boAt-Micro-USB-Tangle-Free-Transmission/dp/B08WRWPM22/ref=sr_1_8?qid=1672909124&s=electronics&sr=1-8</td></tr><tr><td>B08DDRGWTJ</td><td>MI Usb Type-C Cable Smartphone (Black)</td><td>Computers&Accessories|Accessories&Peripherals|Cables&Accessories|Cables|USBCables</td><td>₹229</td><td>₹299</td><td>23%</td><td>4.3</td><td>30,411</td><td>1m long Type-C USB Cable|Sturdy and Durable. With USB cable you can transfer data with speeds of upto 480 Mbps|Upto 3A output|6months warranty|Sturdy and Durable. With USB cable you can transfer data with speeds of upto 480 Mbps|6months warranty|Up To 3A Output</td><td>AHW6E5LQ2BDYOIVLAJGDH45J5V5Q,AF74RSGCHPZITVFSZN76K6GKPICA,AHDD7ZNB47QA2JLYU53HD4ML3VNQ,AHV3ELGDSOWBYUQLXSPDCSHBQRHQ,AEJU4L3ZM2GTILSJZZSNSF6VUOIA,AFVD66VQMSHPDT3A6HBBBGKRXBZA,AELKHQXVSSG6NHXLFJLLNEFRQQUQ,AGYSMAC6V6RFJJOHG2FIRPOZ6CSQ</td><td>Pavan A H,Jayesh bagad,Shridhar,rajendran,karuppu k,Akshay wani,Abbimaniu Singh,VISHAL H BADSHE</td><td>R2X090D1YHACKR,R32ZCIH9AFNJ60,R3N57EVVG0EHAF,R3QWLE8JHROKC1,R2VTSDOOUTSQ5X,R3E6FZ75Q074KH,R1SYBQLTPFCW20,RYQT96J8HPIXE</td><td>Worth for money - suitable for Android auto,Good Product,Length,Nice,Original,Very good quay Cable support fast charging.,Original MI cable for charging upto 33 watt,I am veri happy with this product as it provide turbo charging.</td><td>Worth for money - suitable for Android auto... my purpose served in car....got it for Rs.150,Everything is Okay. But packaging is not good feeling like seller gave is used cable.,Good product,Good product but cost is more.,Original cable,I bought this cable at 129. Using this cable for Android auto in my car. Perfectly works without any glitch.,Original MI cable. Will charge upto 33 watts. Got it for Rs 150.  I have 67 watt charger and I want a cable for my car so I went for it. I checked the performance with battery charging app. The charging speed is exactly half of my 67 watt original cable. Go for it.,It provided me turbo charging. I recommend for all Redmi note 10s mobile phones. As it provide turbo charging. I am veri happy with this product.</td><td>https://m.media-amazon.com/images/I/31XO-wfGGGL._SX300_SY300_QL70_FMwebp_.jpg</td><td>https://www.amazon.in/MI-MTCY001IN-USB-Type-C-Cable/dp/B08DDRGWTJ/ref=sr_1_9?qid=1672909124&s=electronics&sr=1-9</td></tr><tr><td>B008IFXQFU</td><td>TP-Link USB WiFi Adapter for PC(TL-WN725N), N150 Wireless Network Adapter for Desktop - Nano Size WiFi Dongle Compatible with Windows 11/10/7/8/8.1/XP/ Mac OS 10.9-10.15 Linux Kernel 2.6.18-4.4.3</td><td>Computers&Accessories|NetworkingDevices|NetworkAdapters|WirelessUSBAdapters</td><td>₹499</td><td>₹999</td><td>50%</td><td>4.2</td><td>1,79,691</td><td>USB WiFi Adapter —— Speedy wireless transmission at up to 150Mbps ideal for video streaming or internet calls|Mini Design —— Sleek miniature design so small that once plugged in, can be left in a Laptop’s USB port|Advanced Security —— Supports 64/128 WEP, WPA, PA2/WPA-PSK/WPA2-PSK(TKIP/AES)|Compatibility —— Windows 11/10/8.1/8/7/XP, Mac OS 10.15 and earlier, Linux|Easy Setup —— Connect in no time with easy setup utility in 14 languages|In an unlikely case of product quality related issue, we may ask you to reach out to brand’s customer service support and seek resolution. We will require brand proof of issue to process replacement request</td><td>AGV3IEFANZCKECFGUM42MRH5FNOA,AEBO7NWCNXKT4AESAN443HQH35FQ,AE7GD3VRRYQEAHDR7FXJIR23INYA,AHPAW24BI5X2GCX5M2LHI72VSJJQ,AE2VXY4CFO36MDSIMPG43XHNF4GA,AHHQEKUNVETALN7DTRHUQ2WAWEKQ,AFMIFTNTUD5PIHGONWOTRMMZ5EBA,AHOJBIZVVIIFJKRREY4B6ESVA4KA</td><td>Azhar JuMan,Anirudh Sood,Hari Krishnan PS,Akash Jindal,PRADEEP,Rajesh,Divya Kothari,abhijit</td><td>R1LW6NWSVTVZ2H,R3VR5WFKUS15C5,R2F6GC79OYWUKQ,R3QZ19MECGWG9A,R2MPU42MYK7GPO,R33DVXFB4VYPZZ,R1SQ7OGFR4JRUR,R1S5F9QI0M1VBZ</td><td>Works on linux for me. Get the model with antenna.,Does what it say but other brands available at lesser price,Easy Handle,Great product,Perfect working,Speed is perfect,Great Design, Build, Connectivity Range, Packaging and other features but no linux support since v2,Very good</td><td>I use this to connect an old PC to internet. I tried lubuntu 20 and ubuntu 22, it worked out of the box in both, didn't have to do any setup. There's an extender cable so you can place this in a comfortable place. Get the model with antenna because otherwise you'll have range problems if you're not directly in line of sight from your wifi router.,The wifi dongle is a simple plug & play device, will start catching available networks right after you plug it into your USB port, no additional installations/ softwares requires. Signal strength is good.... just wonder what would be different in other adapters of lesser known brands which are available at a much more competitive pricing, hence a star less.,Pros:*Easy to use & Portable*Can be connected to Mobile Hotspot and used in PC( Budget Friendly)*Less installation process*No heating issues & Good Coverage*Best alternative for USB Tethering (phone's battery may get damaged for long term run with Tethering)Cons:*Internet connection speed varies at times, also depends on your modem or cellular connection*Issues occur while installing via CD, which is available along with the product( Installation driver can be downloaded from TP-Link site)*Needed to reconnect the adapter every time system is turned ON*Will not work if your software has some issues, so encountered any just update your system(worked for me)*Support Center is worse, calls are unattended most of the times or just visit nearby storeConclusion:Brought this @499/-Ideal for users who don't need very high speed internet usage,a good alternative for USB Tethering and are on Budge(1080p Youtube videos can be easily played with this without any interruptions),wifi connectivity is a great good result for me. however, some jitter problems did exist.,This is perfect device to connect wifi. Go for it.,This wifi adopter is good working,(Pictures attached)Size/Design:  ★ ★ ★ ★ ★Build Quality: ★ ★ ★ ★ ★Packaging:  ★ ★ ★ ★ ★Software:  ★ ★ ★ ★Speed:  ★ ★ ★ ★ ★Connectivity:  ★ ★ ★ ★ ★Experience:  ★ ★ ★ ★ ★Warranty:  ★ ★ ★ ★ ★Size and Design:The best part about this is that it is very compact in size and very sober and elegant in design. This is a big plus as it is easy plug in and use, add to it the good sober design.Build Quality:The build quality is undoubtedly superb. Just no qualms about that, at all. When held, it doesnt give off that cheap and flimsy product-like feeling. It is good sturdy with its build quality.Packaging:This part is also a big plus as the item was well cushioned and packaged with all the necessary items that ensured that no damage could have been caused to the product during transportation. This ensures that I as a customer have received something not damaged internally already.Software:This is actually good but not great part with the product.The good part is that a CD has been provided with it along with a manual.The not great part is that NO LINUX SUPPORT has been given from Version 2 onwards. This is bad, really.Speed:It easily supports net speeds upto 300 Mbps. Practically speaking, I have tested it at my home and it easily supports net speed of over 100-150 Mbps without a sigh.On testing I found that it did connect to 5GHz network, without any issue.Connectivity:Please mark its not feet its metres. Multiply metres x 3 to get the distance in feet.It easily connects to my laptop or phone from 7 metres across one room. So thats 21 feet. I mean even our old bluetooth used to connect to about 15 ft.So 20-25 feet is not at all an issue with this. This is the big plus I found with the product.Experience:From this point of view, so far except the linux non-compatibility issue, I found no other flaws with this product.So overall its a great product.Warranty:Its 3 years so I am assured that atleast for 3 years I am tension-free and not just 1 year, contrary to most electronic items today that only provide 1 year warranty with their items.,Best adapter I have bought ever. Works nicely seemless connectivity</td><td>https://m.media-amazon.com/images/W/WEBP_402378-T2/images/I/31e6ElWRymL._SX300_SY300_QL70_FMwebp_.jpg</td><td>https://www.amazon.in/TP-Link-TL-WN725N-150Mbps-Wireless-Adapter/dp/B008IFXQFU/ref=sr_1_10?qid=1672909124&s=electronics&sr=1-10</td></tr><tr><td>B082LZGK39</td><td>Ambrane Unbreakable 60W / 3A Fast Charging 1.5m Braided Micro USB Cable for Smartphones, Tablets, Laptops & Other Micro USB Devices, 480Mbps Data Sync, Quick Charge 3.0 (RCM15, Black)</td><td>Computers&Accessories|Accessories&Peripherals|Cables&Accessories|Cables|USBCables</td><td>₹199</td><td>₹299</td><td>33%</td><td>4.0</td><td>43,994</td><td>Universal Compatibility – It is compatible with all Micro USB enabled devices, be it an android smartphone, tablet, PC peripheral or any other micro USB compatible device|Unbreakable – Made of special braided outer with rugged interior bindings, it is ultra-durable cable that won’t be affected by daily rough usage|Ideal Length – It has ideal length of 1.5 meters which is neither too short like your typical 1meter cable or too long like a 2meters cable|Supports maximum 3A fast charging and 480 Mbps data transfer speed|6 Months manufacturer warranty from the date of purchase.</td><td>AECPFYFQVRUWC3KGNLJIOREFP5LQ,AGYYVPDD7YG7FYNBXNGXZJT525AQ,AHONIZU3ICIEHQIGQ6R2VFRSBXOQ,AFPHD2CRPDZMWMBL7WXRSVYWS5JA,AEZ346GX3HJ4O4XNRPHCNHXQURMQ,AEPSWFPNECKO34PUC7I56ITGXR6Q,AHWVEHR5DYLVFTO2KF3IZATFQSWQ,AH4QT33M55677I7ISQOAKEQWACYQ</td><td>ArdKn,Nirbhay kumar,Sagar Viswanathan,Asp,Placeholder,BharanI,sonia,Niam</td><td>RGIQEG07R9HS2,R1SMWZQ86XIN8U,R2J3Y1WL29GWDE,RYGGS0M09S3KY,R17KQRUTAN5DKS,R3AAQGS6HP2QUK,R1HDNOG6TO2CCA,R3PHKXYA5AFEOU</td><td>A Good Braided Cable for Your Type C Device,Good quality product from ambrane,Super cable,As,Good quality,Good product,its good,Good quality for the price but one issue with my unit</td><td>I ordered this cable to connect my phone to Android Auto of car. The cable is really strong and the connection ports are really well made. I already has a Micro USB cable from Ambrane and it's still in good shape. I connected my phone to the car using the cable and it got connected well and no issues. I also connected it to the charging port and yes it has Fast Charging support.,It quality is good at this price and the main thing is that i didn't ever thought that this cable will be so long it's good one and charging power is too good and also supports fast charging,Value for money, with extra length\uD83D\uDC4D,Good, working fine,Product quality is good,Good,very good,Bought for my daughter's old phone.Brand new cable it was not charging, I already repacked and requested for replacement.I checked again, and there was some green colour paste/fungus inside the micro USB connector. I cleaned with an alcoholic and starts working again.Checked the ampere of charging speed got around 1400ma-1500ma - not bad, came with braided 1.5m long cable, pretty impressive for the price.Can't blame the manufacturer.But quality issues by the distributor, they might have stored in very humid place.</td><td>https://m.media-amazon.com/images/W/WEBP_402378-T2/images/I/31kj3q4SepL._SY445_SX342_QL70_FMwebp_.jpg</td><td>https://www.amazon.in/Ambrane-Unbreakable-Charging-Braided-Android/dp/B082LZGK39/ref=sr_1_11?qid=1672909124&s=electronics&sr=1-11</td></tr></tbody></table></div>"
      ]
     },
     "metadata": {
      "application/vnd.databricks.v1+output": {
       "addedWidgets": {},
       "aggData": [],
       "aggError": "",
       "aggOverflow": false,
       "aggSchema": [],
       "aggSeriesLimitReached": false,
       "aggType": "",
       "arguments": {},
       "columnCustomDisplayInfos": {},
       "data": [
        [
         "B07JW9H4J1",
         "Wayona Nylon Braided USB to Lightning Fast Charging and Data Sync Cable Compatible for iPhone 13, 12,11, X, 8, 7, 6, 5, iPad Air, Pro, Mini (3 FT Pack of 1, Grey)",
         "Computers&Accessories|Accessories&Peripherals|Cables&Accessories|Cables|USBCables",
         "₹399",
         "₹1,099",
         "64%",
         "4.2",
         "24,269",
         "High Compatibility : Compatible With iPhone 12, 11, X/XsMax/Xr ,iPhone 8/8 Plus,iPhone 7/7 Plus,iPhone 6s/6s Plus,iPhone 6/6 Plus,iPhone 5/5s/5c/se,iPad Pro,iPad Air 1/2,iPad mini 1/2/3,iPod nano7,iPod touch and more apple devices.|Fast Charge&Data Sync : It can charge and sync simultaneously at a rapid speed, Compatible with any charging adaptor, multi-port charging station or power bank.|Durability : Durable nylon braided design with premium aluminum housing and toughened nylon fiber wound tightly around the cord lending it superior durability and adding a bit to its flexibility.|High Security Level : It is designed to fully protect your device from damaging excessive current.Copper core thick+Multilayer shielding, Anti-interference, Protective circuit equipment.|WARRANTY: 12 months warranty and friendly customer services, ensures the long-time enjoyment of your purchase. If you meet any question or problem, please don't hesitate to contact us.",
         "AG3D6O4STAQKAY2UVGEUV46KN35Q,AHMY5CWJMMK5BJRBBSNLYT3ONILA,AHCTC6ULH4XB6YHDY6PCH2R772LQ,AGYHHIERNXKA6P5T7CZLXKVPT7IQ,AG4OGOFWXJZTQ2HKYIOCOY3KXF2Q,AENGU523SXMOS7JPDTW52PNNVWGQ,AEQJHCVTNINBS4FKTBGQRQTGTE5Q,AFC3FFC5PKFF5PMA52S3VCHOZ5FQ",
         "Manav,Adarsh gupta,Sundeep,S.Sayeed Ahmed,jaspreet singh,Khaja moin,Anand,S.ARUMUGAM",
         "R3HXWT0LRP0NMF,R2AJM3LFTLZHFO,R6AQJGUP6P86,R1KD19VHEDV0OR,R3C02RMYQMK6FC,R39GQRVBUZBWGY,R2K9EDOE15QIRJ,R3OI7YT648TL8I",
         "Satisfied,Charging is really fast,Value for money,Product review,Good quality,Good product,Good Product,As of now seems good",
         "Looks durable Charging is fine tooNo complains,Charging is really fast, good product.,Till now satisfied with the quality.,This is a good product . The charging speed is slower than the original iPhone cable,Good quality, would recommend,https://m.media-amazon.com/images/W/WEBP_402378-T1/images/I/81---F1ZgHL._SY88.jpg,Product had worked well till date and was having no issue.Cable is also sturdy enough...Have asked for replacement and company is doing the same...,Value for money",
         "https://m.media-amazon.com/images/W/WEBP_402378-T1/images/I/51UsScvHQNL._SX300_SY300_QL70_FMwebp_.jpg",
         "https://www.amazon.in/Wayona-Braided-WN3LG1-Syncing-Charging/dp/B07JW9H4J1/ref=sr_1_1?qid=1672909124&s=electronics&sr=1-1"
        ],
        [
         "B098NS6PVG",
         "Ambrane Unbreakable 60W / 3A Fast Charging 1.5m Braided Type C Cable for Smartphones, Tablets, Laptops & other Type C devices, PD Technology, 480Mbps Data Sync, Quick Charge 3.0 (RCT15A, Black)",
         "Computers&Accessories|Accessories&Peripherals|Cables&Accessories|Cables|USBCables",
         "₹199",
         "₹349",
         "43%",
         "4.0",
         "43,994",
         "Compatible with all Type C enabled devices, be it an android smartphone (Mi, Samsung, Oppo, Vivo, Realme, OnePlus, etc), tablet, laptop (Macbook, Chromebook, etc)|Supports Quick Charging (2.0/3.0)|Unbreakable – Made of special braided outer with rugged interior bindings, it is ultra-durable cable that won’t be affected by daily rough usage|Ideal Length – It has ideal length of 1.5 meters which is neither too short like your typical 1meter cable or too long like a 2meters cable|Supports maximum 3A fast charging and 480 Mbps data transfer speed|6 months manufacturer warranty from the date of purchase",
         "AECPFYFQVRUWC3KGNLJIOREFP5LQ,AGYYVPDD7YG7FYNBXNGXZJT525AQ,AHONIZU3ICIEHQIGQ6R2VFRSBXOQ,AFPHD2CRPDZMWMBL7WXRSVYWS5JA,AEZ346GX3HJ4O4XNRPHCNHXQURMQ,AEPSWFPNECKO34PUC7I56ITGXR6Q,AHWVEHR5DYLVFTO2KF3IZATFQSWQ,AH4QT33M55677I7ISQOAKEQWACYQ",
         "ArdKn,Nirbhay kumar,Sagar Viswanathan,Asp,Placeholder,BharanI,sonia,Niam",
         "RGIQEG07R9HS2,R1SMWZQ86XIN8U,R2J3Y1WL29GWDE,RYGGS0M09S3KY,R17KQRUTAN5DKS,R3AAQGS6HP2QUK,R1HDNOG6TO2CCA,R3PHKXYA5AFEOU",
         "A Good Braided Cable for Your Type C Device,Good quality product from ambrane,Super cable,As,Good quality,Good product,its good,Good quality for the price but one issue with my unit",
         "I ordered this cable to connect my phone to Android Auto of car. The cable is really strong and the connection ports are really well made. I already has a Micro USB cable from Ambrane and it's still in good shape. I connected my phone to the car using the cable and it got connected well and no issues. I also connected it to the charging port and yes it has Fast Charging support.,It quality is good at this price and the main thing is that i didn't ever thought that this cable will be so long it's good one and charging power is too good and also supports fast charging,Value for money, with extra length\uD83D\uDC4D,Good, working fine,Product quality is good,Good,very good,Bought for my daughter's old phone.Brand new cable it was not charging, I already repacked and requested for replacement.I checked again, and there was some green colour paste/fungus inside the micro USB connector. I cleaned with an alcoholic and starts working again.Checked the ampere of charging speed got around 1400ma-1500ma - not bad, came with braided 1.5m long cable, pretty impressive for the price.Can't blame the manufacturer.But quality issues by the distributor, they might have stored in very humid place.",
         "https://m.media-amazon.com/images/W/WEBP_402378-T2/images/I/31zOsqQOAOL._SY445_SX342_QL70_FMwebp_.jpg",
         "https://www.amazon.in/Ambrane-Unbreakable-Charging-Braided-Cable/dp/B098NS6PVG/ref=sr_1_2?qid=1672909124&s=electronics&sr=1-2"
        ],
        [
         "B096MSW6CT",
         "Sounce Fast Phone Charging Cable & Data Sync USB Cable Compatible for iPhone 13, 12,11, X, 8, 7, 6, 5, iPad Air, Pro, Mini & iOS Devices",
         "Computers&Accessories|Accessories&Peripherals|Cables&Accessories|Cables|USBCables",
         "₹199",
         "₹1,899",
         "90%",
         "3.9",
         "7,928",
         "【 Fast Charger& Data Sync】-With built-in safety proctections and four-core copper wires promote maximum signal quality and strength and enhance charging & data transfer speed with up to 480 mb/s transferring speed.|【 Compatibility】-Compatible with iPhone 13, 12,11, X, 8, 7, 6, 5, iPad Air, Pro, Mini & iOS devices.|【 Sturdy & Durable】-The jacket and enforced connector made of TPE and premium copper, are resistant to repeatedly bending and coiling.|【 Ultra High Quality】: According to the experimental results, the fishbone design can accept at least 20,000 bending and insertion tests for extra protection and durability. Upgraded 3D aluminum connector and exclusive laser welding technology, which to ensure the metal part won't break and also have a tighter connection which fits well even with a protective case on and will never loose connection.|【 Good After Sales Service】-Our friendly and reliable customer service will respond to you within 24 hours ! you can purchase with confidence,and every sale includes a 365-day worry-free Service to prove the importance we set on quality.",
         "AGU3BBQ2V2DDAMOAKGFAWDDQ6QHA,AESFLDV2PT363T2AQLWQOWZ4N3OA,AHTPQRIMGUD4BYR5YIHBH3CCGEFQ,AEUVWXYP5LT7PZLLZENEO2NODPBQ,AHC7MPW55DOO6WNCOQVA2VHOD26A,AFDI6FRPFBTNBG7BAEB7JDJSMKDQ,AFQKCEEEKXCOHTDG4WUN3XPPHJQQ,AHKUUFNMBZIDLSSPA4FEHIO2EC7Q",
         "Kunal,Himanshu,viswanath,sai niharka,saqib malik,Aashiq,Ramu Challa,Sanjay gupta",
         "R3J3EQQ9TZI5ZJ,R3E7WBGK7ID0KV,RWU79XKQ6I1QF,R25X4TBMPY91LX,R27OK7G99VK0TR,R207CYDCHJJTCJ,R3PCU8XMU173BT,R1IMONDOWRNU5V",
         "Good speed for earlier versions,Good Product,Working good,Good for the price,Good,Worth for money,Working nice,it's a really nice product",
         "Not quite durable and sturdy,https://m.media-amazon.com/images/W/WEBP_402378-T1/images/I/71rIggrbUCL._SY88.jpg,Working good,https://m.media-amazon.com/images/W/WEBP_402378-T1/images/I/61bKp9YO6wL._SY88.jpg,Product,Very nice product,Working well,It's a really nice product",
         "https://m.media-amazon.com/images/W/WEBP_402378-T1/images/I/31IvNJZnmdL._SY445_SX342_QL70_FMwebp_.jpg",
         "https://www.amazon.in/Sounce-iPhone-Charging-Compatible-Devices/dp/B096MSW6CT/ref=sr_1_3?qid=1672909124&s=electronics&sr=1-3"
        ],
        [
         "B08HDJ86NZ",
         "boAt Deuce USB 300 2 in 1 Type-C & Micro USB Stress Resistant, Tangle-Free, Sturdy Cable with 3A Fast Charging & 480mbps Data Transmission, 10000+ Bends Lifespan and Extended 1.5m Length(Martian Red)",
         "Computers&Accessories|Accessories&Peripherals|Cables&Accessories|Cables|USBCables",
         "₹329",
         "₹699",
         "53%",
         "4.2",
         "94,363",
         "The boAt Deuce USB 300 2 in 1 cable is compatible with smartphones, tablets, PC peripherals, Bluetooth speakers, power banks and all other devices with Type-C as well as Micro USB port|It ensures 3A fast charging and data transmissions with rapid sync at 480 mbps|The premium Nylon braided skin makes it sturdy and invincible against external damage|Its Aluminium alloy shell housing makes it last longer with 10000+ Bends Lifespan with extended frame protection for strain relief|The resilient and flexible design offers a tangle free experience seamlessly|Deuce USB 300 cable offers a perfect 1.5 meters in length for smooth & hassle-free user experience|2 years warranty from the date of purchase",
         "AEWAZDZZJLQUYVOVGBEUKSLXHQ5A,AG5HTSFRRE6NL3M5SGCUQBP7YSCA,AH725ST5NW2Y4JZPKUNTIJCUK2BA,AHV3TXIFCJPMS4D5JATCEUR266MQ,AGWIGDEMFIIUAOXYY2QATNBSUGHA,AFSTSLQUV4EVEXWKBOLEFHL2H5YQ,AGAKDNBHY2FKX7I4ACRGILU7QL7A,AFNWJUWJRHCC6HN52KMG5AKZY37Q",
         "Omkar dhale,JD,HEMALATHA,Ajwadh a.,amar singh chouhan,Ravi Siddan,Himanshu Goel,Udaykumar",
         "R3EEUZKKK9J36I,R3HJVYCLYOY554,REDECAZ7AMPQC,R1CLH2ULIVG5U3,R2DMKIBGFKBD6R,RC89B5IAJUTR5,R3B3DDON5FH8DS,R13WAEJDI5RS36",
         "Good product,Good one,Nice,Really nice product,Very first time change,Good,Fine product but could be better,Very nice it's charging like jet",
         "Good product,long wire,Charges good,Nice,I bought this cable for Rs.339 worthy product for this price, i tested it in various charger adapters 33w and 18w it supports fast charging as well.,Good,Ok,I had got this at good price on sale on Amazon and product is useful with warranty but for warranty you need to go very far not practical for such a cost and mine micro to type c connector stopped working after few days only.,I like this product",
         "https://m.media-amazon.com/images/I/41V5FtEWPkL._SX300_SY300_QL70_FMwebp_.jpg",
         "https://www.amazon.in/Deuce-300-Resistant-Tangle-Free-Transmission/dp/B08HDJ86NZ/ref=sr_1_4?qid=1672909124&s=electronics&sr=1-4"
        ],
        [
         "B08CF3B7N1",
         "Portronics Konnect L 1.2M Fast Charging 3A 8 Pin USB Cable with Charge & Sync Function for iPhone, iPad (Grey)",
         "Computers&Accessories|Accessories&Peripherals|Cables&Accessories|Cables|USBCables",
         "₹154",
         "₹399",
         "61%",
         "4.2",
         "16,905",
         "[CHARGE & SYNC FUNCTION]- This cable comes with charging & Data sync function|[HIGH QUALITY MATERIAL]- TPE + Nylon Material to make sure that the life of the cable is enhanced significantly|[LONG CORD]- The Cable is extra thick 1.2 meter long, optimized for an easy use for your comfort at home or office|[MORE DURABLE]-This cable is unique interms of design and multi-use and is positioned to provide the best comfort and performance while using|[UNIVERSAL COMPATIBILITY]- Compatible with all devices like iPhone XS, X, XR, 8, 7, 6S, 6, 5S, iPad Pro, iPad mini and iPad Air",
         "AE3Q6KSUK5P75D5HFYHCRAOLODSA,AFUGIFH5ZAFXRDSZHM4QB2KPKFUQ,AFK4NJOLFSJGWLOJIUIAROJF6YVA,AFUOTYRFUXVPEBGIXVZZ7DR3CZUA,AFDLRSXKDZ6U3U3KD46SQLFGZQRA,AH5VLM66SIK7J3IRG4NY7XVOQ55A,AE3MQNNHHLUHXURL5S7IAR7JTGNQ,AFSEOFZY67MYC7UAJU264Z5NFTLA",
         "rahuls6099,Swasat Borah,Ajay Wadke,Pranali,RVK,Bhargav,Durai Vignesh,Amazon Customer",
         "R1BP4L2HH9TFUP,R16PVJEXKV6QZS,R2UPDB81N66T4P,R3KK4GT934ST3I,RCFHMWUSBIJO,RDO7DACXMAJ84,R3A6MEZL3LY66Z,R1ESIEKPGAYA29",
         "As good as original,Decent,Good one for secondary use,Best quality,GOOD,Amazing product at a mind blowing price!,Nice Quality,Good product",
         "Bought this instead of original apple, does the work for 150rs, not as fast as apple charger but its a good option if you want cheap and good product, bought it for iPad pro 10.5 and it's working flawlessly, build quality is ok, its not like i am gonna hang my clothes on it and i want a very strong cable, even a braided cable stop working after a year, i have used both Anker and Apple store strong braided cable they all stop working after a year so please don't buy high end cables just for that instead choose a this one and even if it's stops working withing a year you only loose 150rs compares to 2000rs.UPDATE------------------------------------pin has stopped charging from one side, now i have to slip the pin to charge from other side, but i will update and let know for how long does it work,,It’s good. Not sure about durability as the pin area feels a bit fragile,Does not support apple carplaySo was little disappointed about thatOther than that cable is made up of very good quality,Best to buy,100% NOT FATHFUL,Writing this review post 10 months and 3 orders of the same product.Honestly Portronics Konnect L lightning cable works like magic with the original Apple charging brick.Seeing the price of the cable I initially hesitated buying as it was as low as ₹99/- with the offers and so I wasn’t sure if it would work well with my iPhone 12 or whether it would impact my iPhone’s battery health because all the other lightning cable brands were costing over ₹350/- like Wayona, Amazon Basics, etc.Earlier I was using Wayona Brand lightning cable with eventually frayed and stopped working.Charging Speed:Charges my iPhone fast enough almost similar compared to the original cable level when used with 12W Original Apple power adapter.Quality and Durability:Great quality braided cable and doesn’t tangle easily and can withstand day-to-day usage.L-Shaped pin:This is very innovative by Portronics and it makes sure the cable doesn’t get damaged even if used while charging.CarPlay and Data Sync:Works smoothly with CarPlay and syncs data effortlessly.PS: I have used this cable only with the Original Apple Charging Brick and extremely satisfied with its performance.,Better than I expect the product I like that Quality and I plan to buy same type cable come with usb C to Lighting cable for emergency purpose that much I love this cable. Buy for this cable only emergency uses only since Good one,Good product and value for money",
         "https://m.media-amazon.com/images/W/WEBP_402378-T2/images/I/31VzNhhqifL._SX300_SY300_QL70_FMwebp_.jpg",
         "https://www.amazon.in/Portronics-Konnect-POR-1080-Charging-Function/dp/B08CF3B7N1/ref=sr_1_5?qid=1672909124&s=electronics&sr=1-5"
        ],
        [
         "B08Y1TFSP6",
         "pTron Solero TB301 3A Type-C Data and Fast Charging Cable, Made in India, 480Mbps Data Sync, Strong and Durable 1.5-Meter Nylon Braided USB Cable for Type-C Devices for Charging Adapter (Black)",
         "Computers&Accessories|Accessories&Peripherals|Cables&Accessories|Cables|USBCables",
         "₹149",
         "₹1,000",
         "85%",
         "3.9",
         "24,871",
         "Fast Charging & Data Sync: Solero TB301 Type-C cable supports fast charge up to 5V/3A for devices and data syncing speed up to 480Mbps.|Universal Compatibility: This USB charging cable connects USB Type-C devices with standard USB devices like laptops, hard drives, power banks, wall and car chargers, etc..Connector One: Reversible Type C|Connector Two: USB A Type|Rough & Tough Type-C Cable: Charging cable with a double-braided exterior, premium aramid fiber core and metal plugs. It has passed 10,000 bending tests and can easily withstand daily use.|Extended Length: 1.5-meter long c-type cable uses nylon material to protect the wire and avoid knots.|Perfect Fit Connectors: pTron Soler USB-C has passed the 5KG load test, swing test, 5000+ times connect & disconnect to ensure that there are no loose connections.",
         "AEQ2YMXSZWEOHK2EHTNLOS56YTZQ,AGRVINWECNY7323CWFXZYYIZOFTQ,AHBAT6VLOXWGYDL57KHCNCLPXAKA,AF7NDY2H6JVYTSQOZP76GCATQ34Q,AFV7ZA733ZLME4KNLZPMPCBUNPPA,AHFAAPSY2MJ5HYOU2VQDJ7AQY4NQ,AH2WGV2PEBUTICRPBEEVKF24G5LA,AEP4MK3EKOBDKTGPJTRN5RBDIODA",
         "Jayesh,Rajesh k.,Soopy,amazon customer,Aman,Shankar,dinesh,Chitra,Ajaybabu.O.M",
         "R7S8ANNSDPR40,R3CLZFLHVJU26P,RFF7U7MPQFUGR,R1MV1NKC23DWPI,R11D3U0V2XKDKF,R18MP1KLUE18PC,RWGJNVEH5ZQME,R1XN72FU6Q37IH",
         "It's pretty good,Average quality,very good and useful usb cable,Good USB cable. My experience was very good it is long lasting,Good,Nice product and useful,-,Sturdy but does not support 33w charging",
         "It's a good product.,Like,Very good item strong and useful USB cableValue for moneyThanks to amazon and producer,https://m.media-amazon.com/images/I/51112ZRE-1L._SY88.jpg,Good,Nice product and useful product,-,Sturdy but does not support 33w charging",
         "https://m.media-amazon.com/images/I/31wOPjcSxlL._SX300_SY300_QL70_FMwebp_.jpg",
         "https://www.amazon.in/Solero-TB301-Charging-480Mbps-1-5-Meter/dp/B08Y1TFSP6/ref=sr_1_6?qid=1672909124&s=electronics&sr=1-6"
        ],
        [
         "B08WRWPM22",
         "boAt Micro USB 55 Tangle-free, Sturdy Micro USB Cable with 3A Fast Charging & 480mbps Data Transmission (Black)",
         "Computers&Accessories|Accessories&Peripherals|Cables&Accessories|Cables|USBCables",
         "₹176.63",
         "₹499",
         "65%",
         "4.1",
         "15,188",
         "It Ensures High Speed Transmission And Charging By Offering 3A Fast Charging And Data Transmissions With Rapid Sync At 480 Mbps|The Braided Skin Makes It Durable And Invincible Against External Damage So You Can Have An Absolute Hassle-Free & Tangle Free Experience|Its Durable Pvc Housing And The Flexible Design Makes It Last 6 Times Longer Than Other Cables|Usb Cable Offers A Perfect 1.5 Meters In Length For Smooth & Hassle-Free User Experience For Superior Charging & Data Transfer Tasks|The Compact And Smooth Aluminium Connector Fits Most Cases Seamlessly And Resists Corrosion For Signal Purity|Micro Usb 55 Cable Offers Universal Compatibility As It Is Compatible With Most Android Smartphones, Tablets, Pc Peripherals, Bluetooth Speakers, Power Banks, Game Consoles & All Micro-Usb Enabled Devices|2 years warranty from the date of purchase",
         "AG7C6DAADCTRQJG2BRS3RIKDT52Q,AFU7BOMPVJ7Q3TTA4G67RASTGYIQ,AER5ZGIXXVYG3AWZTRZT7M2BYCEA,AHE76XQSOLGOP5ZEKTIW6KUPDWBQ,AGXTMB2XHZBEWZ2UIX7ODZ4XTU6Q,AHNM2XVU745EDPNGUOAG74PTSNRA,AH5RWQ4S72IVLZD6O75OPCFIVDXQ,AG322TYKVPLPBDXE7ABEUK5QTALQ",
         "Vivek kumar,Amazon Customer,SARTHAK,Chiranjeevi,V V GIRI KUMAR,Rajnandini,Akshay Talla,sudhanshu chaubey",
         "R8E73K2KWJRDS,RSD0JTIIWQQL8,R64CRSTE9SLW1,R2FRTNIIUFJE1F,RWGNX3W7UOJ7W,R32TYHHODHTF5D,RQL9ZMQUTY7P2,R280XJ5VZUBOXV",
         "Long durable.,good,Does not charge Lenovo m8 tab,Best charging cable,good,Boat,Product was good,1.5 m का केबल मेरे लिए बहुत ही लाभदायक है ।",
         "Build quality is good and it is comes with 2 year warranty.,Good Product,Bought it for charging my mobile & tab but it doesn't work for Lenovo m8 tab,Guys this cable is is best compare of everyone over heat protection, quickly charging, but chance to shock circuit,good,Nice,Good quality,1.5एम का डाटा केबल मेरे लिए बहुत ही लाभदायक है ।  मैं इस केबल को लाइन में चार्ज करते समय फोन बहुत आराम से उपयोग  कर पा रहा हु । आप इस केबल से 15watt का  चार्जर उसे कर सकते है (इससे जड़ा नही) । लोकल बाजार में इसका दाम 150 है ,  अमेजन पे ये केबल मुझे 67 में मिला । गर्व से कहो हम हिंदू है , जय हिंद जय भारत ,",
         "https://m.media-amazon.com/images/W/WEBP_402378-T2/images/I/41jlwEZpa5L._SX300_SY300_QL70_FMwebp_.jpg",
         "https://www.amazon.in/boAt-Micro-USB-Tangle-Free-Transmission/dp/B08WRWPM22/ref=sr_1_8?qid=1672909124&s=electronics&sr=1-8"
        ],
        [
         "B08DDRGWTJ",
         "MI Usb Type-C Cable Smartphone (Black)",
         "Computers&Accessories|Accessories&Peripherals|Cables&Accessories|Cables|USBCables",
         "₹229",
         "₹299",
         "23%",
         "4.3",
         "30,411",
         "1m long Type-C USB Cable|Sturdy and Durable. With USB cable you can transfer data with speeds of upto 480 Mbps|Upto 3A output|6months warranty|Sturdy and Durable. With USB cable you can transfer data with speeds of upto 480 Mbps|6months warranty|Up To 3A Output",
         "AHW6E5LQ2BDYOIVLAJGDH45J5V5Q,AF74RSGCHPZITVFSZN76K6GKPICA,AHDD7ZNB47QA2JLYU53HD4ML3VNQ,AHV3ELGDSOWBYUQLXSPDCSHBQRHQ,AEJU4L3ZM2GTILSJZZSNSF6VUOIA,AFVD66VQMSHPDT3A6HBBBGKRXBZA,AELKHQXVSSG6NHXLFJLLNEFRQQUQ,AGYSMAC6V6RFJJOHG2FIRPOZ6CSQ",
         "Pavan A H,Jayesh bagad,Shridhar,rajendran,karuppu k,Akshay wani,Abbimaniu Singh,VISHAL H BADSHE",
         "R2X090D1YHACKR,R32ZCIH9AFNJ60,R3N57EVVG0EHAF,R3QWLE8JHROKC1,R2VTSDOOUTSQ5X,R3E6FZ75Q074KH,R1SYBQLTPFCW20,RYQT96J8HPIXE",
         "Worth for money - suitable for Android auto,Good Product,Length,Nice,Original,Very good quay Cable support fast charging.,Original MI cable for charging upto 33 watt,I am veri happy with this product as it provide turbo charging.",
         "Worth for money - suitable for Android auto... my purpose served in car....got it for Rs.150,Everything is Okay. But packaging is not good feeling like seller gave is used cable.,Good product,Good product but cost is more.,Original cable,I bought this cable at 129. Using this cable for Android auto in my car. Perfectly works without any glitch.,Original MI cable. Will charge upto 33 watts. Got it for Rs 150.  I have 67 watt charger and I want a cable for my car so I went for it. I checked the performance with battery charging app. The charging speed is exactly half of my 67 watt original cable. Go for it.,It provided me turbo charging. I recommend for all Redmi note 10s mobile phones. As it provide turbo charging. I am veri happy with this product.",
         "https://m.media-amazon.com/images/I/31XO-wfGGGL._SX300_SY300_QL70_FMwebp_.jpg",
         "https://www.amazon.in/MI-MTCY001IN-USB-Type-C-Cable/dp/B08DDRGWTJ/ref=sr_1_9?qid=1672909124&s=electronics&sr=1-9"
        ],
        [
         "B008IFXQFU",
         "TP-Link USB WiFi Adapter for PC(TL-WN725N), N150 Wireless Network Adapter for Desktop - Nano Size WiFi Dongle Compatible with Windows 11/10/7/8/8.1/XP/ Mac OS 10.9-10.15 Linux Kernel 2.6.18-4.4.3",
         "Computers&Accessories|NetworkingDevices|NetworkAdapters|WirelessUSBAdapters",
         "₹499",
         "₹999",
         "50%",
         "4.2",
         "1,79,691",
         "USB WiFi Adapter —— Speedy wireless transmission at up to 150Mbps ideal for video streaming or internet calls|Mini Design —— Sleek miniature design so small that once plugged in, can be left in a Laptop’s USB port|Advanced Security —— Supports 64/128 WEP, WPA, PA2/WPA-PSK/WPA2-PSK(TKIP/AES)|Compatibility —— Windows 11/10/8.1/8/7/XP, Mac OS 10.15 and earlier, Linux|Easy Setup —— Connect in no time with easy setup utility in 14 languages|In an unlikely case of product quality related issue, we may ask you to reach out to brand’s customer service support and seek resolution. We will require brand proof of issue to process replacement request",
         "AGV3IEFANZCKECFGUM42MRH5FNOA,AEBO7NWCNXKT4AESAN443HQH35FQ,AE7GD3VRRYQEAHDR7FXJIR23INYA,AHPAW24BI5X2GCX5M2LHI72VSJJQ,AE2VXY4CFO36MDSIMPG43XHNF4GA,AHHQEKUNVETALN7DTRHUQ2WAWEKQ,AFMIFTNTUD5PIHGONWOTRMMZ5EBA,AHOJBIZVVIIFJKRREY4B6ESVA4KA",
         "Azhar JuMan,Anirudh Sood,Hari Krishnan PS,Akash Jindal,PRADEEP,Rajesh,Divya Kothari,abhijit",
         "R1LW6NWSVTVZ2H,R3VR5WFKUS15C5,R2F6GC79OYWUKQ,R3QZ19MECGWG9A,R2MPU42MYK7GPO,R33DVXFB4VYPZZ,R1SQ7OGFR4JRUR,R1S5F9QI0M1VBZ",
         "Works on linux for me. Get the model with antenna.,Does what it say but other brands available at lesser price,Easy Handle,Great product,Perfect working,Speed is perfect,Great Design, Build, Connectivity Range, Packaging and other features but no linux support since v2,Very good",
         "I use this to connect an old PC to internet. I tried lubuntu 20 and ubuntu 22, it worked out of the box in both, didn't have to do any setup. There's an extender cable so you can place this in a comfortable place. Get the model with antenna because otherwise you'll have range problems if you're not directly in line of sight from your wifi router.,The wifi dongle is a simple plug & play device, will start catching available networks right after you plug it into your USB port, no additional installations/ softwares requires. Signal strength is good.... just wonder what would be different in other adapters of lesser known brands which are available at a much more competitive pricing, hence a star less.,Pros:*Easy to use & Portable*Can be connected to Mobile Hotspot and used in PC( Budget Friendly)*Less installation process*No heating issues & Good Coverage*Best alternative for USB Tethering (phone's battery may get damaged for long term run with Tethering)Cons:*Internet connection speed varies at times, also depends on your modem or cellular connection*Issues occur while installing via CD, which is available along with the product( Installation driver can be downloaded from TP-Link site)*Needed to reconnect the adapter every time system is turned ON*Will not work if your software has some issues, so encountered any just update your system(worked for me)*Support Center is worse, calls are unattended most of the times or just visit nearby storeConclusion:Brought this @499/-Ideal for users who don't need very high speed internet usage,a good alternative for USB Tethering and are on Budge(1080p Youtube videos can be easily played with this without any interruptions),wifi connectivity is a great good result for me. however, some jitter problems did exist.,This is perfect device to connect wifi. Go for it.,This wifi adopter is good working,(Pictures attached)Size/Design:  ★ ★ ★ ★ ★Build Quality: ★ ★ ★ ★ ★Packaging:  ★ ★ ★ ★ ★Software:  ★ ★ ★ ★Speed:  ★ ★ ★ ★ ★Connectivity:  ★ ★ ★ ★ ★Experience:  ★ ★ ★ ★ ★Warranty:  ★ ★ ★ ★ ★Size and Design:The best part about this is that it is very compact in size and very sober and elegant in design. This is a big plus as it is easy plug in and use, add to it the good sober design.Build Quality:The build quality is undoubtedly superb. Just no qualms about that, at all. When held, it doesnt give off that cheap and flimsy product-like feeling. It is good sturdy with its build quality.Packaging:This part is also a big plus as the item was well cushioned and packaged with all the necessary items that ensured that no damage could have been caused to the product during transportation. This ensures that I as a customer have received something not damaged internally already.Software:This is actually good but not great part with the product.The good part is that a CD has been provided with it along with a manual.The not great part is that NO LINUX SUPPORT has been given from Version 2 onwards. This is bad, really.Speed:It easily supports net speeds upto 300 Mbps. Practically speaking, I have tested it at my home and it easily supports net speed of over 100-150 Mbps without a sigh.On testing I found that it did connect to 5GHz network, without any issue.Connectivity:Please mark its not feet its metres. Multiply metres x 3 to get the distance in feet.It easily connects to my laptop or phone from 7 metres across one room. So thats 21 feet. I mean even our old bluetooth used to connect to about 15 ft.So 20-25 feet is not at all an issue with this. This is the big plus I found with the product.Experience:From this point of view, so far except the linux non-compatibility issue, I found no other flaws with this product.So overall its a great product.Warranty:Its 3 years so I am assured that atleast for 3 years I am tension-free and not just 1 year, contrary to most electronic items today that only provide 1 year warranty with their items.,Best adapter I have bought ever. Works nicely seemless connectivity",
         "https://m.media-amazon.com/images/W/WEBP_402378-T2/images/I/31e6ElWRymL._SX300_SY300_QL70_FMwebp_.jpg",
         "https://www.amazon.in/TP-Link-TL-WN725N-150Mbps-Wireless-Adapter/dp/B008IFXQFU/ref=sr_1_10?qid=1672909124&s=electronics&sr=1-10"
        ],
        [
         "B082LZGK39",
         "Ambrane Unbreakable 60W / 3A Fast Charging 1.5m Braided Micro USB Cable for Smartphones, Tablets, Laptops & Other Micro USB Devices, 480Mbps Data Sync, Quick Charge 3.0 (RCM15, Black)",
         "Computers&Accessories|Accessories&Peripherals|Cables&Accessories|Cables|USBCables",
         "₹199",
         "₹299",
         "33%",
         "4.0",
         "43,994",
         "Universal Compatibility – It is compatible with all Micro USB enabled devices, be it an android smartphone, tablet, PC peripheral or any other micro USB compatible device|Unbreakable – Made of special braided outer with rugged interior bindings, it is ultra-durable cable that won’t be affected by daily rough usage|Ideal Length – It has ideal length of 1.5 meters which is neither too short like your typical 1meter cable or too long like a 2meters cable|Supports maximum 3A fast charging and 480 Mbps data transfer speed|6 Months manufacturer warranty from the date of purchase.",
         "AECPFYFQVRUWC3KGNLJIOREFP5LQ,AGYYVPDD7YG7FYNBXNGXZJT525AQ,AHONIZU3ICIEHQIGQ6R2VFRSBXOQ,AFPHD2CRPDZMWMBL7WXRSVYWS5JA,AEZ346GX3HJ4O4XNRPHCNHXQURMQ,AEPSWFPNECKO34PUC7I56ITGXR6Q,AHWVEHR5DYLVFTO2KF3IZATFQSWQ,AH4QT33M55677I7ISQOAKEQWACYQ",
         "ArdKn,Nirbhay kumar,Sagar Viswanathan,Asp,Placeholder,BharanI,sonia,Niam",
         "RGIQEG07R9HS2,R1SMWZQ86XIN8U,R2J3Y1WL29GWDE,RYGGS0M09S3KY,R17KQRUTAN5DKS,R3AAQGS6HP2QUK,R1HDNOG6TO2CCA,R3PHKXYA5AFEOU",
         "A Good Braided Cable for Your Type C Device,Good quality product from ambrane,Super cable,As,Good quality,Good product,its good,Good quality for the price but one issue with my unit",
         "I ordered this cable to connect my phone to Android Auto of car. The cable is really strong and the connection ports are really well made. I already has a Micro USB cable from Ambrane and it's still in good shape. I connected my phone to the car using the cable and it got connected well and no issues. I also connected it to the charging port and yes it has Fast Charging support.,It quality is good at this price and the main thing is that i didn't ever thought that this cable will be so long it's good one and charging power is too good and also supports fast charging,Value for money, with extra length\uD83D\uDC4D,Good, working fine,Product quality is good,Good,very good,Bought for my daughter's old phone.Brand new cable it was not charging, I already repacked and requested for replacement.I checked again, and there was some green colour paste/fungus inside the micro USB connector. I cleaned with an alcoholic and starts working again.Checked the ampere of charging speed got around 1400ma-1500ma - not bad, came with braided 1.5m long cable, pretty impressive for the price.Can't blame the manufacturer.But quality issues by the distributor, they might have stored in very humid place.",
         "https://m.media-amazon.com/images/W/WEBP_402378-T2/images/I/31kj3q4SepL._SY445_SX342_QL70_FMwebp_.jpg",
         "https://www.amazon.in/Ambrane-Unbreakable-Charging-Braided-Android/dp/B082LZGK39/ref=sr_1_11?qid=1672909124&s=electronics&sr=1-11"
        ]
       ],
       "datasetInfos": [],
       "dbfsResultPath": null,
       "isJsonSchema": true,
       "metadata": {},
       "overflow": false,
       "plotOptions": {
        "customPlotOptions": {},
        "displayType": "table",
        "pivotAggregation": null,
        "pivotColumns": null,
        "xColumns": null,
        "yColumns": null
       },
       "removedWidgets": [],
       "schema": [
        {
         "metadata": "{}",
         "name": "product_id",
         "type": "\"string\""
        },
        {
         "metadata": "{}",
         "name": "product_name",
         "type": "\"string\""
        },
        {
         "metadata": "{}",
         "name": "category",
         "type": "\"string\""
        },
        {
         "metadata": "{}",
         "name": "discounted_price",
         "type": "\"string\""
        },
        {
         "metadata": "{}",
         "name": "actual_price",
         "type": "\"string\""
        },
        {
         "metadata": "{}",
         "name": "discount_percentage",
         "type": "\"string\""
        },
        {
         "metadata": "{}",
         "name": "rating",
         "type": "\"string\""
        },
        {
         "metadata": "{}",
         "name": "rating_count",
         "type": "\"string\""
        },
        {
         "metadata": "{}",
         "name": "about_product",
         "type": "\"string\""
        },
        {
         "metadata": "{}",
         "name": "user_id",
         "type": "\"string\""
        },
        {
         "metadata": "{}",
         "name": "user_name",
         "type": "\"string\""
        },
        {
         "metadata": "{}",
         "name": "review_id",
         "type": "\"string\""
        },
        {
         "metadata": "{}",
         "name": "review_title",
         "type": "\"string\""
        },
        {
         "metadata": "{}",
         "name": "review_content",
         "type": "\"string\""
        },
        {
         "metadata": "{}",
         "name": "img_link",
         "type": "\"string\""
        },
        {
         "metadata": "{}",
         "name": "product_link",
         "type": "\"string\""
        }
       ],
       "type": "table"
      }
     },
     "output_type": "display_data"
    }
   ],
   "source": [
    "df_bronze = spark.read.csv(\n",
    "    \"/Volumes/workspace/storage/s1/amazon.csv\",\n",
    "    header=True,\n",
    "    inferSchema=True\n",
    ")\n",
    "\n",
    "display(df_bronze.limit(10))\n"
   ]
  },
  {
   "cell_type": "markdown",
   "metadata": {
    "application/vnd.databricks.v1+cell": {
     "cellMetadata": {},
     "inputWidgets": {},
     "nuid": "e47db872-3eca-44b0-8f04-899df6d8ed6e",
     "showTitle": false,
     "tableResultSettingsMap": {},
     "title": ""
    }
   },
   "source": [
    "**Silver Layer: Cleaning**\n",
    "- It will remove unwanted symbols (₹, %, commas) from price fields\n",
    "- It will convert discounted_price, actual_price, discount_percentage to DOUBLE\n",
    "- It will convert rating to DOUBLE, rating_count to INT\n",
    "- I used try_cast to handle malformed values (set them to NULL instead of failing)\n",
    "- Saved as 'amazon_silver' Delta table"
   ]
  },
  {
   "cell_type": "code",
   "execution_count": 0,
   "metadata": {
    "application/vnd.databricks.v1+cell": {
     "cellMetadata": {
      "byteLimit": 2048000,
      "rowLimit": 10000
     },
     "inputWidgets": {},
     "nuid": "e353d607-aecd-4f9b-94f0-e14f24f987d5",
     "showTitle": false,
     "tableResultSettingsMap": {},
     "title": ""
    }
   },
   "outputs": [
    {
     "output_type": "display_data",
     "data": {
      "text/html": [
       "<style scoped>\n",
       "  .table-result-container {\n",
       "    max-height: 300px;\n",
       "    overflow: auto;\n",
       "  }\n",
       "  table, th, td {\n",
       "    border: 1px solid black;\n",
       "    border-collapse: collapse;\n",
       "  }\n",
       "  th, td {\n",
       "    padding: 5px;\n",
       "  }\n",
       "  th {\n",
       "    text-align: left;\n",
       "  }\n",
       "</style><div class='table-result-container'><table class='table-result'><thead style='background-color: white'><tr><th>product_id</th><th>product_name</th><th>category</th><th>discounted_price</th><th>actual_price</th><th>discount_percentage</th><th>rating</th><th>rating_count</th><th>about_product</th><th>user_id</th><th>user_name</th><th>review_id</th><th>review_title</th><th>review_content</th><th>img_link</th><th>product_link</th></tr></thead><tbody><tr><td>B07JW9H4J1</td><td>Wayona Nylon Braided USB to Lightning Fast Charging and Data Sync Cable Compatible for iPhone 13, 12,11, X, 8, 7, 6, 5, iPad Air, Pro, Mini (3 FT Pack of 1, Grey)</td><td>Computers&Accessories|Accessories&Peripherals|Cables&Accessories|Cables|USBCables</td><td>399.0</td><td>1099.0</td><td>64.0</td><td>4.2</td><td>null</td><td>High Compatibility : Compatible With iPhone 12, 11, X/XsMax/Xr ,iPhone 8/8 Plus,iPhone 7/7 Plus,iPhone 6s/6s Plus,iPhone 6/6 Plus,iPhone 5/5s/5c/se,iPad Pro,iPad Air 1/2,iPad mini 1/2/3,iPod nano7,iPod touch and more apple devices.|Fast Charge&Data Sync : It can charge and sync simultaneously at a rapid speed, Compatible with any charging adaptor, multi-port charging station or power bank.|Durability : Durable nylon braided design with premium aluminum housing and toughened nylon fiber wound tightly around the cord lending it superior durability and adding a bit to its flexibility.|High Security Level : It is designed to fully protect your device from damaging excessive current.Copper core thick+Multilayer shielding, Anti-interference, Protective circuit equipment.|WARRANTY: 12 months warranty and friendly customer services, ensures the long-time enjoyment of your purchase. If you meet any question or problem, please don't hesitate to contact us.</td><td>AG3D6O4STAQKAY2UVGEUV46KN35Q,AHMY5CWJMMK5BJRBBSNLYT3ONILA,AHCTC6ULH4XB6YHDY6PCH2R772LQ,AGYHHIERNXKA6P5T7CZLXKVPT7IQ,AG4OGOFWXJZTQ2HKYIOCOY3KXF2Q,AENGU523SXMOS7JPDTW52PNNVWGQ,AEQJHCVTNINBS4FKTBGQRQTGTE5Q,AFC3FFC5PKFF5PMA52S3VCHOZ5FQ</td><td>Manav,Adarsh gupta,Sundeep,S.Sayeed Ahmed,jaspreet singh,Khaja moin,Anand,S.ARUMUGAM</td><td>R3HXWT0LRP0NMF,R2AJM3LFTLZHFO,R6AQJGUP6P86,R1KD19VHEDV0OR,R3C02RMYQMK6FC,R39GQRVBUZBWGY,R2K9EDOE15QIRJ,R3OI7YT648TL8I</td><td>Satisfied,Charging is really fast,Value for money,Product review,Good quality,Good product,Good Product,As of now seems good</td><td>Looks durable Charging is fine tooNo complains,Charging is really fast, good product.,Till now satisfied with the quality.,This is a good product . The charging speed is slower than the original iPhone cable,Good quality, would recommend,https://m.media-amazon.com/images/W/WEBP_402378-T1/images/I/81---F1ZgHL._SY88.jpg,Product had worked well till date and was having no issue.Cable is also sturdy enough...Have asked for replacement and company is doing the same...,Value for money</td><td>https://m.media-amazon.com/images/W/WEBP_402378-T1/images/I/51UsScvHQNL._SX300_SY300_QL70_FMwebp_.jpg</td><td>https://www.amazon.in/Wayona-Braided-WN3LG1-Syncing-Charging/dp/B07JW9H4J1/ref=sr_1_1?qid=1672909124&s=electronics&sr=1-1</td></tr><tr><td>B098NS6PVG</td><td>Ambrane Unbreakable 60W / 3A Fast Charging 1.5m Braided Type C Cable for Smartphones, Tablets, Laptops & other Type C devices, PD Technology, 480Mbps Data Sync, Quick Charge 3.0 (RCT15A, Black)</td><td>Computers&Accessories|Accessories&Peripherals|Cables&Accessories|Cables|USBCables</td><td>199.0</td><td>349.0</td><td>43.0</td><td>4.0</td><td>null</td><td>Compatible with all Type C enabled devices, be it an android smartphone (Mi, Samsung, Oppo, Vivo, Realme, OnePlus, etc), tablet, laptop (Macbook, Chromebook, etc)|Supports Quick Charging (2.0/3.0)|Unbreakable – Made of special braided outer with rugged interior bindings, it is ultra-durable cable that won’t be affected by daily rough usage|Ideal Length – It has ideal length of 1.5 meters which is neither too short like your typical 1meter cable or too long like a 2meters cable|Supports maximum 3A fast charging and 480 Mbps data transfer speed|6 months manufacturer warranty from the date of purchase</td><td>AECPFYFQVRUWC3KGNLJIOREFP5LQ,AGYYVPDD7YG7FYNBXNGXZJT525AQ,AHONIZU3ICIEHQIGQ6R2VFRSBXOQ,AFPHD2CRPDZMWMBL7WXRSVYWS5JA,AEZ346GX3HJ4O4XNRPHCNHXQURMQ,AEPSWFPNECKO34PUC7I56ITGXR6Q,AHWVEHR5DYLVFTO2KF3IZATFQSWQ,AH4QT33M55677I7ISQOAKEQWACYQ</td><td>ArdKn,Nirbhay kumar,Sagar Viswanathan,Asp,Placeholder,BharanI,sonia,Niam</td><td>RGIQEG07R9HS2,R1SMWZQ86XIN8U,R2J3Y1WL29GWDE,RYGGS0M09S3KY,R17KQRUTAN5DKS,R3AAQGS6HP2QUK,R1HDNOG6TO2CCA,R3PHKXYA5AFEOU</td><td>A Good Braided Cable for Your Type C Device,Good quality product from ambrane,Super cable,As,Good quality,Good product,its good,Good quality for the price but one issue with my unit</td><td>I ordered this cable to connect my phone to Android Auto of car. The cable is really strong and the connection ports are really well made. I already has a Micro USB cable from Ambrane and it's still in good shape. I connected my phone to the car using the cable and it got connected well and no issues. I also connected it to the charging port and yes it has Fast Charging support.,It quality is good at this price and the main thing is that i didn't ever thought that this cable will be so long it's good one and charging power is too good and also supports fast charging,Value for money, with extra length\uD83D\uDC4D,Good, working fine,Product quality is good,Good,very good,Bought for my daughter's old phone.Brand new cable it was not charging, I already repacked and requested for replacement.I checked again, and there was some green colour paste/fungus inside the micro USB connector. I cleaned with an alcoholic and starts working again.Checked the ampere of charging speed got around 1400ma-1500ma - not bad, came with braided 1.5m long cable, pretty impressive for the price.Can't blame the manufacturer.But quality issues by the distributor, they might have stored in very humid place.</td><td>https://m.media-amazon.com/images/W/WEBP_402378-T2/images/I/31zOsqQOAOL._SY445_SX342_QL70_FMwebp_.jpg</td><td>https://www.amazon.in/Ambrane-Unbreakable-Charging-Braided-Cable/dp/B098NS6PVG/ref=sr_1_2?qid=1672909124&s=electronics&sr=1-2</td></tr><tr><td>B096MSW6CT</td><td>Sounce Fast Phone Charging Cable & Data Sync USB Cable Compatible for iPhone 13, 12,11, X, 8, 7, 6, 5, iPad Air, Pro, Mini & iOS Devices</td><td>Computers&Accessories|Accessories&Peripherals|Cables&Accessories|Cables|USBCables</td><td>199.0</td><td>1899.0</td><td>90.0</td><td>3.9</td><td>null</td><td>【 Fast Charger& Data Sync】-With built-in safety proctections and four-core copper wires promote maximum signal quality and strength and enhance charging & data transfer speed with up to 480 mb/s transferring speed.|【 Compatibility】-Compatible with iPhone 13, 12,11, X, 8, 7, 6, 5, iPad Air, Pro, Mini & iOS devices.|【 Sturdy & Durable】-The jacket and enforced connector made of TPE and premium copper, are resistant to repeatedly bending and coiling.|【 Ultra High Quality】: According to the experimental results, the fishbone design can accept at least 20,000 bending and insertion tests for extra protection and durability. Upgraded 3D aluminum connector and exclusive laser welding technology, which to ensure the metal part won't break and also have a tighter connection which fits well even with a protective case on and will never loose connection.|【 Good After Sales Service】-Our friendly and reliable customer service will respond to you within 24 hours ! you can purchase with confidence,and every sale includes a 365-day worry-free Service to prove the importance we set on quality.</td><td>AGU3BBQ2V2DDAMOAKGFAWDDQ6QHA,AESFLDV2PT363T2AQLWQOWZ4N3OA,AHTPQRIMGUD4BYR5YIHBH3CCGEFQ,AEUVWXYP5LT7PZLLZENEO2NODPBQ,AHC7MPW55DOO6WNCOQVA2VHOD26A,AFDI6FRPFBTNBG7BAEB7JDJSMKDQ,AFQKCEEEKXCOHTDG4WUN3XPPHJQQ,AHKUUFNMBZIDLSSPA4FEHIO2EC7Q</td><td>Kunal,Himanshu,viswanath,sai niharka,saqib malik,Aashiq,Ramu Challa,Sanjay gupta</td><td>R3J3EQQ9TZI5ZJ,R3E7WBGK7ID0KV,RWU79XKQ6I1QF,R25X4TBMPY91LX,R27OK7G99VK0TR,R207CYDCHJJTCJ,R3PCU8XMU173BT,R1IMONDOWRNU5V</td><td>Good speed for earlier versions,Good Product,Working good,Good for the price,Good,Worth for money,Working nice,it's a really nice product</td><td>Not quite durable and sturdy,https://m.media-amazon.com/images/W/WEBP_402378-T1/images/I/71rIggrbUCL._SY88.jpg,Working good,https://m.media-amazon.com/images/W/WEBP_402378-T1/images/I/61bKp9YO6wL._SY88.jpg,Product,Very nice product,Working well,It's a really nice product</td><td>https://m.media-amazon.com/images/W/WEBP_402378-T1/images/I/31IvNJZnmdL._SY445_SX342_QL70_FMwebp_.jpg</td><td>https://www.amazon.in/Sounce-iPhone-Charging-Compatible-Devices/dp/B096MSW6CT/ref=sr_1_3?qid=1672909124&s=electronics&sr=1-3</td></tr><tr><td>B08HDJ86NZ</td><td>boAt Deuce USB 300 2 in 1 Type-C & Micro USB Stress Resistant, Tangle-Free, Sturdy Cable with 3A Fast Charging & 480mbps Data Transmission, 10000+ Bends Lifespan and Extended 1.5m Length(Martian Red)</td><td>Computers&Accessories|Accessories&Peripherals|Cables&Accessories|Cables|USBCables</td><td>329.0</td><td>699.0</td><td>53.0</td><td>4.2</td><td>null</td><td>The boAt Deuce USB 300 2 in 1 cable is compatible with smartphones, tablets, PC peripherals, Bluetooth speakers, power banks and all other devices with Type-C as well as Micro USB port|It ensures 3A fast charging and data transmissions with rapid sync at 480 mbps|The premium Nylon braided skin makes it sturdy and invincible against external damage|Its Aluminium alloy shell housing makes it last longer with 10000+ Bends Lifespan with extended frame protection for strain relief|The resilient and flexible design offers a tangle free experience seamlessly|Deuce USB 300 cable offers a perfect 1.5 meters in length for smooth & hassle-free user experience|2 years warranty from the date of purchase</td><td>AEWAZDZZJLQUYVOVGBEUKSLXHQ5A,AG5HTSFRRE6NL3M5SGCUQBP7YSCA,AH725ST5NW2Y4JZPKUNTIJCUK2BA,AHV3TXIFCJPMS4D5JATCEUR266MQ,AGWIGDEMFIIUAOXYY2QATNBSUGHA,AFSTSLQUV4EVEXWKBOLEFHL2H5YQ,AGAKDNBHY2FKX7I4ACRGILU7QL7A,AFNWJUWJRHCC6HN52KMG5AKZY37Q</td><td>Omkar dhale,JD,HEMALATHA,Ajwadh a.,amar singh chouhan,Ravi Siddan,Himanshu Goel,Udaykumar</td><td>R3EEUZKKK9J36I,R3HJVYCLYOY554,REDECAZ7AMPQC,R1CLH2ULIVG5U3,R2DMKIBGFKBD6R,RC89B5IAJUTR5,R3B3DDON5FH8DS,R13WAEJDI5RS36</td><td>Good product,Good one,Nice,Really nice product,Very first time change,Good,Fine product but could be better,Very nice it's charging like jet</td><td>Good product,long wire,Charges good,Nice,I bought this cable for Rs.339 worthy product for this price, i tested it in various charger adapters 33w and 18w it supports fast charging as well.,Good,Ok,I had got this at good price on sale on Amazon and product is useful with warranty but for warranty you need to go very far not practical for such a cost and mine micro to type c connector stopped working after few days only.,I like this product</td><td>https://m.media-amazon.com/images/I/41V5FtEWPkL._SX300_SY300_QL70_FMwebp_.jpg</td><td>https://www.amazon.in/Deuce-300-Resistant-Tangle-Free-Transmission/dp/B08HDJ86NZ/ref=sr_1_4?qid=1672909124&s=electronics&sr=1-4</td></tr><tr><td>B08CF3B7N1</td><td>Portronics Konnect L 1.2M Fast Charging 3A 8 Pin USB Cable with Charge & Sync Function for iPhone, iPad (Grey)</td><td>Computers&Accessories|Accessories&Peripherals|Cables&Accessories|Cables|USBCables</td><td>154.0</td><td>399.0</td><td>61.0</td><td>4.2</td><td>null</td><td>[CHARGE & SYNC FUNCTION]- This cable comes with charging & Data sync function|[HIGH QUALITY MATERIAL]- TPE + Nylon Material to make sure that the life of the cable is enhanced significantly|[LONG CORD]- The Cable is extra thick 1.2 meter long, optimized for an easy use for your comfort at home or office|[MORE DURABLE]-This cable is unique interms of design and multi-use and is positioned to provide the best comfort and performance while using|[UNIVERSAL COMPATIBILITY]- Compatible with all devices like iPhone XS, X, XR, 8, 7, 6S, 6, 5S, iPad Pro, iPad mini and iPad Air</td><td>AE3Q6KSUK5P75D5HFYHCRAOLODSA,AFUGIFH5ZAFXRDSZHM4QB2KPKFUQ,AFK4NJOLFSJGWLOJIUIAROJF6YVA,AFUOTYRFUXVPEBGIXVZZ7DR3CZUA,AFDLRSXKDZ6U3U3KD46SQLFGZQRA,AH5VLM66SIK7J3IRG4NY7XVOQ55A,AE3MQNNHHLUHXURL5S7IAR7JTGNQ,AFSEOFZY67MYC7UAJU264Z5NFTLA</td><td>rahuls6099,Swasat Borah,Ajay Wadke,Pranali,RVK,Bhargav,Durai Vignesh,Amazon Customer</td><td>R1BP4L2HH9TFUP,R16PVJEXKV6QZS,R2UPDB81N66T4P,R3KK4GT934ST3I,RCFHMWUSBIJO,RDO7DACXMAJ84,R3A6MEZL3LY66Z,R1ESIEKPGAYA29</td><td>As good as original,Decent,Good one for secondary use,Best quality,GOOD,Amazing product at a mind blowing price!,Nice Quality,Good product</td><td>Bought this instead of original apple, does the work for 150rs, not as fast as apple charger but its a good option if you want cheap and good product, bought it for iPad pro 10.5 and it's working flawlessly, build quality is ok, its not like i am gonna hang my clothes on it and i want a very strong cable, even a braided cable stop working after a year, i have used both Anker and Apple store strong braided cable they all stop working after a year so please don't buy high end cables just for that instead choose a this one and even if it's stops working withing a year you only loose 150rs compares to 2000rs.UPDATE------------------------------------pin has stopped charging from one side, now i have to slip the pin to charge from other side, but i will update and let know for how long does it work,,It’s good. Not sure about durability as the pin area feels a bit fragile,Does not support apple carplaySo was little disappointed about thatOther than that cable is made up of very good quality,Best to buy,100% NOT FATHFUL,Writing this review post 10 months and 3 orders of the same product.Honestly Portronics Konnect L lightning cable works like magic with the original Apple charging brick.Seeing the price of the cable I initially hesitated buying as it was as low as ₹99/- with the offers and so I wasn’t sure if it would work well with my iPhone 12 or whether it would impact my iPhone’s battery health because all the other lightning cable brands were costing over ₹350/- like Wayona, Amazon Basics, etc.Earlier I was using Wayona Brand lightning cable with eventually frayed and stopped working.Charging Speed:Charges my iPhone fast enough almost similar compared to the original cable level when used with 12W Original Apple power adapter.Quality and Durability:Great quality braided cable and doesn’t tangle easily and can withstand day-to-day usage.L-Shaped pin:This is very innovative by Portronics and it makes sure the cable doesn’t get damaged even if used while charging.CarPlay and Data Sync:Works smoothly with CarPlay and syncs data effortlessly.PS: I have used this cable only with the Original Apple Charging Brick and extremely satisfied with its performance.,Better than I expect the product I like that Quality and I plan to buy same type cable come with usb C to Lighting cable for emergency purpose that much I love this cable. Buy for this cable only emergency uses only since Good one,Good product and value for money</td><td>https://m.media-amazon.com/images/W/WEBP_402378-T2/images/I/31VzNhhqifL._SX300_SY300_QL70_FMwebp_.jpg</td><td>https://www.amazon.in/Portronics-Konnect-POR-1080-Charging-Function/dp/B08CF3B7N1/ref=sr_1_5?qid=1672909124&s=electronics&sr=1-5</td></tr><tr><td>B08Y1TFSP6</td><td>pTron Solero TB301 3A Type-C Data and Fast Charging Cable, Made in India, 480Mbps Data Sync, Strong and Durable 1.5-Meter Nylon Braided USB Cable for Type-C Devices for Charging Adapter (Black)</td><td>Computers&Accessories|Accessories&Peripherals|Cables&Accessories|Cables|USBCables</td><td>149.0</td><td>1000.0</td><td>85.0</td><td>3.9</td><td>null</td><td>Fast Charging & Data Sync: Solero TB301 Type-C cable supports fast charge up to 5V/3A for devices and data syncing speed up to 480Mbps.|Universal Compatibility: This USB charging cable connects USB Type-C devices with standard USB devices like laptops, hard drives, power banks, wall and car chargers, etc..Connector One: Reversible Type C|Connector Two: USB A Type|Rough & Tough Type-C Cable: Charging cable with a double-braided exterior, premium aramid fiber core and metal plugs. It has passed 10,000 bending tests and can easily withstand daily use.|Extended Length: 1.5-meter long c-type cable uses nylon material to protect the wire and avoid knots.|Perfect Fit Connectors: pTron Soler USB-C has passed the 5KG load test, swing test, 5000+ times connect & disconnect to ensure that there are no loose connections.</td><td>AEQ2YMXSZWEOHK2EHTNLOS56YTZQ,AGRVINWECNY7323CWFXZYYIZOFTQ,AHBAT6VLOXWGYDL57KHCNCLPXAKA,AF7NDY2H6JVYTSQOZP76GCATQ34Q,AFV7ZA733ZLME4KNLZPMPCBUNPPA,AHFAAPSY2MJ5HYOU2VQDJ7AQY4NQ,AH2WGV2PEBUTICRPBEEVKF24G5LA,AEP4MK3EKOBDKTGPJTRN5RBDIODA</td><td>Jayesh,Rajesh k.,Soopy,amazon customer,Aman,Shankar,dinesh,Chitra,Ajaybabu.O.M</td><td>R7S8ANNSDPR40,R3CLZFLHVJU26P,RFF7U7MPQFUGR,R1MV1NKC23DWPI,R11D3U0V2XKDKF,R18MP1KLUE18PC,RWGJNVEH5ZQME,R1XN72FU6Q37IH</td><td>It's pretty good,Average quality,very good and useful usb cable,Good USB cable. My experience was very good it is long lasting,Good,Nice product and useful,-,Sturdy but does not support 33w charging</td><td>It's a good product.,Like,Very good item strong and useful USB cableValue for moneyThanks to amazon and producer,https://m.media-amazon.com/images/I/51112ZRE-1L._SY88.jpg,Good,Nice product and useful product,-,Sturdy but does not support 33w charging</td><td>https://m.media-amazon.com/images/I/31wOPjcSxlL._SX300_SY300_QL70_FMwebp_.jpg</td><td>https://www.amazon.in/Solero-TB301-Charging-480Mbps-1-5-Meter/dp/B08Y1TFSP6/ref=sr_1_6?qid=1672909124&s=electronics&sr=1-6</td></tr><tr><td>B08WRWPM22</td><td>boAt Micro USB 55 Tangle-free, Sturdy Micro USB Cable with 3A Fast Charging & 480mbps Data Transmission (Black)</td><td>Computers&Accessories|Accessories&Peripherals|Cables&Accessories|Cables|USBCables</td><td>176.63</td><td>499.0</td><td>65.0</td><td>4.1</td><td>null</td><td>It Ensures High Speed Transmission And Charging By Offering 3A Fast Charging And Data Transmissions With Rapid Sync At 480 Mbps|The Braided Skin Makes It Durable And Invincible Against External Damage So You Can Have An Absolute Hassle-Free & Tangle Free Experience|Its Durable Pvc Housing And The Flexible Design Makes It Last 6 Times Longer Than Other Cables|Usb Cable Offers A Perfect 1.5 Meters In Length For Smooth & Hassle-Free User Experience For Superior Charging & Data Transfer Tasks|The Compact And Smooth Aluminium Connector Fits Most Cases Seamlessly And Resists Corrosion For Signal Purity|Micro Usb 55 Cable Offers Universal Compatibility As It Is Compatible With Most Android Smartphones, Tablets, Pc Peripherals, Bluetooth Speakers, Power Banks, Game Consoles & All Micro-Usb Enabled Devices|2 years warranty from the date of purchase</td><td>AG7C6DAADCTRQJG2BRS3RIKDT52Q,AFU7BOMPVJ7Q3TTA4G67RASTGYIQ,AER5ZGIXXVYG3AWZTRZT7M2BYCEA,AHE76XQSOLGOP5ZEKTIW6KUPDWBQ,AGXTMB2XHZBEWZ2UIX7ODZ4XTU6Q,AHNM2XVU745EDPNGUOAG74PTSNRA,AH5RWQ4S72IVLZD6O75OPCFIVDXQ,AG322TYKVPLPBDXE7ABEUK5QTALQ</td><td>Vivek kumar,Amazon Customer,SARTHAK,Chiranjeevi,V V GIRI KUMAR,Rajnandini,Akshay Talla,sudhanshu chaubey</td><td>R8E73K2KWJRDS,RSD0JTIIWQQL8,R64CRSTE9SLW1,R2FRTNIIUFJE1F,RWGNX3W7UOJ7W,R32TYHHODHTF5D,RQL9ZMQUTY7P2,R280XJ5VZUBOXV</td><td>Long durable.,good,Does not charge Lenovo m8 tab,Best charging cable,good,Boat,Product was good,1.5 m का केबल मेरे लिए बहुत ही लाभदायक है ।</td><td>Build quality is good and it is comes with 2 year warranty.,Good Product,Bought it for charging my mobile & tab but it doesn't work for Lenovo m8 tab,Guys this cable is is best compare of everyone over heat protection, quickly charging, but chance to shock circuit,good,Nice,Good quality,1.5एम का डाटा केबल मेरे लिए बहुत ही लाभदायक है ।  मैं इस केबल को लाइन में चार्ज करते समय फोन बहुत आराम से उपयोग  कर पा रहा हु । आप इस केबल से 15watt का  चार्जर उसे कर सकते है (इससे जड़ा नही) । लोकल बाजार में इसका दाम 150 है ,  अमेजन पे ये केबल मुझे 67 में मिला । गर्व से कहो हम हिंदू है , जय हिंद जय भारत ,</td><td>https://m.media-amazon.com/images/W/WEBP_402378-T2/images/I/41jlwEZpa5L._SX300_SY300_QL70_FMwebp_.jpg</td><td>https://www.amazon.in/boAt-Micro-USB-Tangle-Free-Transmission/dp/B08WRWPM22/ref=sr_1_8?qid=1672909124&s=electronics&sr=1-8</td></tr><tr><td>B08DDRGWTJ</td><td>MI Usb Type-C Cable Smartphone (Black)</td><td>Computers&Accessories|Accessories&Peripherals|Cables&Accessories|Cables|USBCables</td><td>229.0</td><td>299.0</td><td>23.0</td><td>4.3</td><td>null</td><td>1m long Type-C USB Cable|Sturdy and Durable. With USB cable you can transfer data with speeds of upto 480 Mbps|Upto 3A output|6months warranty|Sturdy and Durable. With USB cable you can transfer data with speeds of upto 480 Mbps|6months warranty|Up To 3A Output</td><td>AHW6E5LQ2BDYOIVLAJGDH45J5V5Q,AF74RSGCHPZITVFSZN76K6GKPICA,AHDD7ZNB47QA2JLYU53HD4ML3VNQ,AHV3ELGDSOWBYUQLXSPDCSHBQRHQ,AEJU4L3ZM2GTILSJZZSNSF6VUOIA,AFVD66VQMSHPDT3A6HBBBGKRXBZA,AELKHQXVSSG6NHXLFJLLNEFRQQUQ,AGYSMAC6V6RFJJOHG2FIRPOZ6CSQ</td><td>Pavan A H,Jayesh bagad,Shridhar,rajendran,karuppu k,Akshay wani,Abbimaniu Singh,VISHAL H BADSHE</td><td>R2X090D1YHACKR,R32ZCIH9AFNJ60,R3N57EVVG0EHAF,R3QWLE8JHROKC1,R2VTSDOOUTSQ5X,R3E6FZ75Q074KH,R1SYBQLTPFCW20,RYQT96J8HPIXE</td><td>Worth for money - suitable for Android auto,Good Product,Length,Nice,Original,Very good quay Cable support fast charging.,Original MI cable for charging upto 33 watt,I am veri happy with this product as it provide turbo charging.</td><td>Worth for money - suitable for Android auto... my purpose served in car....got it for Rs.150,Everything is Okay. But packaging is not good feeling like seller gave is used cable.,Good product,Good product but cost is more.,Original cable,I bought this cable at 129. Using this cable for Android auto in my car. Perfectly works without any glitch.,Original MI cable. Will charge upto 33 watts. Got it for Rs 150.  I have 67 watt charger and I want a cable for my car so I went for it. I checked the performance with battery charging app. The charging speed is exactly half of my 67 watt original cable. Go for it.,It provided me turbo charging. I recommend for all Redmi note 10s mobile phones. As it provide turbo charging. I am veri happy with this product.</td><td>https://m.media-amazon.com/images/I/31XO-wfGGGL._SX300_SY300_QL70_FMwebp_.jpg</td><td>https://www.amazon.in/MI-MTCY001IN-USB-Type-C-Cable/dp/B08DDRGWTJ/ref=sr_1_9?qid=1672909124&s=electronics&sr=1-9</td></tr><tr><td>B008IFXQFU</td><td>TP-Link USB WiFi Adapter for PC(TL-WN725N), N150 Wireless Network Adapter for Desktop - Nano Size WiFi Dongle Compatible with Windows 11/10/7/8/8.1/XP/ Mac OS 10.9-10.15 Linux Kernel 2.6.18-4.4.3</td><td>Computers&Accessories|NetworkingDevices|NetworkAdapters|WirelessUSBAdapters</td><td>499.0</td><td>999.0</td><td>50.0</td><td>4.2</td><td>null</td><td>USB WiFi Adapter —— Speedy wireless transmission at up to 150Mbps ideal for video streaming or internet calls|Mini Design —— Sleek miniature design so small that once plugged in, can be left in a Laptop’s USB port|Advanced Security —— Supports 64/128 WEP, WPA, PA2/WPA-PSK/WPA2-PSK(TKIP/AES)|Compatibility —— Windows 11/10/8.1/8/7/XP, Mac OS 10.15 and earlier, Linux|Easy Setup —— Connect in no time with easy setup utility in 14 languages|In an unlikely case of product quality related issue, we may ask you to reach out to brand’s customer service support and seek resolution. We will require brand proof of issue to process replacement request</td><td>AGV3IEFANZCKECFGUM42MRH5FNOA,AEBO7NWCNXKT4AESAN443HQH35FQ,AE7GD3VRRYQEAHDR7FXJIR23INYA,AHPAW24BI5X2GCX5M2LHI72VSJJQ,AE2VXY4CFO36MDSIMPG43XHNF4GA,AHHQEKUNVETALN7DTRHUQ2WAWEKQ,AFMIFTNTUD5PIHGONWOTRMMZ5EBA,AHOJBIZVVIIFJKRREY4B6ESVA4KA</td><td>Azhar JuMan,Anirudh Sood,Hari Krishnan PS,Akash Jindal,PRADEEP,Rajesh,Divya Kothari,abhijit</td><td>R1LW6NWSVTVZ2H,R3VR5WFKUS15C5,R2F6GC79OYWUKQ,R3QZ19MECGWG9A,R2MPU42MYK7GPO,R33DVXFB4VYPZZ,R1SQ7OGFR4JRUR,R1S5F9QI0M1VBZ</td><td>Works on linux for me. Get the model with antenna.,Does what it say but other brands available at lesser price,Easy Handle,Great product,Perfect working,Speed is perfect,Great Design, Build, Connectivity Range, Packaging and other features but no linux support since v2,Very good</td><td>I use this to connect an old PC to internet. I tried lubuntu 20 and ubuntu 22, it worked out of the box in both, didn't have to do any setup. There's an extender cable so you can place this in a comfortable place. Get the model with antenna because otherwise you'll have range problems if you're not directly in line of sight from your wifi router.,The wifi dongle is a simple plug & play device, will start catching available networks right after you plug it into your USB port, no additional installations/ softwares requires. Signal strength is good.... just wonder what would be different in other adapters of lesser known brands which are available at a much more competitive pricing, hence a star less.,Pros:*Easy to use & Portable*Can be connected to Mobile Hotspot and used in PC( Budget Friendly)*Less installation process*No heating issues & Good Coverage*Best alternative for USB Tethering (phone's battery may get damaged for long term run with Tethering)Cons:*Internet connection speed varies at times, also depends on your modem or cellular connection*Issues occur while installing via CD, which is available along with the product( Installation driver can be downloaded from TP-Link site)*Needed to reconnect the adapter every time system is turned ON*Will not work if your software has some issues, so encountered any just update your system(worked for me)*Support Center is worse, calls are unattended most of the times or just visit nearby storeConclusion:Brought this @499/-Ideal for users who don't need very high speed internet usage,a good alternative for USB Tethering and are on Budge(1080p Youtube videos can be easily played with this without any interruptions),wifi connectivity is a great good result for me. however, some jitter problems did exist.,This is perfect device to connect wifi. Go for it.,This wifi adopter is good working,(Pictures attached)Size/Design:  ★ ★ ★ ★ ★Build Quality: ★ ★ ★ ★ ★Packaging:  ★ ★ ★ ★ ★Software:  ★ ★ ★ ★Speed:  ★ ★ ★ ★ ★Connectivity:  ★ ★ ★ ★ ★Experience:  ★ ★ ★ ★ ★Warranty:  ★ ★ ★ ★ ★Size and Design:The best part about this is that it is very compact in size and very sober and elegant in design. This is a big plus as it is easy plug in and use, add to it the good sober design.Build Quality:The build quality is undoubtedly superb. Just no qualms about that, at all. When held, it doesnt give off that cheap and flimsy product-like feeling. It is good sturdy with its build quality.Packaging:This part is also a big plus as the item was well cushioned and packaged with all the necessary items that ensured that no damage could have been caused to the product during transportation. This ensures that I as a customer have received something not damaged internally already.Software:This is actually good but not great part with the product.The good part is that a CD has been provided with it along with a manual.The not great part is that NO LINUX SUPPORT has been given from Version 2 onwards. This is bad, really.Speed:It easily supports net speeds upto 300 Mbps. Practically speaking, I have tested it at my home and it easily supports net speed of over 100-150 Mbps without a sigh.On testing I found that it did connect to 5GHz network, without any issue.Connectivity:Please mark its not feet its metres. Multiply metres x 3 to get the distance in feet.It easily connects to my laptop or phone from 7 metres across one room. So thats 21 feet. I mean even our old bluetooth used to connect to about 15 ft.So 20-25 feet is not at all an issue with this. This is the big plus I found with the product.Experience:From this point of view, so far except the linux non-compatibility issue, I found no other flaws with this product.So overall its a great product.Warranty:Its 3 years so I am assured that atleast for 3 years I am tension-free and not just 1 year, contrary to most electronic items today that only provide 1 year warranty with their items.,Best adapter I have bought ever. Works nicely seemless connectivity</td><td>https://m.media-amazon.com/images/W/WEBP_402378-T2/images/I/31e6ElWRymL._SX300_SY300_QL70_FMwebp_.jpg</td><td>https://www.amazon.in/TP-Link-TL-WN725N-150Mbps-Wireless-Adapter/dp/B008IFXQFU/ref=sr_1_10?qid=1672909124&s=electronics&sr=1-10</td></tr><tr><td>B082LZGK39</td><td>Ambrane Unbreakable 60W / 3A Fast Charging 1.5m Braided Micro USB Cable for Smartphones, Tablets, Laptops & Other Micro USB Devices, 480Mbps Data Sync, Quick Charge 3.0 (RCM15, Black)</td><td>Computers&Accessories|Accessories&Peripherals|Cables&Accessories|Cables|USBCables</td><td>199.0</td><td>299.0</td><td>33.0</td><td>4.0</td><td>null</td><td>Universal Compatibility – It is compatible with all Micro USB enabled devices, be it an android smartphone, tablet, PC peripheral or any other micro USB compatible device|Unbreakable – Made of special braided outer with rugged interior bindings, it is ultra-durable cable that won’t be affected by daily rough usage|Ideal Length – It has ideal length of 1.5 meters which is neither too short like your typical 1meter cable or too long like a 2meters cable|Supports maximum 3A fast charging and 480 Mbps data transfer speed|6 Months manufacturer warranty from the date of purchase.</td><td>AECPFYFQVRUWC3KGNLJIOREFP5LQ,AGYYVPDD7YG7FYNBXNGXZJT525AQ,AHONIZU3ICIEHQIGQ6R2VFRSBXOQ,AFPHD2CRPDZMWMBL7WXRSVYWS5JA,AEZ346GX3HJ4O4XNRPHCNHXQURMQ,AEPSWFPNECKO34PUC7I56ITGXR6Q,AHWVEHR5DYLVFTO2KF3IZATFQSWQ,AH4QT33M55677I7ISQOAKEQWACYQ</td><td>ArdKn,Nirbhay kumar,Sagar Viswanathan,Asp,Placeholder,BharanI,sonia,Niam</td><td>RGIQEG07R9HS2,R1SMWZQ86XIN8U,R2J3Y1WL29GWDE,RYGGS0M09S3KY,R17KQRUTAN5DKS,R3AAQGS6HP2QUK,R1HDNOG6TO2CCA,R3PHKXYA5AFEOU</td><td>A Good Braided Cable for Your Type C Device,Good quality product from ambrane,Super cable,As,Good quality,Good product,its good,Good quality for the price but one issue with my unit</td><td>I ordered this cable to connect my phone to Android Auto of car. The cable is really strong and the connection ports are really well made. I already has a Micro USB cable from Ambrane and it's still in good shape. I connected my phone to the car using the cable and it got connected well and no issues. I also connected it to the charging port and yes it has Fast Charging support.,It quality is good at this price and the main thing is that i didn't ever thought that this cable will be so long it's good one and charging power is too good and also supports fast charging,Value for money, with extra length\uD83D\uDC4D,Good, working fine,Product quality is good,Good,very good,Bought for my daughter's old phone.Brand new cable it was not charging, I already repacked and requested for replacement.I checked again, and there was some green colour paste/fungus inside the micro USB connector. I cleaned with an alcoholic and starts working again.Checked the ampere of charging speed got around 1400ma-1500ma - not bad, came with braided 1.5m long cable, pretty impressive for the price.Can't blame the manufacturer.But quality issues by the distributor, they might have stored in very humid place.</td><td>https://m.media-amazon.com/images/W/WEBP_402378-T2/images/I/31kj3q4SepL._SY445_SX342_QL70_FMwebp_.jpg</td><td>https://www.amazon.in/Ambrane-Unbreakable-Charging-Braided-Android/dp/B082LZGK39/ref=sr_1_11?qid=1672909124&s=electronics&sr=1-11</td></tr></tbody></table></div>"
      ]
     },
     "metadata": {
      "application/vnd.databricks.v1+output": {
       "addedWidgets": {},
       "aggData": [],
       "aggError": "",
       "aggOverflow": false,
       "aggSchema": [],
       "aggSeriesLimitReached": false,
       "aggType": "",
       "arguments": {},
       "columnCustomDisplayInfos": {},
       "data": [
        [
         "B07JW9H4J1",
         "Wayona Nylon Braided USB to Lightning Fast Charging and Data Sync Cable Compatible for iPhone 13, 12,11, X, 8, 7, 6, 5, iPad Air, Pro, Mini (3 FT Pack of 1, Grey)",
         "Computers&Accessories|Accessories&Peripherals|Cables&Accessories|Cables|USBCables",
         399.0,
         1099.0,
         64.0,
         4.2,
         null,
         "High Compatibility : Compatible With iPhone 12, 11, X/XsMax/Xr ,iPhone 8/8 Plus,iPhone 7/7 Plus,iPhone 6s/6s Plus,iPhone 6/6 Plus,iPhone 5/5s/5c/se,iPad Pro,iPad Air 1/2,iPad mini 1/2/3,iPod nano7,iPod touch and more apple devices.|Fast Charge&Data Sync : It can charge and sync simultaneously at a rapid speed, Compatible with any charging adaptor, multi-port charging station or power bank.|Durability : Durable nylon braided design with premium aluminum housing and toughened nylon fiber wound tightly around the cord lending it superior durability and adding a bit to its flexibility.|High Security Level : It is designed to fully protect your device from damaging excessive current.Copper core thick+Multilayer shielding, Anti-interference, Protective circuit equipment.|WARRANTY: 12 months warranty and friendly customer services, ensures the long-time enjoyment of your purchase. If you meet any question or problem, please don't hesitate to contact us.",
         "AG3D6O4STAQKAY2UVGEUV46KN35Q,AHMY5CWJMMK5BJRBBSNLYT3ONILA,AHCTC6ULH4XB6YHDY6PCH2R772LQ,AGYHHIERNXKA6P5T7CZLXKVPT7IQ,AG4OGOFWXJZTQ2HKYIOCOY3KXF2Q,AENGU523SXMOS7JPDTW52PNNVWGQ,AEQJHCVTNINBS4FKTBGQRQTGTE5Q,AFC3FFC5PKFF5PMA52S3VCHOZ5FQ",
         "Manav,Adarsh gupta,Sundeep,S.Sayeed Ahmed,jaspreet singh,Khaja moin,Anand,S.ARUMUGAM",
         "R3HXWT0LRP0NMF,R2AJM3LFTLZHFO,R6AQJGUP6P86,R1KD19VHEDV0OR,R3C02RMYQMK6FC,R39GQRVBUZBWGY,R2K9EDOE15QIRJ,R3OI7YT648TL8I",
         "Satisfied,Charging is really fast,Value for money,Product review,Good quality,Good product,Good Product,As of now seems good",
         "Looks durable Charging is fine tooNo complains,Charging is really fast, good product.,Till now satisfied with the quality.,This is a good product . The charging speed is slower than the original iPhone cable,Good quality, would recommend,https://m.media-amazon.com/images/W/WEBP_402378-T1/images/I/81---F1ZgHL._SY88.jpg,Product had worked well till date and was having no issue.Cable is also sturdy enough...Have asked for replacement and company is doing the same...,Value for money",
         "https://m.media-amazon.com/images/W/WEBP_402378-T1/images/I/51UsScvHQNL._SX300_SY300_QL70_FMwebp_.jpg",
         "https://www.amazon.in/Wayona-Braided-WN3LG1-Syncing-Charging/dp/B07JW9H4J1/ref=sr_1_1?qid=1672909124&s=electronics&sr=1-1"
        ],
        [
         "B098NS6PVG",
         "Ambrane Unbreakable 60W / 3A Fast Charging 1.5m Braided Type C Cable for Smartphones, Tablets, Laptops & other Type C devices, PD Technology, 480Mbps Data Sync, Quick Charge 3.0 (RCT15A, Black)",
         "Computers&Accessories|Accessories&Peripherals|Cables&Accessories|Cables|USBCables",
         199.0,
         349.0,
         43.0,
         4.0,
         null,
         "Compatible with all Type C enabled devices, be it an android smartphone (Mi, Samsung, Oppo, Vivo, Realme, OnePlus, etc), tablet, laptop (Macbook, Chromebook, etc)|Supports Quick Charging (2.0/3.0)|Unbreakable – Made of special braided outer with rugged interior bindings, it is ultra-durable cable that won’t be affected by daily rough usage|Ideal Length – It has ideal length of 1.5 meters which is neither too short like your typical 1meter cable or too long like a 2meters cable|Supports maximum 3A fast charging and 480 Mbps data transfer speed|6 months manufacturer warranty from the date of purchase",
         "AECPFYFQVRUWC3KGNLJIOREFP5LQ,AGYYVPDD7YG7FYNBXNGXZJT525AQ,AHONIZU3ICIEHQIGQ6R2VFRSBXOQ,AFPHD2CRPDZMWMBL7WXRSVYWS5JA,AEZ346GX3HJ4O4XNRPHCNHXQURMQ,AEPSWFPNECKO34PUC7I56ITGXR6Q,AHWVEHR5DYLVFTO2KF3IZATFQSWQ,AH4QT33M55677I7ISQOAKEQWACYQ",
         "ArdKn,Nirbhay kumar,Sagar Viswanathan,Asp,Placeholder,BharanI,sonia,Niam",
         "RGIQEG07R9HS2,R1SMWZQ86XIN8U,R2J3Y1WL29GWDE,RYGGS0M09S3KY,R17KQRUTAN5DKS,R3AAQGS6HP2QUK,R1HDNOG6TO2CCA,R3PHKXYA5AFEOU",
         "A Good Braided Cable for Your Type C Device,Good quality product from ambrane,Super cable,As,Good quality,Good product,its good,Good quality for the price but one issue with my unit",
         "I ordered this cable to connect my phone to Android Auto of car. The cable is really strong and the connection ports are really well made. I already has a Micro USB cable from Ambrane and it's still in good shape. I connected my phone to the car using the cable and it got connected well and no issues. I also connected it to the charging port and yes it has Fast Charging support.,It quality is good at this price and the main thing is that i didn't ever thought that this cable will be so long it's good one and charging power is too good and also supports fast charging,Value for money, with extra length\uD83D\uDC4D,Good, working fine,Product quality is good,Good,very good,Bought for my daughter's old phone.Brand new cable it was not charging, I already repacked and requested for replacement.I checked again, and there was some green colour paste/fungus inside the micro USB connector. I cleaned with an alcoholic and starts working again.Checked the ampere of charging speed got around 1400ma-1500ma - not bad, came with braided 1.5m long cable, pretty impressive for the price.Can't blame the manufacturer.But quality issues by the distributor, they might have stored in very humid place.",
         "https://m.media-amazon.com/images/W/WEBP_402378-T2/images/I/31zOsqQOAOL._SY445_SX342_QL70_FMwebp_.jpg",
         "https://www.amazon.in/Ambrane-Unbreakable-Charging-Braided-Cable/dp/B098NS6PVG/ref=sr_1_2?qid=1672909124&s=electronics&sr=1-2"
        ],
        [
         "B096MSW6CT",
         "Sounce Fast Phone Charging Cable & Data Sync USB Cable Compatible for iPhone 13, 12,11, X, 8, 7, 6, 5, iPad Air, Pro, Mini & iOS Devices",
         "Computers&Accessories|Accessories&Peripherals|Cables&Accessories|Cables|USBCables",
         199.0,
         1899.0,
         90.0,
         3.9,
         null,
         "【 Fast Charger& Data Sync】-With built-in safety proctections and four-core copper wires promote maximum signal quality and strength and enhance charging & data transfer speed with up to 480 mb/s transferring speed.|【 Compatibility】-Compatible with iPhone 13, 12,11, X, 8, 7, 6, 5, iPad Air, Pro, Mini & iOS devices.|【 Sturdy & Durable】-The jacket and enforced connector made of TPE and premium copper, are resistant to repeatedly bending and coiling.|【 Ultra High Quality】: According to the experimental results, the fishbone design can accept at least 20,000 bending and insertion tests for extra protection and durability. Upgraded 3D aluminum connector and exclusive laser welding technology, which to ensure the metal part won't break and also have a tighter connection which fits well even with a protective case on and will never loose connection.|【 Good After Sales Service】-Our friendly and reliable customer service will respond to you within 24 hours ! you can purchase with confidence,and every sale includes a 365-day worry-free Service to prove the importance we set on quality.",
         "AGU3BBQ2V2DDAMOAKGFAWDDQ6QHA,AESFLDV2PT363T2AQLWQOWZ4N3OA,AHTPQRIMGUD4BYR5YIHBH3CCGEFQ,AEUVWXYP5LT7PZLLZENEO2NODPBQ,AHC7MPW55DOO6WNCOQVA2VHOD26A,AFDI6FRPFBTNBG7BAEB7JDJSMKDQ,AFQKCEEEKXCOHTDG4WUN3XPPHJQQ,AHKUUFNMBZIDLSSPA4FEHIO2EC7Q",
         "Kunal,Himanshu,viswanath,sai niharka,saqib malik,Aashiq,Ramu Challa,Sanjay gupta",
         "R3J3EQQ9TZI5ZJ,R3E7WBGK7ID0KV,RWU79XKQ6I1QF,R25X4TBMPY91LX,R27OK7G99VK0TR,R207CYDCHJJTCJ,R3PCU8XMU173BT,R1IMONDOWRNU5V",
         "Good speed for earlier versions,Good Product,Working good,Good for the price,Good,Worth for money,Working nice,it's a really nice product",
         "Not quite durable and sturdy,https://m.media-amazon.com/images/W/WEBP_402378-T1/images/I/71rIggrbUCL._SY88.jpg,Working good,https://m.media-amazon.com/images/W/WEBP_402378-T1/images/I/61bKp9YO6wL._SY88.jpg,Product,Very nice product,Working well,It's a really nice product",
         "https://m.media-amazon.com/images/W/WEBP_402378-T1/images/I/31IvNJZnmdL._SY445_SX342_QL70_FMwebp_.jpg",
         "https://www.amazon.in/Sounce-iPhone-Charging-Compatible-Devices/dp/B096MSW6CT/ref=sr_1_3?qid=1672909124&s=electronics&sr=1-3"
        ],
        [
         "B08HDJ86NZ",
         "boAt Deuce USB 300 2 in 1 Type-C & Micro USB Stress Resistant, Tangle-Free, Sturdy Cable with 3A Fast Charging & 480mbps Data Transmission, 10000+ Bends Lifespan and Extended 1.5m Length(Martian Red)",
         "Computers&Accessories|Accessories&Peripherals|Cables&Accessories|Cables|USBCables",
         329.0,
         699.0,
         53.0,
         4.2,
         null,
         "The boAt Deuce USB 300 2 in 1 cable is compatible with smartphones, tablets, PC peripherals, Bluetooth speakers, power banks and all other devices with Type-C as well as Micro USB port|It ensures 3A fast charging and data transmissions with rapid sync at 480 mbps|The premium Nylon braided skin makes it sturdy and invincible against external damage|Its Aluminium alloy shell housing makes it last longer with 10000+ Bends Lifespan with extended frame protection for strain relief|The resilient and flexible design offers a tangle free experience seamlessly|Deuce USB 300 cable offers a perfect 1.5 meters in length for smooth & hassle-free user experience|2 years warranty from the date of purchase",
         "AEWAZDZZJLQUYVOVGBEUKSLXHQ5A,AG5HTSFRRE6NL3M5SGCUQBP7YSCA,AH725ST5NW2Y4JZPKUNTIJCUK2BA,AHV3TXIFCJPMS4D5JATCEUR266MQ,AGWIGDEMFIIUAOXYY2QATNBSUGHA,AFSTSLQUV4EVEXWKBOLEFHL2H5YQ,AGAKDNBHY2FKX7I4ACRGILU7QL7A,AFNWJUWJRHCC6HN52KMG5AKZY37Q",
         "Omkar dhale,JD,HEMALATHA,Ajwadh a.,amar singh chouhan,Ravi Siddan,Himanshu Goel,Udaykumar",
         "R3EEUZKKK9J36I,R3HJVYCLYOY554,REDECAZ7AMPQC,R1CLH2ULIVG5U3,R2DMKIBGFKBD6R,RC89B5IAJUTR5,R3B3DDON5FH8DS,R13WAEJDI5RS36",
         "Good product,Good one,Nice,Really nice product,Very first time change,Good,Fine product but could be better,Very nice it's charging like jet",
         "Good product,long wire,Charges good,Nice,I bought this cable for Rs.339 worthy product for this price, i tested it in various charger adapters 33w and 18w it supports fast charging as well.,Good,Ok,I had got this at good price on sale on Amazon and product is useful with warranty but for warranty you need to go very far not practical for such a cost and mine micro to type c connector stopped working after few days only.,I like this product",
         "https://m.media-amazon.com/images/I/41V5FtEWPkL._SX300_SY300_QL70_FMwebp_.jpg",
         "https://www.amazon.in/Deuce-300-Resistant-Tangle-Free-Transmission/dp/B08HDJ86NZ/ref=sr_1_4?qid=1672909124&s=electronics&sr=1-4"
        ],
        [
         "B08CF3B7N1",
         "Portronics Konnect L 1.2M Fast Charging 3A 8 Pin USB Cable with Charge & Sync Function for iPhone, iPad (Grey)",
         "Computers&Accessories|Accessories&Peripherals|Cables&Accessories|Cables|USBCables",
         154.0,
         399.0,
         61.0,
         4.2,
         null,
         "[CHARGE & SYNC FUNCTION]- This cable comes with charging & Data sync function|[HIGH QUALITY MATERIAL]- TPE + Nylon Material to make sure that the life of the cable is enhanced significantly|[LONG CORD]- The Cable is extra thick 1.2 meter long, optimized for an easy use for your comfort at home or office|[MORE DURABLE]-This cable is unique interms of design and multi-use and is positioned to provide the best comfort and performance while using|[UNIVERSAL COMPATIBILITY]- Compatible with all devices like iPhone XS, X, XR, 8, 7, 6S, 6, 5S, iPad Pro, iPad mini and iPad Air",
         "AE3Q6KSUK5P75D5HFYHCRAOLODSA,AFUGIFH5ZAFXRDSZHM4QB2KPKFUQ,AFK4NJOLFSJGWLOJIUIAROJF6YVA,AFUOTYRFUXVPEBGIXVZZ7DR3CZUA,AFDLRSXKDZ6U3U3KD46SQLFGZQRA,AH5VLM66SIK7J3IRG4NY7XVOQ55A,AE3MQNNHHLUHXURL5S7IAR7JTGNQ,AFSEOFZY67MYC7UAJU264Z5NFTLA",
         "rahuls6099,Swasat Borah,Ajay Wadke,Pranali,RVK,Bhargav,Durai Vignesh,Amazon Customer",
         "R1BP4L2HH9TFUP,R16PVJEXKV6QZS,R2UPDB81N66T4P,R3KK4GT934ST3I,RCFHMWUSBIJO,RDO7DACXMAJ84,R3A6MEZL3LY66Z,R1ESIEKPGAYA29",
         "As good as original,Decent,Good one for secondary use,Best quality,GOOD,Amazing product at a mind blowing price!,Nice Quality,Good product",
         "Bought this instead of original apple, does the work for 150rs, not as fast as apple charger but its a good option if you want cheap and good product, bought it for iPad pro 10.5 and it's working flawlessly, build quality is ok, its not like i am gonna hang my clothes on it and i want a very strong cable, even a braided cable stop working after a year, i have used both Anker and Apple store strong braided cable they all stop working after a year so please don't buy high end cables just for that instead choose a this one and even if it's stops working withing a year you only loose 150rs compares to 2000rs.UPDATE------------------------------------pin has stopped charging from one side, now i have to slip the pin to charge from other side, but i will update and let know for how long does it work,,It’s good. Not sure about durability as the pin area feels a bit fragile,Does not support apple carplaySo was little disappointed about thatOther than that cable is made up of very good quality,Best to buy,100% NOT FATHFUL,Writing this review post 10 months and 3 orders of the same product.Honestly Portronics Konnect L lightning cable works like magic with the original Apple charging brick.Seeing the price of the cable I initially hesitated buying as it was as low as ₹99/- with the offers and so I wasn’t sure if it would work well with my iPhone 12 or whether it would impact my iPhone’s battery health because all the other lightning cable brands were costing over ₹350/- like Wayona, Amazon Basics, etc.Earlier I was using Wayona Brand lightning cable with eventually frayed and stopped working.Charging Speed:Charges my iPhone fast enough almost similar compared to the original cable level when used with 12W Original Apple power adapter.Quality and Durability:Great quality braided cable and doesn’t tangle easily and can withstand day-to-day usage.L-Shaped pin:This is very innovative by Portronics and it makes sure the cable doesn’t get damaged even if used while charging.CarPlay and Data Sync:Works smoothly with CarPlay and syncs data effortlessly.PS: I have used this cable only with the Original Apple Charging Brick and extremely satisfied with its performance.,Better than I expect the product I like that Quality and I plan to buy same type cable come with usb C to Lighting cable for emergency purpose that much I love this cable. Buy for this cable only emergency uses only since Good one,Good product and value for money",
         "https://m.media-amazon.com/images/W/WEBP_402378-T2/images/I/31VzNhhqifL._SX300_SY300_QL70_FMwebp_.jpg",
         "https://www.amazon.in/Portronics-Konnect-POR-1080-Charging-Function/dp/B08CF3B7N1/ref=sr_1_5?qid=1672909124&s=electronics&sr=1-5"
        ],
        [
         "B08Y1TFSP6",
         "pTron Solero TB301 3A Type-C Data and Fast Charging Cable, Made in India, 480Mbps Data Sync, Strong and Durable 1.5-Meter Nylon Braided USB Cable for Type-C Devices for Charging Adapter (Black)",
         "Computers&Accessories|Accessories&Peripherals|Cables&Accessories|Cables|USBCables",
         149.0,
         1000.0,
         85.0,
         3.9,
         null,
         "Fast Charging & Data Sync: Solero TB301 Type-C cable supports fast charge up to 5V/3A for devices and data syncing speed up to 480Mbps.|Universal Compatibility: This USB charging cable connects USB Type-C devices with standard USB devices like laptops, hard drives, power banks, wall and car chargers, etc..Connector One: Reversible Type C|Connector Two: USB A Type|Rough & Tough Type-C Cable: Charging cable with a double-braided exterior, premium aramid fiber core and metal plugs. It has passed 10,000 bending tests and can easily withstand daily use.|Extended Length: 1.5-meter long c-type cable uses nylon material to protect the wire and avoid knots.|Perfect Fit Connectors: pTron Soler USB-C has passed the 5KG load test, swing test, 5000+ times connect & disconnect to ensure that there are no loose connections.",
         "AEQ2YMXSZWEOHK2EHTNLOS56YTZQ,AGRVINWECNY7323CWFXZYYIZOFTQ,AHBAT6VLOXWGYDL57KHCNCLPXAKA,AF7NDY2H6JVYTSQOZP76GCATQ34Q,AFV7ZA733ZLME4KNLZPMPCBUNPPA,AHFAAPSY2MJ5HYOU2VQDJ7AQY4NQ,AH2WGV2PEBUTICRPBEEVKF24G5LA,AEP4MK3EKOBDKTGPJTRN5RBDIODA",
         "Jayesh,Rajesh k.,Soopy,amazon customer,Aman,Shankar,dinesh,Chitra,Ajaybabu.O.M",
         "R7S8ANNSDPR40,R3CLZFLHVJU26P,RFF7U7MPQFUGR,R1MV1NKC23DWPI,R11D3U0V2XKDKF,R18MP1KLUE18PC,RWGJNVEH5ZQME,R1XN72FU6Q37IH",
         "It's pretty good,Average quality,very good and useful usb cable,Good USB cable. My experience was very good it is long lasting,Good,Nice product and useful,-,Sturdy but does not support 33w charging",
         "It's a good product.,Like,Very good item strong and useful USB cableValue for moneyThanks to amazon and producer,https://m.media-amazon.com/images/I/51112ZRE-1L._SY88.jpg,Good,Nice product and useful product,-,Sturdy but does not support 33w charging",
         "https://m.media-amazon.com/images/I/31wOPjcSxlL._SX300_SY300_QL70_FMwebp_.jpg",
         "https://www.amazon.in/Solero-TB301-Charging-480Mbps-1-5-Meter/dp/B08Y1TFSP6/ref=sr_1_6?qid=1672909124&s=electronics&sr=1-6"
        ],
        [
         "B08WRWPM22",
         "boAt Micro USB 55 Tangle-free, Sturdy Micro USB Cable with 3A Fast Charging & 480mbps Data Transmission (Black)",
         "Computers&Accessories|Accessories&Peripherals|Cables&Accessories|Cables|USBCables",
         176.63,
         499.0,
         65.0,
         4.1,
         null,
         "It Ensures High Speed Transmission And Charging By Offering 3A Fast Charging And Data Transmissions With Rapid Sync At 480 Mbps|The Braided Skin Makes It Durable And Invincible Against External Damage So You Can Have An Absolute Hassle-Free & Tangle Free Experience|Its Durable Pvc Housing And The Flexible Design Makes It Last 6 Times Longer Than Other Cables|Usb Cable Offers A Perfect 1.5 Meters In Length For Smooth & Hassle-Free User Experience For Superior Charging & Data Transfer Tasks|The Compact And Smooth Aluminium Connector Fits Most Cases Seamlessly And Resists Corrosion For Signal Purity|Micro Usb 55 Cable Offers Universal Compatibility As It Is Compatible With Most Android Smartphones, Tablets, Pc Peripherals, Bluetooth Speakers, Power Banks, Game Consoles & All Micro-Usb Enabled Devices|2 years warranty from the date of purchase",
         "AG7C6DAADCTRQJG2BRS3RIKDT52Q,AFU7BOMPVJ7Q3TTA4G67RASTGYIQ,AER5ZGIXXVYG3AWZTRZT7M2BYCEA,AHE76XQSOLGOP5ZEKTIW6KUPDWBQ,AGXTMB2XHZBEWZ2UIX7ODZ4XTU6Q,AHNM2XVU745EDPNGUOAG74PTSNRA,AH5RWQ4S72IVLZD6O75OPCFIVDXQ,AG322TYKVPLPBDXE7ABEUK5QTALQ",
         "Vivek kumar,Amazon Customer,SARTHAK,Chiranjeevi,V V GIRI KUMAR,Rajnandini,Akshay Talla,sudhanshu chaubey",
         "R8E73K2KWJRDS,RSD0JTIIWQQL8,R64CRSTE9SLW1,R2FRTNIIUFJE1F,RWGNX3W7UOJ7W,R32TYHHODHTF5D,RQL9ZMQUTY7P2,R280XJ5VZUBOXV",
         "Long durable.,good,Does not charge Lenovo m8 tab,Best charging cable,good,Boat,Product was good,1.5 m का केबल मेरे लिए बहुत ही लाभदायक है ।",
         "Build quality is good and it is comes with 2 year warranty.,Good Product,Bought it for charging my mobile & tab but it doesn't work for Lenovo m8 tab,Guys this cable is is best compare of everyone over heat protection, quickly charging, but chance to shock circuit,good,Nice,Good quality,1.5एम का डाटा केबल मेरे लिए बहुत ही लाभदायक है ।  मैं इस केबल को लाइन में चार्ज करते समय फोन बहुत आराम से उपयोग  कर पा रहा हु । आप इस केबल से 15watt का  चार्जर उसे कर सकते है (इससे जड़ा नही) । लोकल बाजार में इसका दाम 150 है ,  अमेजन पे ये केबल मुझे 67 में मिला । गर्व से कहो हम हिंदू है , जय हिंद जय भारत ,",
         "https://m.media-amazon.com/images/W/WEBP_402378-T2/images/I/41jlwEZpa5L._SX300_SY300_QL70_FMwebp_.jpg",
         "https://www.amazon.in/boAt-Micro-USB-Tangle-Free-Transmission/dp/B08WRWPM22/ref=sr_1_8?qid=1672909124&s=electronics&sr=1-8"
        ],
        [
         "B08DDRGWTJ",
         "MI Usb Type-C Cable Smartphone (Black)",
         "Computers&Accessories|Accessories&Peripherals|Cables&Accessories|Cables|USBCables",
         229.0,
         299.0,
         23.0,
         4.3,
         null,
         "1m long Type-C USB Cable|Sturdy and Durable. With USB cable you can transfer data with speeds of upto 480 Mbps|Upto 3A output|6months warranty|Sturdy and Durable. With USB cable you can transfer data with speeds of upto 480 Mbps|6months warranty|Up To 3A Output",
         "AHW6E5LQ2BDYOIVLAJGDH45J5V5Q,AF74RSGCHPZITVFSZN76K6GKPICA,AHDD7ZNB47QA2JLYU53HD4ML3VNQ,AHV3ELGDSOWBYUQLXSPDCSHBQRHQ,AEJU4L3ZM2GTILSJZZSNSF6VUOIA,AFVD66VQMSHPDT3A6HBBBGKRXBZA,AELKHQXVSSG6NHXLFJLLNEFRQQUQ,AGYSMAC6V6RFJJOHG2FIRPOZ6CSQ",
         "Pavan A H,Jayesh bagad,Shridhar,rajendran,karuppu k,Akshay wani,Abbimaniu Singh,VISHAL H BADSHE",
         "R2X090D1YHACKR,R32ZCIH9AFNJ60,R3N57EVVG0EHAF,R3QWLE8JHROKC1,R2VTSDOOUTSQ5X,R3E6FZ75Q074KH,R1SYBQLTPFCW20,RYQT96J8HPIXE",
         "Worth for money - suitable for Android auto,Good Product,Length,Nice,Original,Very good quay Cable support fast charging.,Original MI cable for charging upto 33 watt,I am veri happy with this product as it provide turbo charging.",
         "Worth for money - suitable for Android auto... my purpose served in car....got it for Rs.150,Everything is Okay. But packaging is not good feeling like seller gave is used cable.,Good product,Good product but cost is more.,Original cable,I bought this cable at 129. Using this cable for Android auto in my car. Perfectly works without any glitch.,Original MI cable. Will charge upto 33 watts. Got it for Rs 150.  I have 67 watt charger and I want a cable for my car so I went for it. I checked the performance with battery charging app. The charging speed is exactly half of my 67 watt original cable. Go for it.,It provided me turbo charging. I recommend for all Redmi note 10s mobile phones. As it provide turbo charging. I am veri happy with this product.",
         "https://m.media-amazon.com/images/I/31XO-wfGGGL._SX300_SY300_QL70_FMwebp_.jpg",
         "https://www.amazon.in/MI-MTCY001IN-USB-Type-C-Cable/dp/B08DDRGWTJ/ref=sr_1_9?qid=1672909124&s=electronics&sr=1-9"
        ],
        [
         "B008IFXQFU",
         "TP-Link USB WiFi Adapter for PC(TL-WN725N), N150 Wireless Network Adapter for Desktop - Nano Size WiFi Dongle Compatible with Windows 11/10/7/8/8.1/XP/ Mac OS 10.9-10.15 Linux Kernel 2.6.18-4.4.3",
         "Computers&Accessories|NetworkingDevices|NetworkAdapters|WirelessUSBAdapters",
         499.0,
         999.0,
         50.0,
         4.2,
         null,
         "USB WiFi Adapter —— Speedy wireless transmission at up to 150Mbps ideal for video streaming or internet calls|Mini Design —— Sleek miniature design so small that once plugged in, can be left in a Laptop’s USB port|Advanced Security —— Supports 64/128 WEP, WPA, PA2/WPA-PSK/WPA2-PSK(TKIP/AES)|Compatibility —— Windows 11/10/8.1/8/7/XP, Mac OS 10.15 and earlier, Linux|Easy Setup —— Connect in no time with easy setup utility in 14 languages|In an unlikely case of product quality related issue, we may ask you to reach out to brand’s customer service support and seek resolution. We will require brand proof of issue to process replacement request",
         "AGV3IEFANZCKECFGUM42MRH5FNOA,AEBO7NWCNXKT4AESAN443HQH35FQ,AE7GD3VRRYQEAHDR7FXJIR23INYA,AHPAW24BI5X2GCX5M2LHI72VSJJQ,AE2VXY4CFO36MDSIMPG43XHNF4GA,AHHQEKUNVETALN7DTRHUQ2WAWEKQ,AFMIFTNTUD5PIHGONWOTRMMZ5EBA,AHOJBIZVVIIFJKRREY4B6ESVA4KA",
         "Azhar JuMan,Anirudh Sood,Hari Krishnan PS,Akash Jindal,PRADEEP,Rajesh,Divya Kothari,abhijit",
         "R1LW6NWSVTVZ2H,R3VR5WFKUS15C5,R2F6GC79OYWUKQ,R3QZ19MECGWG9A,R2MPU42MYK7GPO,R33DVXFB4VYPZZ,R1SQ7OGFR4JRUR,R1S5F9QI0M1VBZ",
         "Works on linux for me. Get the model with antenna.,Does what it say but other brands available at lesser price,Easy Handle,Great product,Perfect working,Speed is perfect,Great Design, Build, Connectivity Range, Packaging and other features but no linux support since v2,Very good",
         "I use this to connect an old PC to internet. I tried lubuntu 20 and ubuntu 22, it worked out of the box in both, didn't have to do any setup. There's an extender cable so you can place this in a comfortable place. Get the model with antenna because otherwise you'll have range problems if you're not directly in line of sight from your wifi router.,The wifi dongle is a simple plug & play device, will start catching available networks right after you plug it into your USB port, no additional installations/ softwares requires. Signal strength is good.... just wonder what would be different in other adapters of lesser known brands which are available at a much more competitive pricing, hence a star less.,Pros:*Easy to use & Portable*Can be connected to Mobile Hotspot and used in PC( Budget Friendly)*Less installation process*No heating issues & Good Coverage*Best alternative for USB Tethering (phone's battery may get damaged for long term run with Tethering)Cons:*Internet connection speed varies at times, also depends on your modem or cellular connection*Issues occur while installing via CD, which is available along with the product( Installation driver can be downloaded from TP-Link site)*Needed to reconnect the adapter every time system is turned ON*Will not work if your software has some issues, so encountered any just update your system(worked for me)*Support Center is worse, calls are unattended most of the times or just visit nearby storeConclusion:Brought this @499/-Ideal for users who don't need very high speed internet usage,a good alternative for USB Tethering and are on Budge(1080p Youtube videos can be easily played with this without any interruptions),wifi connectivity is a great good result for me. however, some jitter problems did exist.,This is perfect device to connect wifi. Go for it.,This wifi adopter is good working,(Pictures attached)Size/Design:  ★ ★ ★ ★ ★Build Quality: ★ ★ ★ ★ ★Packaging:  ★ ★ ★ ★ ★Software:  ★ ★ ★ ★Speed:  ★ ★ ★ ★ ★Connectivity:  ★ ★ ★ ★ ★Experience:  ★ ★ ★ ★ ★Warranty:  ★ ★ ★ ★ ★Size and Design:The best part about this is that it is very compact in size and very sober and elegant in design. This is a big plus as it is easy plug in and use, add to it the good sober design.Build Quality:The build quality is undoubtedly superb. Just no qualms about that, at all. When held, it doesnt give off that cheap and flimsy product-like feeling. It is good sturdy with its build quality.Packaging:This part is also a big plus as the item was well cushioned and packaged with all the necessary items that ensured that no damage could have been caused to the product during transportation. This ensures that I as a customer have received something not damaged internally already.Software:This is actually good but not great part with the product.The good part is that a CD has been provided with it along with a manual.The not great part is that NO LINUX SUPPORT has been given from Version 2 onwards. This is bad, really.Speed:It easily supports net speeds upto 300 Mbps. Practically speaking, I have tested it at my home and it easily supports net speed of over 100-150 Mbps without a sigh.On testing I found that it did connect to 5GHz network, without any issue.Connectivity:Please mark its not feet its metres. Multiply metres x 3 to get the distance in feet.It easily connects to my laptop or phone from 7 metres across one room. So thats 21 feet. I mean even our old bluetooth used to connect to about 15 ft.So 20-25 feet is not at all an issue with this. This is the big plus I found with the product.Experience:From this point of view, so far except the linux non-compatibility issue, I found no other flaws with this product.So overall its a great product.Warranty:Its 3 years so I am assured that atleast for 3 years I am tension-free and not just 1 year, contrary to most electronic items today that only provide 1 year warranty with their items.,Best adapter I have bought ever. Works nicely seemless connectivity",
         "https://m.media-amazon.com/images/W/WEBP_402378-T2/images/I/31e6ElWRymL._SX300_SY300_QL70_FMwebp_.jpg",
         "https://www.amazon.in/TP-Link-TL-WN725N-150Mbps-Wireless-Adapter/dp/B008IFXQFU/ref=sr_1_10?qid=1672909124&s=electronics&sr=1-10"
        ],
        [
         "B082LZGK39",
         "Ambrane Unbreakable 60W / 3A Fast Charging 1.5m Braided Micro USB Cable for Smartphones, Tablets, Laptops & Other Micro USB Devices, 480Mbps Data Sync, Quick Charge 3.0 (RCM15, Black)",
         "Computers&Accessories|Accessories&Peripherals|Cables&Accessories|Cables|USBCables",
         199.0,
         299.0,
         33.0,
         4.0,
         null,
         "Universal Compatibility – It is compatible with all Micro USB enabled devices, be it an android smartphone, tablet, PC peripheral or any other micro USB compatible device|Unbreakable – Made of special braided outer with rugged interior bindings, it is ultra-durable cable that won’t be affected by daily rough usage|Ideal Length – It has ideal length of 1.5 meters which is neither too short like your typical 1meter cable or too long like a 2meters cable|Supports maximum 3A fast charging and 480 Mbps data transfer speed|6 Months manufacturer warranty from the date of purchase.",
         "AECPFYFQVRUWC3KGNLJIOREFP5LQ,AGYYVPDD7YG7FYNBXNGXZJT525AQ,AHONIZU3ICIEHQIGQ6R2VFRSBXOQ,AFPHD2CRPDZMWMBL7WXRSVYWS5JA,AEZ346GX3HJ4O4XNRPHCNHXQURMQ,AEPSWFPNECKO34PUC7I56ITGXR6Q,AHWVEHR5DYLVFTO2KF3IZATFQSWQ,AH4QT33M55677I7ISQOAKEQWACYQ",
         "ArdKn,Nirbhay kumar,Sagar Viswanathan,Asp,Placeholder,BharanI,sonia,Niam",
         "RGIQEG07R9HS2,R1SMWZQ86XIN8U,R2J3Y1WL29GWDE,RYGGS0M09S3KY,R17KQRUTAN5DKS,R3AAQGS6HP2QUK,R1HDNOG6TO2CCA,R3PHKXYA5AFEOU",
         "A Good Braided Cable for Your Type C Device,Good quality product from ambrane,Super cable,As,Good quality,Good product,its good,Good quality for the price but one issue with my unit",
         "I ordered this cable to connect my phone to Android Auto of car. The cable is really strong and the connection ports are really well made. I already has a Micro USB cable from Ambrane and it's still in good shape. I connected my phone to the car using the cable and it got connected well and no issues. I also connected it to the charging port and yes it has Fast Charging support.,It quality is good at this price and the main thing is that i didn't ever thought that this cable will be so long it's good one and charging power is too good and also supports fast charging,Value for money, with extra length\uD83D\uDC4D,Good, working fine,Product quality is good,Good,very good,Bought for my daughter's old phone.Brand new cable it was not charging, I already repacked and requested for replacement.I checked again, and there was some green colour paste/fungus inside the micro USB connector. I cleaned with an alcoholic and starts working again.Checked the ampere of charging speed got around 1400ma-1500ma - not bad, came with braided 1.5m long cable, pretty impressive for the price.Can't blame the manufacturer.But quality issues by the distributor, they might have stored in very humid place.",
         "https://m.media-amazon.com/images/W/WEBP_402378-T2/images/I/31kj3q4SepL._SY445_SX342_QL70_FMwebp_.jpg",
         "https://www.amazon.in/Ambrane-Unbreakable-Charging-Braided-Android/dp/B082LZGK39/ref=sr_1_11?qid=1672909124&s=electronics&sr=1-11"
        ]
       ],
       "datasetInfos": [],
       "dbfsResultPath": null,
       "isJsonSchema": true,
       "metadata": {},
       "overflow": false,
       "plotOptions": {
        "customPlotOptions": {},
        "displayType": "table",
        "pivotAggregation": null,
        "pivotColumns": null,
        "xColumns": null,
        "yColumns": null
       },
       "removedWidgets": [],
       "schema": [
        {
         "metadata": "{}",
         "name": "product_id",
         "type": "\"string\""
        },
        {
         "metadata": "{}",
         "name": "product_name",
         "type": "\"string\""
        },
        {
         "metadata": "{}",
         "name": "category",
         "type": "\"string\""
        },
        {
         "metadata": "{}",
         "name": "discounted_price",
         "type": "\"double\""
        },
        {
         "metadata": "{}",
         "name": "actual_price",
         "type": "\"double\""
        },
        {
         "metadata": "{}",
         "name": "discount_percentage",
         "type": "\"double\""
        },
        {
         "metadata": "{}",
         "name": "rating",
         "type": "\"double\""
        },
        {
         "metadata": "{}",
         "name": "rating_count",
         "type": "\"integer\""
        },
        {
         "metadata": "{}",
         "name": "about_product",
         "type": "\"string\""
        },
        {
         "metadata": "{}",
         "name": "user_id",
         "type": "\"string\""
        },
        {
         "metadata": "{}",
         "name": "user_name",
         "type": "\"string\""
        },
        {
         "metadata": "{}",
         "name": "review_id",
         "type": "\"string\""
        },
        {
         "metadata": "{}",
         "name": "review_title",
         "type": "\"string\""
        },
        {
         "metadata": "{}",
         "name": "review_content",
         "type": "\"string\""
        },
        {
         "metadata": "{}",
         "name": "img_link",
         "type": "\"string\""
        },
        {
         "metadata": "{}",
         "name": "product_link",
         "type": "\"string\""
        }
       ],
       "type": "table"
      }
     },
     "output_type": "display_data"
    }
   ],
   "source": [
    "\n",
    "from pyspark.sql.functions import regexp_replace, expr\n",
    "\n",
    "df_clean = df_bronze \\\n",
    "    .withColumn(\"discounted_price\",\n",
    "                expr(\"try_cast(regexp_replace(regexp_replace(discounted_price, '₹', ''), ',', '') as double)\")) \\\n",
    "    .withColumn(\"actual_price\",\n",
    "                expr(\"try_cast(regexp_replace(regexp_replace(actual_price, '₹', ''), ',', '') as double)\")) \\\n",
    "    .withColumn(\"discount_percentage\",\n",
    "                expr(\"try_cast(regexp_replace(discount_percentage, '%', '') as double)\")) \\\n",
    "    .withColumn(\"rating\", expr(\"try_cast(rating as double)\")) \\\n",
    "    .withColumn(\"rating_count\", expr(\"try_cast(rating_count as int)\"))\n",
    "\n",
    "# Save as Silver\n",
    "df_clean.write.format(\"delta\").mode(\"overwrite\").option(\"overwriteSchema\", \"true\").saveAsTable(\"amazon_silver\")\n",
    "\n",
    "display(spark.table(\"amazon_silver\").limit(10))\n"
   ]
  },
  {
   "cell_type": "markdown",
   "metadata": {
    "application/vnd.databricks.v1+cell": {
     "cellMetadata": {},
     "inputWidgets": {},
     "nuid": "926c8ac4-4fce-4d9a-bf5f-c3b8e6bd8d6f",
     "showTitle": false,
     "tableResultSettingsMap": {},
     "title": ""
    }
   },
   "source": [
    "**Monitoring: Null & Bad Data Checks**\n",
    "- It counts NULL values in important columns (price, discount, rating, rating_count)\n",
    "- It will check for negative or zero prices (invalid)\n",
    "- Output shows data quality issues before moving to Gold"
   ]
  },
  {
   "cell_type": "code",
   "execution_count": 0,
   "metadata": {
    "application/vnd.databricks.v1+cell": {
     "cellMetadata": {
      "byteLimit": 2048000,
      "rowLimit": 10000
     },
     "inputWidgets": {},
     "nuid": "7c39b77b-38d7-476d-91aa-2e9ce4cefa90",
     "showTitle": false,
     "tableResultSettingsMap": {},
     "title": ""
    }
   },
   "outputs": [
    {
     "output_type": "display_data",
     "data": {
      "text/html": [
       "<style scoped>\n",
       "  .table-result-container {\n",
       "    max-height: 300px;\n",
       "    overflow: auto;\n",
       "  }\n",
       "  table, th, td {\n",
       "    border: 1px solid black;\n",
       "    border-collapse: collapse;\n",
       "  }\n",
       "  th, td {\n",
       "    padding: 5px;\n",
       "  }\n",
       "  th {\n",
       "    text-align: left;\n",
       "  }\n",
       "</style><div class='table-result-container'><table class='table-result'><thead style='background-color: white'><tr><th>discounted_price_nulls</th><th>actual_price_nulls</th><th>discount_percentage_nulls</th><th>rating_nulls</th><th>rating_count_nulls</th></tr></thead><tbody><tr><td>57</td><td>54</td><td>57</td><td>58</td><td>1148</td></tr></tbody></table></div>"
      ]
     },
     "metadata": {
      "application/vnd.databricks.v1+output": {
       "addedWidgets": {},
       "aggData": [],
       "aggError": "",
       "aggOverflow": false,
       "aggSchema": [],
       "aggSeriesLimitReached": false,
       "aggType": "",
       "arguments": {},
       "columnCustomDisplayInfos": {},
       "data": [
        [
         57,
         54,
         57,
         58,
         1148
        ]
       ],
       "datasetInfos": [],
       "dbfsResultPath": null,
       "isJsonSchema": true,
       "metadata": {},
       "overflow": false,
       "plotOptions": {
        "customPlotOptions": {},
        "displayType": "table",
        "pivotAggregation": null,
        "pivotColumns": null,
        "xColumns": null,
        "yColumns": null
       },
       "removedWidgets": [],
       "schema": [
        {
         "metadata": "{}",
         "name": "discounted_price_nulls",
         "type": "\"long\""
        },
        {
         "metadata": "{}",
         "name": "actual_price_nulls",
         "type": "\"long\""
        },
        {
         "metadata": "{}",
         "name": "discount_percentage_nulls",
         "type": "\"long\""
        },
        {
         "metadata": "{}",
         "name": "rating_nulls",
         "type": "\"long\""
        },
        {
         "metadata": "{}",
         "name": "rating_count_nulls",
         "type": "\"long\""
        }
       ],
       "type": "table"
      }
     },
     "output_type": "display_data"
    },
    {
     "output_type": "stream",
     "name": "stdout",
     "output_type": "stream",
     "text": [
      "Bad price rows: 0\n"
     ]
    }
   ],
   "source": [
    "\n",
    "from pyspark.sql import functions as F\n",
    "\n",
    "silver = spark.table(\"amazon_silver\")\n",
    "\n",
    "# Count nulls in important columns\n",
    "null_counts = silver.select([\n",
    "    F.count(F.when(F.col(c).isNull(), c)).alias(c + \"_nulls\")\n",
    "    for c in [\"discounted_price\", \"actual_price\", \"discount_percentage\", \"rating\", \"rating_count\"]\n",
    "])\n",
    "\n",
    "display(null_counts)\n",
    "\n",
    "# Check for negative or zero prices (invalid)\n",
    "bad_prices = silver.filter((F.col(\"discounted_price\") <= 0) | (F.col(\"actual_price\") <= 0))\n",
    "print(\"Bad price rows:\", bad_prices.count())\n"
   ]
  },
  {
   "cell_type": "markdown",
   "metadata": {
    "application/vnd.databricks.v1+cell": {
     "cellMetadata": {},
     "inputWidgets": {},
     "nuid": "0500680d-7752-457e-ba8d-932b7ae160e2",
     "showTitle": false,
     "tableResultSettingsMap": {},
     "title": ""
    }
   },
   "source": [
    "**Silver Cleanup: Filter Valid Rows**\n",
    "- Load the Silver table\n",
    "- Remove rows where discounted_price or actual_price is NULL\n",
    "- Ensures only valid numeric rows are passed to feature engineering"
   ]
  },
  {
   "cell_type": "code",
   "execution_count": 0,
   "metadata": {
    "application/vnd.databricks.v1+cell": {
     "cellMetadata": {
      "byteLimit": 2048000,
      "rowLimit": 10000
     },
     "inputWidgets": {},
     "nuid": "c511b4f4-ace0-49ea-b6d6-a9c2d7992650",
     "showTitle": false,
     "tableResultSettingsMap": {},
     "title": ""
    }
   },
   "outputs": [],
   "source": [
    "\n",
    "silver = spark.table(\"amazon_silver\")\n",
    "\n",
    "# Keep only rows with valid prices\n",
    "silver_clean = silver.filter(\n",
    "    silver.discounted_price.isNotNull() & silver.actual_price.isNotNull()\n",
    ")\n"
   ]
  },
  {
   "cell_type": "markdown",
   "metadata": {
    "application/vnd.databricks.v1+cell": {
     "cellMetadata": {},
     "inputWidgets": {},
     "nuid": "ea6e7c6d-003b-4b84-9ea4-b68ddcb63ca3",
     "showTitle": false,
     "tableResultSettingsMap": {},
     "title": ""
    }
   },
   "source": [
    "**Feature Engineering: Popularity Score**\n",
    "- Add a new column 'popularity_score'\n",
    "- Formula = rating_count * rating\n",
    "- Higher score = more popular product\n",
    "- This feature will help us decide anchor products"
   ]
  },
  {
   "cell_type": "code",
   "execution_count": 0,
   "metadata": {
    "application/vnd.databricks.v1+cell": {
     "cellMetadata": {
      "byteLimit": 2048000,
      "rowLimit": 10000
     },
     "inputWidgets": {},
     "nuid": "f1c2b7f1-8766-4f99-98f3-b659a1564f6c",
     "showTitle": false,
     "tableResultSettingsMap": {},
     "title": ""
    }
   },
   "outputs": [],
   "source": [
    "\n",
    "from pyspark.sql import functions as F\n",
    "\n",
    "silver_pop = silver_clean.withColumn(\n",
    "    \"popularity_score\", \n",
    "    (F.col(\"rating_count\") * F.col(\"rating\"))\n",
    ")\n"
   ]
  },
  {
   "cell_type": "markdown",
   "metadata": {
    "application/vnd.databricks.v1+cell": {
     "cellMetadata": {},
     "inputWidgets": {},
     "nuid": "7033f74b-cc5c-48d6-8a45-cc978d9eef80",
     "showTitle": false,
     "tableResultSettingsMap": {},
     "title": ""
    }
   },
   "source": [
    "**Gold Layer: Suggested Pricing**\n",
    "\n",
    "Step 1: Simplify category\n",
    " - Take only the first part of the category string (split by \"|\")\n",
    " \n",
    " Step 2: It define anchors vs non-anchors\n",
    "- Anchors = top 10% most popular products (by popularity_score)\n",
    "- Non-anchors = all other products\n",
    "\n",
    "Step 3: Compute anchor_median_price\n",
    "- Median discounted_price within each simplified category\n",
    "\n",
    "Step 4: Compute suggested_price for non-anchors\n",
    "- Formula: 90% anchor_median_price + 10% actual_price\n",
    "\n",
    "Step 5: Save results as Gold table (amazon_gold_pricing)"
   ]
  },
  {
   "cell_type": "code",
   "execution_count": 0,
   "metadata": {
    "application/vnd.databricks.v1+cell": {
     "cellMetadata": {
      "byteLimit": 2048000,
      "rowLimit": 10000
     },
     "inputWidgets": {},
     "nuid": "cf85ba8a-d08b-452d-b5f0-a263a371d218",
     "showTitle": false,
     "tableResultSettingsMap": {},
     "title": ""
    }
   },
   "outputs": [
    {
     "output_type": "display_data",
     "data": {
      "text/html": [
       "<style scoped>\n",
       "  .table-result-container {\n",
       "    max-height: 300px;\n",
       "    overflow: auto;\n",
       "  }\n",
       "  table, th, td {\n",
       "    border: 1px solid black;\n",
       "    border-collapse: collapse;\n",
       "  }\n",
       "  th, td {\n",
       "    padding: 5px;\n",
       "  }\n",
       "  th {\n",
       "    text-align: left;\n",
       "  }\n",
       "</style><div class='table-result-container'><table class='table-result'><thead style='background-color: white'><tr><th>category_simple</th><th>product_id</th><th>product_name</th><th>category</th><th>discounted_price</th><th>actual_price</th><th>discount_percentage</th><th>rating</th><th>rating_count</th><th>about_product</th><th>user_id</th><th>user_name</th><th>review_id</th><th>review_title</th><th>review_content</th><th>img_link</th><th>product_link</th><th>popularity_score</th><th>anchor_median_price</th><th>suggested_price</th></tr></thead><tbody><tr><td>Home&Kitchen</td><td>B09KNMLH4Y</td><td>R B Nova Lint/Fabric Shaver for Cloths, Lint Remover for Woolen Sweaters, Blankets, Jackets/Burr Remover Pill Remover from Carpets, Pack of 1</td><td>Home&Kitchen|Kitchen&HomeAppliances|Vacuum,Cleaning&Ironing|Irons,Steamers&Accessories|LintShavers</td><td>398.0</td><td>1999.0</td><td>80.0</td><td>4.1</td><td>257</td><td>Quick and efficient Switch to turn it on and gently run the shaving head over the surface of the clothes.|Corded The lint remover runs on an inbuilt battery and has a corded wire. Battery operated lint removers run out of power after a few times of use but you save hundreds on batteries with this corded lint remover.|Dual protection The adjustable height spacer protects your garments from being cut or snagged or caught. It also protects and reinforces your hands from accidentally touching the shaver foil. A cleaning brush is included in the pack to help you easily clean your appliance after use.|Smart design With large shaving head, detachable lint catcher and comfort grip handle. Slide downward to release the lint catcher gently to remove and clean the collected lint. The comfort grip handle allows the lint remover to fit comfortably in your hand, giving you a good and control as you de-fuzz your garments|Easily remove fabric fluff, fuzz, bobbles, pills, burr or roye from all types of garments and fabrics</td><td>AHNVMNUO3GZIOGQKKAGSPTXY5VEQ,AFKDML4DUIIFJPCMTZZMJTLQR5VQ,AFWWEYDN3ERGL6UJNV7GF6PB66JA,AFNBPDYECMALHAA3NL6L3JUUAWBQ,AFQ7CJTBPHCZUKFO6G7Y33VCXLKA,AGLQVPXIXE7WNSV7S5QV5UCNQUZQ,AGYVZCXMAA6OB3UGJXCUBQCQCYRQ,AECLL66KOCXSQJ2GAS5FF2DEIXQA</td><td>Amazon Customer,Mannat s.,Tanveer,Amit arora,girish saini,lokesh vijrai,Vipin,sadiya swaleh</td><td>R27SHBAT3K3F1R,R3EMA46KP56OXK,R2D7V4YKNKCXD4,R3UHV5AN1DF5H3,RV77H2T0BJN4V,R3O7GL8KXFAPBF,R2HXBI1ECJPV3J,R2QICML7QBXEC0</td><td>The Best Purchase,Very useful product,Good products,Very handy to remove lint,Good product,Good product,Good,It's worth it.</td><td>I've been an Amazon customer since 2014/15. This is, without any doubt the best purchase I've ever made.If you have polyester, polyester+cotton, acrylic, acrylic+wool or acrylic+polyester clothes you know that after sometime (maybe years, could be months) they will start to pill. Pilling is those small round blobs on the cloth: make the item look old and haggard, as if they've hand me downs.Well, this product will reset it back to its original look and feel. It's crazy how good it works, on socks, sweaters, mufflers, caps, gloves, fleece jackets, fleece pants, anything that has artificial fibre composition.Don't but the one with battery because you'll be restricted to the capacity of the battery and when it degrades the product is useless - corded is the way to go for me.Five stars without a doubt.,Easy to use and very useful product.,I am very happy,Made Plastic could have been better,Good product ,Works really well...,Removes lint in one go. Good to use. First time user.,Good,Very easy to use and it works really well. Leaves a near nd clean fabric after removing the lint completely.</td><td>https://m.media-amazon.com/images/I/51oPN7WqUwL._SY300_SX300_QL70_FMwebp_.jpg</td><td>https://www.amazon.in/Remover-Sweaters-Blankets-Jackets-Carpets/dp/B09KNMLH4Y/ref=sr_1_37_mod_primary_new?qid=1672923592&s=kitchen&sbo=RZvfv%2F%2FHxDF%2BO5021pAnSA%3D%3D&sr=1-37</td><td>1053.6999999999998</td><td>1999.0</td><td>1999.0</td></tr><tr><td>Home&Kitchen</td><td>B0B8XNPQPN</td><td>Pigeon Healthifry Digital Air Fryer, 360° High Speed Air Circulation Technology 1200 W with Non-Stick 4.2 L Basket - Green</td><td>Home&Kitchen|Kitchen&HomeAppliances|SmallKitchenAppliances|DeepFatFryers|AirFryers</td><td>3599.0</td><td>7950.0</td><td>55.0</td><td>4.2</td><td>136</td><td>Only Air Fryer with Appointment Function used to make fried foods such as meat, pastries, and potato chips.|AIR FRYER CAPACITY: 4.2 litre capacity is enough to enjoy your favorite French fries, samosas, and nuggets without having to worry|HEALTHIER FRIED FOOD: Pigeon Healthifry Digital Air Fryer is a tool that is used to cook food with 85% less oil which means with only one spoon of oil, you can cook your favorite food items. 360° HIGH SPEED AIR CIRCULARION TECHNOLOGY: Air fryers work by circulating hot air around a food item to create the same crispiness as traditional fried foods.|POWERFUL 1200 Watts: It heats up very quickly, cook food evenly and swiftly due to the combined presence of a concentrated heat source and the size and placement of the fan.|NON-STICK FOOD BASKET: 4.2 L Food Basket is Non-Stick that will allow food to be brown without sticking to the pan.</td><td>AECUHYUPESWI2DB5JMEZQF77VWOA,AE22MK2NXQD3ZARLIOL3SLD4GU6A,AFV75LSQUFRY327UWQEBYQKLFSMA,AEUFMJPVYKUAB34FPZ53O2EE7VNQ,AHAHSX35S3ZUCKX2UAB3DPGWCYJA,AG2GXBIXLFJD652RYILCZS44PBAA,AEPZDUAEBII7N7RRWKTPKON6HB3A,AEZSW3HIRJ2OUNDQHDJEB7NMGUWQ</td><td>koustav,Vishal Tiwari,Waheeda shabnam,alwin alex,Arjun,Placeholder,ishita,SVP</td><td>R12B5CYZJNMJ8U,R32EKF5FX50T0C,R3IN47V9QGF1K8,R3CL181R3N0TCN,R2ZR4F1TUAY3MT,RF70HM6O98GV9,RN4L9AGI1M35U,R3QISO0RQ0Q3Y9</td><td>New user,Worthy at this price,Good at dis price when comparing with other brands it is having two years of warranty,But there is no proper owners manuel ..which  brief the end there operation and cooking Time.,Ignore negative reviews,Best product with a reasonable price,The best quality air fryer you can get for this price,Think before you buy</td><td>Reviewing just after a day of using this product. We made French fries and chicken tikka and result is quiet impressive! The recipe book and cooking tips from the given QR code is really helpful. Hope it serves for a long time.Not to forget about the beautiful bottle green and golden look of it.,,https://m.media-amazon.com/images/I/81lT2gsd9sL._SY88.jpg,No detailed user manual.. no idea about the cooking time. How to use is not describe.,It works well and plastic quality is poor but it can wothstand the temperature for sure. Its not a toy to look for high quality plastic. And for the half the price that the other models, we can ignore that.Functionality wise its perfect.Just buy it,Don't go for costly products as it is available in a reasonable price and it has so many great features. I'm happy with it,Pigeon never dissapointd with their quality. The best way to have healthy, crispy food.,The outcome of cooked is not up to the mark.  The recipe book was not attached so,  it is difficult to know how to cook different dishes.  I tried some but outcome was bad.  Definitely you will have to compromise taste if you use this appliance.  I'm very much worried about the current consumption.  Think before you buy these air fryers.</td><td>https://m.media-amazon.com/images/I/31Jad8ITgaL._SX300_SY300_QL70_FMwebp_.jpg</td><td>https://www.amazon.in/Pigeon-Healthifry-Circulation-Technology-Non-Stick/dp/B0B8XNPQPN/ref=sr_1_44?qid=1672923592&s=kitchen&sr=1-44</td><td>571.2</td><td>1999.0</td><td>2594.1</td></tr><tr><td>Home&Kitchen</td><td>B0BGPN4GGH</td><td>Lifelong LLQH925 Dyno Quartz Heater 2 Power settings Tip Over Cut-off Switch 800 Watt Silent operation Power Indicator 2 Rod Room Heater (1 Year Warranty, Grey)</td><td>Home&Kitchen|Heating,Cooling&AirQuality|RoomHeaters|ElectricHeaters</td><td>1099.0</td><td>2400.0</td><td>54.0</td><td>3.8</td><td>4</td><td>Meant for Spot Heating; Voltage/Frequency: 230V/50Hz/1 Phase|Powerful and Stylish Room Heater for Room Size: Upto 150 sq ft|Safety tip over switch cuts off the heater in case it tilts or falls|Designed for low power consumption and silent noiseless operation|Cord Length (in meters : 1.5)|Country of Origin: India || Power : 800 Watts</td><td>AEB475WQGOIS7R5P667OS3Y4YYSQ,AH7D2QWLLWMHIP2H3OQZ63D4RMEQ,AHKZLDWBBDU4KGY6XTFJVWSZDZVQ</td><td>Avi kaur,Bhatia,ayonao</td><td>R32KN5G7FW7ZJ9,RGFPF1FPU9POV,R166LGSC344H4W</td><td>Compact and effective,Very handy and useful product,Not satisfied</td><td>Pretty lightweight and solves the purpose.,I liked the compact size and efficiency of the product. Meets the specs and good product for a buy,Light indicator was not working,wire is too short not 1 and half metre</td><td>https://m.media-amazon.com/images/W/WEBP_402378-T1/images/I/41e3A7YKxeL._SX300_SY300_QL70_FMwebp_.jpg</td><td>https://www.amazon.in/Lifelong-LLQH925-settings-operation-Indicator/dp/B0BGPN4GGH/ref=sr_1_62?qid=1672923593&s=kitchen&sr=1-62</td><td>15.2</td><td>1999.0</td><td>2039.1</td></tr><tr><td>Home&Kitchen</td><td>B0B2DZ5S6R</td><td>Amazon Basics 1500 W Electric Kettle (Stainless Steel Body, 1.5 L)</td><td>Home&Kitchen|Kitchen&HomeAppliances|SmallKitchenAppliances|Kettles&HotWaterDispensers|Kettle&ToasterSets</td><td>749.0</td><td>1299.0</td><td>42.0</td><td>4.0</td><td>119</td><td>Heat and warm water anytime, anywhere with the Amazon Basics Electric Kettle|Built from high-quality raw materials; stainless steel body; lightweight and durable electric kettle|Auto cut-off switch when the water reaches the desired temperature|User-friendly; 360-degree rotating base with plug-in facility|Capacity: 1.5 L|Embedded optimal power-consuming technology; Wattage:1500 Watts|Heat-resistant and cool-touch plastic handle; energy-efficient, affordable and long-lasting kettle|Care instructions: Do not immerse the product in water. Do not touch the stainless steel body during and after boiling. Keep the kettle away from children</td><td>AGPSLGGTW5EHCUCCFEPSMH76H3NQ,AFJ2YACJOQIL4CKZZEDPSP3PZHOQ,AGKHBAELL7AOON2QVRG6EQ6YV6RQ,AFOQ5WEUSSLHKGE5MTWWJTN3AXOA,AERBX2ZBWXBE4HAVQ2Z33QANOOAQ,AHWU7AHDKBJQGVBN77UECJRMP2ZQ,AHRLM722B3LWWPMVM7FEFAZN5JZA,AHD5JQAEIHIAAAFUCBHJQ4VXH2GQ</td><td>Shaji Kuruvilla,Navin Yadav,Nieraj Kumar,Amazon customer,DIVYA,suraj kumar lohiya,Gomathi,Leo</td><td>R13JNSWNKVVI9T,R2JSC7U8B4MA2C,RRNJOTGQVMBP9,R2IEKQ2HBHTPYC,R3PJHP1S75AYAW,R12BP3F974Z6HW,R39E7VJSOOBTO8,RAB464T30GKBZ</td><td>Worth for the price,Good,Just Average,Great!,Good product. Few minutes to boil the water and very useful,Very nice working,Good quality,Used the product.  As of everything was fine. Good</td><td>Easy to handle......,Good,Good product at this priceI am disappointed that autocut is not there as shown in website and in about section of product.,Easy to use and comparatively less cost.,,This cattle is better than others brand,Quality is so good. Gets heating fastly. Made hot water, tea & coffee.. As expected.. Loved it.,Good</td><td>https://m.media-amazon.com/images/I/41twHEBU-LL._SX300_SY300_QL70_FMwebp_.jpg</td><td>https://www.amazon.in/Amazon-Basics-Electric-Kettle-Stainless/dp/B0B2DZ5S6R/ref=sr_1_63?qid=1672923593&s=kitchen&sr=1-63</td><td>476.0</td><td>1999.0</td><td>1929.0</td></tr><tr><td>Home&Kitchen</td><td>B09LV1CMGH</td><td>Lifelong LLFH921 Regalia 2000 W Fan Heater, 3 Air Settings, Room Heater with Overheating Protection, 1 Year Warranty ( White, (ISI Certified, Ideal for small to medium room/area)</td><td>Home&Kitchen|Heating,Cooling&AirQuality|RoomHeaters|FanHeaters</td><td>899.0</td><td>2000.0</td><td>55.0</td><td>3.6</td><td>291</td><td>Meant for Spot Heating|Ideal for a small room only, i.e., up to 150 sq. ft|Robust Design for fast & efficient + heating|Country of Origin: India|Do not worry if you experience some burning smell when you run your room heater for the 1st time. This is due to the motor varnish getting heated for the 1st time. The problem should not recur in subsequent usage. If it does, please contact our Customer support|Caution - Always use the product with 16A socket. Using it on lower rating sockets may result in melting of socket or the plug.|Reliable & Safe : Lifelong LLFH921 Regalia 2000W Fan Heater comes with 1 Year Domestic Warranty. For any warranty related issues, please call the Lifelong Customer Support - +91 9711558877 or customercare@lifelongindia.com</td><td>AGWW6QNDSOJD7QJMPIUX6ARHJNYQ,AGBTCEQQM6J6NFR5SH5RLAFUGFTQ,AGEBDGHKAWRQ3G2K5AKRTQTCKQSA,AH6ZP7UHCY3RFNPXJFR3EKEVNR3Q,AGJ7O6CXXXUN72WOV5JID7X7ZBMQ,AF3X5JX4FUQRCMHTMKZUDHWJ7B4A,AFNYWWOJRBL24SML73HBJVSRXMEQ,AFK6FJPTHV56DSXXPAMBI4F7YUCQ</td><td>Usha,CHHATRPAL,Anurag Anand,Sijo Pattam,Gurujeetsingh Pardeshi,Keerthy,ANUPAM DATTA,Binay bharti</td><td>R2GKWK7SWXRZHR,R3ME9LEM264R7O,R2B4QC6Z8AM7H1,RZLN7G4GGELUS,R26JLYEZYUE691,R2ZHISR958ZRRA,R2GXFJHTKM6SQ5,R29Z3ZW915UAB9</td><td>For medium sized room,Best product,For bed only,not for full room,Damage,Its okay,Does the job,Not Good , Power cord  very short,Not satisfied</td><td>,Nice blower,Not heating full room, only bed,Product is broken,The body is made of soft plastic. As per price its okay.,Review after 10 days usage.Material of the heater is plastic and seems okay. I use it to warm the 16*10 room. In the room temperature of 15*-20*. I could feel the room gets warm in 1 hr. Blowing hot air can be felt upto 4 ft. It comes with 15A plug. I use converter 16A to 5A.With 16A outlet it could perform much betterReally a good product.,Not good, power cord very short, no markings on switch positions , thermostat is not working properly……,Wire length is too small which is useless . तार से कितना बचा लोगे भाई</td><td>https://images-na.ssl-images-amazon.com/images/W/WEBP_402378-T1/images/I/41d17oVYVeL._SX300_SY300_QL70_FMwebp_.jpg</td><td>https://www.amazon.in/Lifelong-LLFH921-Overheating-Protection-Certified/dp/B09LV1CMGH/ref=sr_1_70?qid=1672923593&s=kitchen&sr=1-70</td><td>1047.6000000000001</td><td>1999.0</td><td>1999.1</td></tr><tr><td>Home&Kitchen</td><td>B09NL7LBWT</td><td>Bulfyss USB Rechargeable Lint Remover Fabric Shaver Pet Hair Remover, Effectively and Quickly Remove Fuzz for Clothes, Sweater, Couch, Sofa, Blanket, Curtain, Wool, Cashmere (Grey, 1 Year Warranty)</td><td>Home&Kitchen|Kitchen&HomeAppliances|Vacuum,Cleaning&Ironing|Irons,Steamers&Accessories|LintShavers</td><td>1099.0</td><td>1999.0</td><td>45.0</td><td>4.0</td><td>604</td><td>INNOVATIVE DESIGN, BUILT TO LAST LONGER: Created with quality in mind! Using the premium materials, (heavy-duty abs plastic shell + SS mesh cover and razor-sharp 3- blades). Combined with durable and advance technology, rest assured that it will never break or damage easily plus powerful suction and the efficient motor that shaves off and leaves the sweater clean and lint-free like newly bought.|FAST CHARGING, EASY TO USE, TRAVEL-FRIENDLY: Hassle-free lint remover cleaner, just charge and use. Charging compatible, multiple options; Charge and direct plug to laptop/desktop, power-bank, car charger, smart IC charger. 2 hours of charging can operate for 45 minutes with low electric consumption and design for travel and home use, compact and lightweight|6 SHARP BLADE, DEFUZZ ALMOST ALL FABRIC LINTS: Take advantage with our newest and revolutionize fabric defuzzer device that has 3 blades horizontal & 3 blades Vertical that cuts through excess loose threads, fuzz balls and lint’s from your winter coat, sweater, scarf, gloves, plush toys, car cushion, sofa, leggings, bedding, curtains and linens and other clothing's and fabrics that needs to de-fuzz!|RENEW FABRIC SAFELY AND EFFICIENTLY: Function delicately to protect further damage on clothes and fabric, with honeycomb mesh-like cover that doesn't deform and reduces the friction of clothes. Automatic shut-off lint shaver, thanks to the safety lock, the device automatically stops when the blade cover is open or loose. With 65mm mesh that tackles almost all sizes of loose threads and loops; particulate lint, fine particulate pill, and intensive fuzz, no problem!|WIDER LINT STORAGE: No mess and sticky residue like standard lint remover in the market, provided with removable lint collector container that will catch all lint and fuzz, Plus strong suction, powerfully draws all lint that has been remove and goes through the container effortlessly, removable for easy cleanup. You’ll love how it delivers the seamless removing of lint on coat and sweater.|NOTE - Use fast charging adaptor (>30W) to completely charge device within 2 Hours.|1 year manufacturer’s warranty</td><td>AFEKMA42BV5FJVCTFCTNOITU3J5Q,AGYM2FPHHKUVNPT2XIIYYCELGB7A,AEHGMGXA44JTSSOAKBIHJ2MXUJOA,AEQZUVSKU4NRHO4CPHAV32E2RBNQ,AHJ6KV7SLE2A5BW3MIEVW4BR7MXQ,AFFCDFQM4F2QGZUHKZYVVVTRQWAQ,AENA5ZRRFZPAB2FNS4TITBW5O6ZA,AEHNATRKVLZZ3X2QKTLTSJN5SOXQ</td><td>Ishan,Andrew Watson,Harvinder Singh.,Mohammad Shakir,Sarita Yadav,Adarsh Paswan,Anisha Jain,Himanshu</td><td>R72U42YTSBK1O,R10B9A5RIHMWPY,R1ATLW10SEN45D,RHLZDSUTN4WQ,R2CREC0HRFEXPQ,R3BW6OLRVHFFWR,R1HUWMLHIVMIKD,R2S8FH6HRDDSCF</td><td>Good product must have for winters cloths.,All over good,Beautiful product and easy to use having items as shown in the details.,Working good but need to do some improvement,Nice product.,Awesome Product,Awesome finishing on clothes,Amazing best product</td><td>,Product is good but not for heavy duty. Blades are too weak get jammed easily. All over not bad for a bachelor it is a best product. Who have pet this is not the one.,I like it very much.,Working good but need to do some improvement,It's all gone. Wow. This electric device just cleans the lint so easily as if I would know what to do. An extra blade is just an icing on the cake.  Just pick any type of cloth and it just scrapes anything extra over them.,this is specially winter product...it have very sharp blades which easily removes the lints or rolled wollen materials. Also ithave very good runnning time of 45 min approx. it makes the winter clothes lint free which looks like new ...it comes with extra blade and and charging cable along with cleaning brush ...totally worth product...thanks amazon,It’s very awesome lint remover. i very happy with the results. it will make your clothes as they are new in condition. useful for all kind of fabric clothes. battery backup is more than enough. you will receive extra blade , cleaning brush and charging cable with this device.,You can remove alot of lint at a particular time without cleaning it.this lint remover has just saved my time and efforts.Happy to use it . you will receive extra blade , cleaning brush and charging cable</td><td>https://m.media-amazon.com/images/I/41KeuNgJDiL._SX300_SY300_QL70_FMwebp_.jpg</td><td>https://www.amazon.in/Bulfyss-Rechargeable-Effectively-Cashmere-Warranty/dp/B09NL7LBWT/ref=sr_1_74?qid=1672923593&s=kitchen&sr=1-74</td><td>2416.0</td><td>1999.0</td><td>1999.0</td></tr><tr><td>Home&Kitchen</td><td>B0BPBXNQQT</td><td>Room Heater Warmer Wall-Outlet 400 Watts Electric Handy Room Heater (Room Heaters Home for Bedroom, Reading Books, Work, bathrooms, Rooms, Offices, Home Offices,2022</td><td>Home&Kitchen|Heating,Cooling&AirQuality|RoomHeaters|ElectricHeaters</td><td>799.0</td><td>1989.0</td><td>60.0</td><td>4.3</td><td>70</td><td>Fast Heating :- Ceramic heating element creates energy efficient warmth quickly in 3 seconds.|Overheat protection : PTC ceramic element is self-regulating With the design of over-heat protection for thermal control|Adjustable Temperature & Silent :- Adjustable thermostat control monitors the temperature around you for optimal heating|Energy efficient and Portable :- Ceramic heating element for energy-efficient operation|Compact Design :- It's compact enough to take anywhere,Great for the camper or give it to the kids for their college dorm rooms.</td><td>AH7ZFZAWQV5VTWQHLXZYDGFDNJGQ,AHFM667GXYFTR3AUJA3PYCTQNTRQ,AHMVXMVFXD52BW23VR6LGK6ZVYLQ,AFY4TSX2F5VE4VZOVGHWODY6YMXQ,AGE4VV5XHVOEH4P5GC4F6QP5WRQQ,AE65JZULZYSAXTA2EGDZEM6PBYPA,AHNDS2S3ENCHSKCCU22SVWH5UZKA,AG5BPTCQ4ZU6JWWKH2KBGNLSLKCA</td><td>Rajiv Ranjan Singh,Eswar Babu,Gaurav Choudhary,Vinay kumar,Placeholder,imti,Satyanarain,Sanjay</td><td>RZO6XGE3P1DX,R3RCHNNZ1GVHBL,R32VH8C2WKSPBO,RHPUY1L6EN7BY,RIVPXD585WKHV,RJBJT7A32QWPV,R1E92T2MFYX7MK,R2K5O9IMJOXBEX</td><td>Good for small rooms,Better,Good quality,Nice product,Good product,Potable room heater,Room heater is useful,Good Heater</td><td>If u have to heat a small room you can definitely use this heater but people need to be near it to feel the heat.,Product is nice and better only when you are close to it. It can't cool the small room atle,It is value for money and worth buying product, best build quality in this price range,The nice product and light weight very easy usable product,Good product value for money,I received the room heater it's really very good \uD83D\uDE01,This is Very good product,It’s good for smaller space.</td><td>https://m.media-amazon.com/images/W/WEBP_402378-T1/images/I/51ey0zzictL._SX300_SY300_QL70_FMwebp_.jpg</td><td>https://www.amazon.in/Wall-Outlet-Electric-Heaters-Bedroom-bathrooms/dp/B0BPBXNQQT/ref=sr_1_78?qid=1672923593&s=kitchen&sr=1-78</td><td>301.0</td><td>1999.0</td><td>1998.0</td></tr><tr><td>Home&Kitchen</td><td>B09ZTZ9N3Q</td><td>Amazon Basics 2000/1000 Watt Room Heater with Adjustable Thermostat (ISI certified, White color, Ideal for small to medium room/area)</td><td>Home&Kitchen|Heating,Cooling&AirQuality|RoomHeaters|FanHeaters</td><td>1049.0</td><td>1699.0</td><td>38.0</td><td>3.1</td><td>111</td><td>Say goodbye to the worries about dealing with the cold weather with the Amazon Basics Electric Room Heater|Ideal for small to medium-size rooms|Two Knobs - one for Heat mode (1000W or 2000W) another for thermostat for temperature control.|Equipped with 2 heat modes, 1000 watts and 2000 watts|Turbo fan motor evenly distributes heat in the room|Compact and lightweight room heater can be placed anywhere in the house|Plastic fire-retardant body and metal grill that contains copper ensure safety while in use|Ultra quiet in operation, Inbuilt thermostat for safety</td><td>AFWHK4LKZHJJVZKD23JDBSMYCTWA,AG4YW4O2PIYELIEF7RIWWELPR2IQ,AG7KEHOTRQWYCFBB3YOYWNEEKOWA,AG4VHCBBGV55FALKIZXY7Y66G2QA,AFIVHFGYMXUH432ZHISVITBGO36A,AE2QCA6OGX2KOV5CKDSU2S35R4LQ,AHS4K4PMVZYWPO23PM2ZLSJBQOBA,AHDZQ4ZYL7CHT6BLJE6QRKZ4ANIQ</td><td>Kulsoom Hussain,Hanamant Waddar,Raju Pandey,Akash sachan,Mohamed Jarjees Ali,Radheshyam Tripathy,Satheesh,Kunal govindbhai dhedhi</td><td>R3VGVVQLQT97ML,R1Y56E8635Y7QD,RT5YXKE0NNQ8F,R2GEEMC0X545J5,R3KWBNS9ODP471,R3JEC32DYAIG6W,R1VD5AUGPRPO7H,R17S3I8NWLC4F1</td><td>It's good \uD83D\uDC4D,Good...,Good Product,Satisfied,Good for small room,Unsure,Not bad,Don't bye it....</td><td>\"It's working,Good,Good Product \uD83D\uDC4D,Nice product,Cant use for long hours. Good for small rooms and can be used for a minimum amount of time.,Not sure if I can use overnight.,Nice bad high price,Please don't bye it, I ordered this Amazon basics room heater, it running well for two months and suddenly stop working when I want to claim my 1 year warrenty, their customer card service is really sucks, when I called customer service, first it is told that \"\" You have to register warrenty first \"\" Then I register my warrenty and it takes 3 days to register and then I apply for my warrenty</td><td> they told me to email at Amazon brand email</td><td> and now such disaster started</td><td>344.1</td><td>1999.0</td><td>1969.0</td></tr><tr><td>Home&Kitchen</td><td>B0B25DJ352</td><td>GILTON Egg Boiler Electric Automatic Off 7 Egg Poacher for Steaming, Cooking Also Boiling and Frying, Multi Color</td><td>Home&Kitchen|Kitchen&HomeAppliances|SmallKitchenAppliances|EggBoilers</td><td>353.0</td><td>1199.0</td><td>71.0</td><td>4.3</td><td>629</td><td>\"Cook up to 7 eggs in soft, medium, or hard boiled firmness, while saving time and water. Eggs come out consistently perfect, shell is easy to peel, and clean up is super easy!|This Egg Boiler takes only 10 minutes to cook the eggs Fill measuring cup with water to desired doneness, press the power button once and within minutes your eggs will be \"\"Egg-Celent!\"\" Fun and simple to use for family members of all ages!|Multi-functional egg shelf design</td><td> varied size of eggs can be steamed</td><td> automatic cut - off function|You can consistently prepare eggs the way you like without fat or oil.\"</td><td>AET3FR7J3R37VHFFZQHMBLV5ELOA,AEURVTR2NJUO6OMIUX7AL2Q6PYLQ,AGET73SJOAW2YXZSDMPGBCTZDPAQ,AEVJJUZQMXEWZJF2MJKNQDASDCSQ,AFDQAJVNVC5DM6SHSC2TDEAZEOTQ,AHG2TGE2J6EVY6LVRY5Z4T5QXDVA,AF3QTFMFYOCXB5AQRGCPFGYLOXEA,AF4OIHI7WHGZ2DHTOI7NJPSRD3XA</td><td>Sneha W.,M DHANAMJAYAN,JATIN,Vara prasad,Zaki,latheef,Laxmi,Sandesh kumar</td><td>R3B2VNS1Q5M7NI,R2FKC4BNR12YR,R2QL8IDEY4CYMQ,R29W5GFT7N67BK,R52TPUGTJPEEN,R1VMPT5F3R92O1,R2XIY1Q0JEYNIH,RHJOMDBO7WS73</td><td>Good product,Worth of cast and useful of batchelors,This product quality is very good,i like this product,Value for Money,Verry use ful,Good product and easy to use,Looks nice,Excellent product</td><td>https://m.media-amazon.com/images/I/41FwgWAcaHL._SY88.jpg,It doesn't occupied more space easy to kept any where but wire length i feel bad bcz it is too short.,I like many things of this product like quality, colour,easy to use and most important thing is in my budget,Value for Money any one can buy and  satisfy the product,Very useful product thank Amazon,Good product easy to use,Shape and product looks nice.,Well , i am using your EGG POACHER . After using it extensively for many days i would like to say that it is a perfect device to boil eggs . At this cost i'd never expected this kind of excellent product quality .I am really satisfied with this product and looking forward to buy another for my brother .I suggest everyone to go for it without doubt .</td><td>2704.7</td><td>1999.0</td><td>1919.0</td></tr><tr><td>Home&Kitchen</td><td>B08MVSGXMY</td><td>Crompton Insta Comfy 800 Watt Room Heater with 2 Heat Settings(Grey Blue)</td><td>Home&Kitchen|Heating,Cooling&AirQuality|RoomHeaters|ElectricHeaters</td><td>1498.0</td><td>2300.0</td><td>35.0</td><td>3.8</td><td>95</td><td>The advanced quartz tubes get quickly heated and its dual heat setting features allow you to adjust the temperature as per your comfort|Fused with elegant and sleek design that goes well with your décor|High efficient quick heating quartz rod with two setting 400W+400W|Rust free stainless steel reflector, along with Tip-Over proctection for a safer experience|An ISI approved product powered with shock proof body and a carrying handle|Power Requirement - 200-220E 50HZ 800W, Two Settings 400W+400W|Warranty: 1 years warranty provided by crompton from date of purchase, covers on manufacturing defects kindly read the usermanual for more details</td><td>AEWNF4GPHERXGZRJC3TOQRSXCQ2A,AHDO5PN5JGBBDMPGSGB3DRKYCBWA,AGBEDXMF6BSFODJP4MWYYTSLN62Q,AHBANMLYMR32OLUTA4UWCEM4RS3A,AGO6PVXYI6OL74JB6XZNCTPLUDNQ,AF5A6W6BXOFOFEU6XLJDHGTJWWDQ,AGJGSPUQPTXAWMNQM7DVBDMOLF2Q,AHJ3MZMF6XCTMU4Q2ZRGHQIPYTVA</td><td>ARCHANA SINGH,Devendra Singh,Sanjit Guruaribam,Ram Gopal Pareek,SAROJ KUMAR,Balbirsinghpathania,SHAILAJA,Vikas singh</td><td>R3CDTV5JOEQJB6,R2OOA2Q6V7X8S6,R1VANIESY8QF0E,RYL1C4JQ1KCOH,R35KJ7NCHW1X1E,RIKQ3HQUQVC0Q,R2BSID2R1SF0GZ,R2SSCAXKIHE4Y6</td><td>Good product,Very nice products good quality \uD83D\uDC4C\uD83D\uDC4C,use carefully,No fear of over loading,very nice,Safety switch not working witch required change,Not stainless Steel make reflector !,Bullshit product</td><td>Since I have just started using, I find it a good product.,Good quality,,Very handy, light portable and safe heater. Each rod consumes only 400 Watt of power, so you may take the risk of keeping it on with one rod on for hours together with out the risk of over heating of cable, MCB breakdown or fire. It can be plugged in a five ampere ordinary domestic socket without 15 ampere power supply.,very nice,Like,Reflector is not Stainless Steel make and hence description in the web does not match. However,  I did not return the item as it it is waste of time.,Never buy this product for use,after one week its plastic frame melts itself and make smooky smellOtherwise i am mech. Engg and CROMPTON has been alreay made great name in motors, pumps</td><td>https://m.media-amazon.com/images/I/41v9yj848iL._SX300_SY300_QL70_FMwebp_.jpg</td><td>https://www.amazon.in/Crompton-Insta-Comfy-Heater-Settings/dp/B08MVSGXMY/ref=sr_1_110?qid=1672923596&s=kitchen&sr=1-110</td><td>361.0</td><td>1999.0</td><td>2029.1</td></tr></tbody></table></div>"
      ]
     },
     "metadata": {
      "application/vnd.databricks.v1+output": {
       "addedWidgets": {},
       "aggData": [],
       "aggError": "",
       "aggOverflow": false,
       "aggSchema": [],
       "aggSeriesLimitReached": false,
       "aggType": "",
       "arguments": {},
       "columnCustomDisplayInfos": {},
       "data": [
        [
         "Home&Kitchen",
         "B09KNMLH4Y",
         "R B Nova Lint/Fabric Shaver for Cloths, Lint Remover for Woolen Sweaters, Blankets, Jackets/Burr Remover Pill Remover from Carpets, Pack of 1",
         "Home&Kitchen|Kitchen&HomeAppliances|Vacuum,Cleaning&Ironing|Irons,Steamers&Accessories|LintShavers",
         398.0,
         1999.0,
         80.0,
         4.1,
         257,
         "Quick and efficient Switch to turn it on and gently run the shaving head over the surface of the clothes.|Corded The lint remover runs on an inbuilt battery and has a corded wire. Battery operated lint removers run out of power after a few times of use but you save hundreds on batteries with this corded lint remover.|Dual protection The adjustable height spacer protects your garments from being cut or snagged or caught. It also protects and reinforces your hands from accidentally touching the shaver foil. A cleaning brush is included in the pack to help you easily clean your appliance after use.|Smart design With large shaving head, detachable lint catcher and comfort grip handle. Slide downward to release the lint catcher gently to remove and clean the collected lint. The comfort grip handle allows the lint remover to fit comfortably in your hand, giving you a good and control as you de-fuzz your garments|Easily remove fabric fluff, fuzz, bobbles, pills, burr or roye from all types of garments and fabrics",
         "AHNVMNUO3GZIOGQKKAGSPTXY5VEQ,AFKDML4DUIIFJPCMTZZMJTLQR5VQ,AFWWEYDN3ERGL6UJNV7GF6PB66JA,AFNBPDYECMALHAA3NL6L3JUUAWBQ,AFQ7CJTBPHCZUKFO6G7Y33VCXLKA,AGLQVPXIXE7WNSV7S5QV5UCNQUZQ,AGYVZCXMAA6OB3UGJXCUBQCQCYRQ,AECLL66KOCXSQJ2GAS5FF2DEIXQA",
         "Amazon Customer,Mannat s.,Tanveer,Amit arora,girish saini,lokesh vijrai,Vipin,sadiya swaleh",
         "R27SHBAT3K3F1R,R3EMA46KP56OXK,R2D7V4YKNKCXD4,R3UHV5AN1DF5H3,RV77H2T0BJN4V,R3O7GL8KXFAPBF,R2HXBI1ECJPV3J,R2QICML7QBXEC0",
         "The Best Purchase,Very useful product,Good products,Very handy to remove lint,Good product,Good product,Good,It's worth it.",
         "I've been an Amazon customer since 2014/15. This is, without any doubt the best purchase I've ever made.If you have polyester, polyester+cotton, acrylic, acrylic+wool or acrylic+polyester clothes you know that after sometime (maybe years, could be months) they will start to pill. Pilling is those small round blobs on the cloth: make the item look old and haggard, as if they've hand me downs.Well, this product will reset it back to its original look and feel. It's crazy how good it works, on socks, sweaters, mufflers, caps, gloves, fleece jackets, fleece pants, anything that has artificial fibre composition.Don't but the one with battery because you'll be restricted to the capacity of the battery and when it degrades the product is useless - corded is the way to go for me.Five stars without a doubt.,Easy to use and very useful product.,I am very happy,Made Plastic could have been better,Good product ,Works really well...,Removes lint in one go. Good to use. First time user.,Good,Very easy to use and it works really well. Leaves a near nd clean fabric after removing the lint completely.",
         "https://m.media-amazon.com/images/I/51oPN7WqUwL._SY300_SX300_QL70_FMwebp_.jpg",
         "https://www.amazon.in/Remover-Sweaters-Blankets-Jackets-Carpets/dp/B09KNMLH4Y/ref=sr_1_37_mod_primary_new?qid=1672923592&s=kitchen&sbo=RZvfv%2F%2FHxDF%2BO5021pAnSA%3D%3D&sr=1-37",
         1053.6999999999998,
         1999.0,
         1999.0
        ],
        [
         "Home&Kitchen",
         "B0B8XNPQPN",
         "Pigeon Healthifry Digital Air Fryer, 360° High Speed Air Circulation Technology 1200 W with Non-Stick 4.2 L Basket - Green",
         "Home&Kitchen|Kitchen&HomeAppliances|SmallKitchenAppliances|DeepFatFryers|AirFryers",
         3599.0,
         7950.0,
         55.0,
         4.2,
         136,
         "Only Air Fryer with Appointment Function used to make fried foods such as meat, pastries, and potato chips.|AIR FRYER CAPACITY: 4.2 litre capacity is enough to enjoy your favorite French fries, samosas, and nuggets without having to worry|HEALTHIER FRIED FOOD: Pigeon Healthifry Digital Air Fryer is a tool that is used to cook food with 85% less oil which means with only one spoon of oil, you can cook your favorite food items. 360° HIGH SPEED AIR CIRCULARION TECHNOLOGY: Air fryers work by circulating hot air around a food item to create the same crispiness as traditional fried foods.|POWERFUL 1200 Watts: It heats up very quickly, cook food evenly and swiftly due to the combined presence of a concentrated heat source and the size and placement of the fan.|NON-STICK FOOD BASKET: 4.2 L Food Basket is Non-Stick that will allow food to be brown without sticking to the pan.",
         "AECUHYUPESWI2DB5JMEZQF77VWOA,AE22MK2NXQD3ZARLIOL3SLD4GU6A,AFV75LSQUFRY327UWQEBYQKLFSMA,AEUFMJPVYKUAB34FPZ53O2EE7VNQ,AHAHSX35S3ZUCKX2UAB3DPGWCYJA,AG2GXBIXLFJD652RYILCZS44PBAA,AEPZDUAEBII7N7RRWKTPKON6HB3A,AEZSW3HIRJ2OUNDQHDJEB7NMGUWQ",
         "koustav,Vishal Tiwari,Waheeda shabnam,alwin alex,Arjun,Placeholder,ishita,SVP",
         "R12B5CYZJNMJ8U,R32EKF5FX50T0C,R3IN47V9QGF1K8,R3CL181R3N0TCN,R2ZR4F1TUAY3MT,RF70HM6O98GV9,RN4L9AGI1M35U,R3QISO0RQ0Q3Y9",
         "New user,Worthy at this price,Good at dis price when comparing with other brands it is having two years of warranty,But there is no proper owners manuel ..which  brief the end there operation and cooking Time.,Ignore negative reviews,Best product with a reasonable price,The best quality air fryer you can get for this price,Think before you buy",
         "Reviewing just after a day of using this product. We made French fries and chicken tikka and result is quiet impressive! The recipe book and cooking tips from the given QR code is really helpful. Hope it serves for a long time.Not to forget about the beautiful bottle green and golden look of it.,,https://m.media-amazon.com/images/I/81lT2gsd9sL._SY88.jpg,No detailed user manual.. no idea about the cooking time. How to use is not describe.,It works well and plastic quality is poor but it can wothstand the temperature for sure. Its not a toy to look for high quality plastic. And for the half the price that the other models, we can ignore that.Functionality wise its perfect.Just buy it,Don't go for costly products as it is available in a reasonable price and it has so many great features. I'm happy with it,Pigeon never dissapointd with their quality. The best way to have healthy, crispy food.,The outcome of cooked is not up to the mark.  The recipe book was not attached so,  it is difficult to know how to cook different dishes.  I tried some but outcome was bad.  Definitely you will have to compromise taste if you use this appliance.  I'm very much worried about the current consumption.  Think before you buy these air fryers.",
         "https://m.media-amazon.com/images/I/31Jad8ITgaL._SX300_SY300_QL70_FMwebp_.jpg",
         "https://www.amazon.in/Pigeon-Healthifry-Circulation-Technology-Non-Stick/dp/B0B8XNPQPN/ref=sr_1_44?qid=1672923592&s=kitchen&sr=1-44",
         571.2,
         1999.0,
         2594.1
        ],
        [
         "Home&Kitchen",
         "B0BGPN4GGH",
         "Lifelong LLQH925 Dyno Quartz Heater 2 Power settings Tip Over Cut-off Switch 800 Watt Silent operation Power Indicator 2 Rod Room Heater (1 Year Warranty, Grey)",
         "Home&Kitchen|Heating,Cooling&AirQuality|RoomHeaters|ElectricHeaters",
         1099.0,
         2400.0,
         54.0,
         3.8,
         4,
         "Meant for Spot Heating; Voltage/Frequency: 230V/50Hz/1 Phase|Powerful and Stylish Room Heater for Room Size: Upto 150 sq ft|Safety tip over switch cuts off the heater in case it tilts or falls|Designed for low power consumption and silent noiseless operation|Cord Length (in meters : 1.5)|Country of Origin: India || Power : 800 Watts",
         "AEB475WQGOIS7R5P667OS3Y4YYSQ,AH7D2QWLLWMHIP2H3OQZ63D4RMEQ,AHKZLDWBBDU4KGY6XTFJVWSZDZVQ",
         "Avi kaur,Bhatia,ayonao",
         "R32KN5G7FW7ZJ9,RGFPF1FPU9POV,R166LGSC344H4W",
         "Compact and effective,Very handy and useful product,Not satisfied",
         "Pretty lightweight and solves the purpose.,I liked the compact size and efficiency of the product. Meets the specs and good product for a buy,Light indicator was not working,wire is too short not 1 and half metre",
         "https://m.media-amazon.com/images/W/WEBP_402378-T1/images/I/41e3A7YKxeL._SX300_SY300_QL70_FMwebp_.jpg",
         "https://www.amazon.in/Lifelong-LLQH925-settings-operation-Indicator/dp/B0BGPN4GGH/ref=sr_1_62?qid=1672923593&s=kitchen&sr=1-62",
         15.2,
         1999.0,
         2039.1
        ],
        [
         "Home&Kitchen",
         "B0B2DZ5S6R",
         "Amazon Basics 1500 W Electric Kettle (Stainless Steel Body, 1.5 L)",
         "Home&Kitchen|Kitchen&HomeAppliances|SmallKitchenAppliances|Kettles&HotWaterDispensers|Kettle&ToasterSets",
         749.0,
         1299.0,
         42.0,
         4.0,
         119,
         "Heat and warm water anytime, anywhere with the Amazon Basics Electric Kettle|Built from high-quality raw materials; stainless steel body; lightweight and durable electric kettle|Auto cut-off switch when the water reaches the desired temperature|User-friendly; 360-degree rotating base with plug-in facility|Capacity: 1.5 L|Embedded optimal power-consuming technology; Wattage:1500 Watts|Heat-resistant and cool-touch plastic handle; energy-efficient, affordable and long-lasting kettle|Care instructions: Do not immerse the product in water. Do not touch the stainless steel body during and after boiling. Keep the kettle away from children",
         "AGPSLGGTW5EHCUCCFEPSMH76H3NQ,AFJ2YACJOQIL4CKZZEDPSP3PZHOQ,AGKHBAELL7AOON2QVRG6EQ6YV6RQ,AFOQ5WEUSSLHKGE5MTWWJTN3AXOA,AERBX2ZBWXBE4HAVQ2Z33QANOOAQ,AHWU7AHDKBJQGVBN77UECJRMP2ZQ,AHRLM722B3LWWPMVM7FEFAZN5JZA,AHD5JQAEIHIAAAFUCBHJQ4VXH2GQ",
         "Shaji Kuruvilla,Navin Yadav,Nieraj Kumar,Amazon customer,DIVYA,suraj kumar lohiya,Gomathi,Leo",
         "R13JNSWNKVVI9T,R2JSC7U8B4MA2C,RRNJOTGQVMBP9,R2IEKQ2HBHTPYC,R3PJHP1S75AYAW,R12BP3F974Z6HW,R39E7VJSOOBTO8,RAB464T30GKBZ",
         "Worth for the price,Good,Just Average,Great!,Good product. Few minutes to boil the water and very useful,Very nice working,Good quality,Used the product.  As of everything was fine. Good",
         "Easy to handle......,Good,Good product at this priceI am disappointed that autocut is not there as shown in website and in about section of product.,Easy to use and comparatively less cost.,,This cattle is better than others brand,Quality is so good. Gets heating fastly. Made hot water, tea & coffee.. As expected.. Loved it.,Good",
         "https://m.media-amazon.com/images/I/41twHEBU-LL._SX300_SY300_QL70_FMwebp_.jpg",
         "https://www.amazon.in/Amazon-Basics-Electric-Kettle-Stainless/dp/B0B2DZ5S6R/ref=sr_1_63?qid=1672923593&s=kitchen&sr=1-63",
         476.0,
         1999.0,
         1929.0
        ],
        [
         "Home&Kitchen",
         "B09LV1CMGH",
         "Lifelong LLFH921 Regalia 2000 W Fan Heater, 3 Air Settings, Room Heater with Overheating Protection, 1 Year Warranty ( White, (ISI Certified, Ideal for small to medium room/area)",
         "Home&Kitchen|Heating,Cooling&AirQuality|RoomHeaters|FanHeaters",
         899.0,
         2000.0,
         55.0,
         3.6,
         291,
         "Meant for Spot Heating|Ideal for a small room only, i.e., up to 150 sq. ft|Robust Design for fast & efficient + heating|Country of Origin: India|Do not worry if you experience some burning smell when you run your room heater for the 1st time. This is due to the motor varnish getting heated for the 1st time. The problem should not recur in subsequent usage. If it does, please contact our Customer support|Caution - Always use the product with 16A socket. Using it on lower rating sockets may result in melting of socket or the plug.|Reliable & Safe : Lifelong LLFH921 Regalia 2000W Fan Heater comes with 1 Year Domestic Warranty. For any warranty related issues, please call the Lifelong Customer Support - +91 9711558877 or customercare@lifelongindia.com",
         "AGWW6QNDSOJD7QJMPIUX6ARHJNYQ,AGBTCEQQM6J6NFR5SH5RLAFUGFTQ,AGEBDGHKAWRQ3G2K5AKRTQTCKQSA,AH6ZP7UHCY3RFNPXJFR3EKEVNR3Q,AGJ7O6CXXXUN72WOV5JID7X7ZBMQ,AF3X5JX4FUQRCMHTMKZUDHWJ7B4A,AFNYWWOJRBL24SML73HBJVSRXMEQ,AFK6FJPTHV56DSXXPAMBI4F7YUCQ",
         "Usha,CHHATRPAL,Anurag Anand,Sijo Pattam,Gurujeetsingh Pardeshi,Keerthy,ANUPAM DATTA,Binay bharti",
         "R2GKWK7SWXRZHR,R3ME9LEM264R7O,R2B4QC6Z8AM7H1,RZLN7G4GGELUS,R26JLYEZYUE691,R2ZHISR958ZRRA,R2GXFJHTKM6SQ5,R29Z3ZW915UAB9",
         "For medium sized room,Best product,For bed only,not for full room,Damage,Its okay,Does the job,Not Good , Power cord  very short,Not satisfied",
         ",Nice blower,Not heating full room, only bed,Product is broken,The body is made of soft plastic. As per price its okay.,Review after 10 days usage.Material of the heater is plastic and seems okay. I use it to warm the 16*10 room. In the room temperature of 15*-20*. I could feel the room gets warm in 1 hr. Blowing hot air can be felt upto 4 ft. It comes with 15A plug. I use converter 16A to 5A.With 16A outlet it could perform much betterReally a good product.,Not good, power cord very short, no markings on switch positions , thermostat is not working properly……,Wire length is too small which is useless . तार से कितना बचा लोगे भाई",
         "https://images-na.ssl-images-amazon.com/images/W/WEBP_402378-T1/images/I/41d17oVYVeL._SX300_SY300_QL70_FMwebp_.jpg",
         "https://www.amazon.in/Lifelong-LLFH921-Overheating-Protection-Certified/dp/B09LV1CMGH/ref=sr_1_70?qid=1672923593&s=kitchen&sr=1-70",
         1047.6000000000001,
         1999.0,
         1999.1
        ],
        [
         "Home&Kitchen",
         "B09NL7LBWT",
         "Bulfyss USB Rechargeable Lint Remover Fabric Shaver Pet Hair Remover, Effectively and Quickly Remove Fuzz for Clothes, Sweater, Couch, Sofa, Blanket, Curtain, Wool, Cashmere (Grey, 1 Year Warranty)",
         "Home&Kitchen|Kitchen&HomeAppliances|Vacuum,Cleaning&Ironing|Irons,Steamers&Accessories|LintShavers",
         1099.0,
         1999.0,
         45.0,
         4.0,
         604,
         "INNOVATIVE DESIGN, BUILT TO LAST LONGER: Created with quality in mind! Using the premium materials, (heavy-duty abs plastic shell + SS mesh cover and razor-sharp 3- blades). Combined with durable and advance technology, rest assured that it will never break or damage easily plus powerful suction and the efficient motor that shaves off and leaves the sweater clean and lint-free like newly bought.|FAST CHARGING, EASY TO USE, TRAVEL-FRIENDLY: Hassle-free lint remover cleaner, just charge and use. Charging compatible, multiple options; Charge and direct plug to laptop/desktop, power-bank, car charger, smart IC charger. 2 hours of charging can operate for 45 minutes with low electric consumption and design for travel and home use, compact and lightweight|6 SHARP BLADE, DEFUZZ ALMOST ALL FABRIC LINTS: Take advantage with our newest and revolutionize fabric defuzzer device that has 3 blades horizontal & 3 blades Vertical that cuts through excess loose threads, fuzz balls and lint’s from your winter coat, sweater, scarf, gloves, plush toys, car cushion, sofa, leggings, bedding, curtains and linens and other clothing's and fabrics that needs to de-fuzz!|RENEW FABRIC SAFELY AND EFFICIENTLY: Function delicately to protect further damage on clothes and fabric, with honeycomb mesh-like cover that doesn't deform and reduces the friction of clothes. Automatic shut-off lint shaver, thanks to the safety lock, the device automatically stops when the blade cover is open or loose. With 65mm mesh that tackles almost all sizes of loose threads and loops; particulate lint, fine particulate pill, and intensive fuzz, no problem!|WIDER LINT STORAGE: No mess and sticky residue like standard lint remover in the market, provided with removable lint collector container that will catch all lint and fuzz, Plus strong suction, powerfully draws all lint that has been remove and goes through the container effortlessly, removable for easy cleanup. You’ll love how it delivers the seamless removing of lint on coat and sweater.|NOTE - Use fast charging adaptor (>30W) to completely charge device within 2 Hours.|1 year manufacturer’s warranty",
         "AFEKMA42BV5FJVCTFCTNOITU3J5Q,AGYM2FPHHKUVNPT2XIIYYCELGB7A,AEHGMGXA44JTSSOAKBIHJ2MXUJOA,AEQZUVSKU4NRHO4CPHAV32E2RBNQ,AHJ6KV7SLE2A5BW3MIEVW4BR7MXQ,AFFCDFQM4F2QGZUHKZYVVVTRQWAQ,AENA5ZRRFZPAB2FNS4TITBW5O6ZA,AEHNATRKVLZZ3X2QKTLTSJN5SOXQ",
         "Ishan,Andrew Watson,Harvinder Singh.,Mohammad Shakir,Sarita Yadav,Adarsh Paswan,Anisha Jain,Himanshu",
         "R72U42YTSBK1O,R10B9A5RIHMWPY,R1ATLW10SEN45D,RHLZDSUTN4WQ,R2CREC0HRFEXPQ,R3BW6OLRVHFFWR,R1HUWMLHIVMIKD,R2S8FH6HRDDSCF",
         "Good product must have for winters cloths.,All over good,Beautiful product and easy to use having items as shown in the details.,Working good but need to do some improvement,Nice product.,Awesome Product,Awesome finishing on clothes,Amazing best product",
         ",Product is good but not for heavy duty. Blades are too weak get jammed easily. All over not bad for a bachelor it is a best product. Who have pet this is not the one.,I like it very much.,Working good but need to do some improvement,It's all gone. Wow. This electric device just cleans the lint so easily as if I would know what to do. An extra blade is just an icing on the cake.  Just pick any type of cloth and it just scrapes anything extra over them.,this is specially winter product...it have very sharp blades which easily removes the lints or rolled wollen materials. Also ithave very good runnning time of 45 min approx. it makes the winter clothes lint free which looks like new ...it comes with extra blade and and charging cable along with cleaning brush ...totally worth product...thanks amazon,It’s very awesome lint remover. i very happy with the results. it will make your clothes as they are new in condition. useful for all kind of fabric clothes. battery backup is more than enough. you will receive extra blade , cleaning brush and charging cable with this device.,You can remove alot of lint at a particular time without cleaning it.this lint remover has just saved my time and efforts.Happy to use it . you will receive extra blade , cleaning brush and charging cable",
         "https://m.media-amazon.com/images/I/41KeuNgJDiL._SX300_SY300_QL70_FMwebp_.jpg",
         "https://www.amazon.in/Bulfyss-Rechargeable-Effectively-Cashmere-Warranty/dp/B09NL7LBWT/ref=sr_1_74?qid=1672923593&s=kitchen&sr=1-74",
         2416.0,
         1999.0,
         1999.0
        ],
        [
         "Home&Kitchen",
         "B0BPBXNQQT",
         "Room Heater Warmer Wall-Outlet 400 Watts Electric Handy Room Heater (Room Heaters Home for Bedroom, Reading Books, Work, bathrooms, Rooms, Offices, Home Offices,2022",
         "Home&Kitchen|Heating,Cooling&AirQuality|RoomHeaters|ElectricHeaters",
         799.0,
         1989.0,
         60.0,
         4.3,
         70,
         "Fast Heating :- Ceramic heating element creates energy efficient warmth quickly in 3 seconds.|Overheat protection : PTC ceramic element is self-regulating With the design of over-heat protection for thermal control|Adjustable Temperature & Silent :- Adjustable thermostat control monitors the temperature around you for optimal heating|Energy efficient and Portable :- Ceramic heating element for energy-efficient operation|Compact Design :- It's compact enough to take anywhere,Great for the camper or give it to the kids for their college dorm rooms.",
         "AH7ZFZAWQV5VTWQHLXZYDGFDNJGQ,AHFM667GXYFTR3AUJA3PYCTQNTRQ,AHMVXMVFXD52BW23VR6LGK6ZVYLQ,AFY4TSX2F5VE4VZOVGHWODY6YMXQ,AGE4VV5XHVOEH4P5GC4F6QP5WRQQ,AE65JZULZYSAXTA2EGDZEM6PBYPA,AHNDS2S3ENCHSKCCU22SVWH5UZKA,AG5BPTCQ4ZU6JWWKH2KBGNLSLKCA",
         "Rajiv Ranjan Singh,Eswar Babu,Gaurav Choudhary,Vinay kumar,Placeholder,imti,Satyanarain,Sanjay",
         "RZO6XGE3P1DX,R3RCHNNZ1GVHBL,R32VH8C2WKSPBO,RHPUY1L6EN7BY,RIVPXD585WKHV,RJBJT7A32QWPV,R1E92T2MFYX7MK,R2K5O9IMJOXBEX",
         "Good for small rooms,Better,Good quality,Nice product,Good product,Potable room heater,Room heater is useful,Good Heater",
         "If u have to heat a small room you can definitely use this heater but people need to be near it to feel the heat.,Product is nice and better only when you are close to it. It can't cool the small room atle,It is value for money and worth buying product, best build quality in this price range,The nice product and light weight very easy usable product,Good product value for money,I received the room heater it's really very good \uD83D\uDE01,This is Very good product,It’s good for smaller space.",
         "https://m.media-amazon.com/images/W/WEBP_402378-T1/images/I/51ey0zzictL._SX300_SY300_QL70_FMwebp_.jpg",
         "https://www.amazon.in/Wall-Outlet-Electric-Heaters-Bedroom-bathrooms/dp/B0BPBXNQQT/ref=sr_1_78?qid=1672923593&s=kitchen&sr=1-78",
         301.0,
         1999.0,
         1998.0
        ],
        [
         "Home&Kitchen",
         "B09ZTZ9N3Q",
         "Amazon Basics 2000/1000 Watt Room Heater with Adjustable Thermostat (ISI certified, White color, Ideal for small to medium room/area)",
         "Home&Kitchen|Heating,Cooling&AirQuality|RoomHeaters|FanHeaters",
         1049.0,
         1699.0,
         38.0,
         3.1,
         111,
         "Say goodbye to the worries about dealing with the cold weather with the Amazon Basics Electric Room Heater|Ideal for small to medium-size rooms|Two Knobs - one for Heat mode (1000W or 2000W) another for thermostat for temperature control.|Equipped with 2 heat modes, 1000 watts and 2000 watts|Turbo fan motor evenly distributes heat in the room|Compact and lightweight room heater can be placed anywhere in the house|Plastic fire-retardant body and metal grill that contains copper ensure safety while in use|Ultra quiet in operation, Inbuilt thermostat for safety",
         "AFWHK4LKZHJJVZKD23JDBSMYCTWA,AG4YW4O2PIYELIEF7RIWWELPR2IQ,AG7KEHOTRQWYCFBB3YOYWNEEKOWA,AG4VHCBBGV55FALKIZXY7Y66G2QA,AFIVHFGYMXUH432ZHISVITBGO36A,AE2QCA6OGX2KOV5CKDSU2S35R4LQ,AHS4K4PMVZYWPO23PM2ZLSJBQOBA,AHDZQ4ZYL7CHT6BLJE6QRKZ4ANIQ",
         "Kulsoom Hussain,Hanamant Waddar,Raju Pandey,Akash sachan,Mohamed Jarjees Ali,Radheshyam Tripathy,Satheesh,Kunal govindbhai dhedhi",
         "R3VGVVQLQT97ML,R1Y56E8635Y7QD,RT5YXKE0NNQ8F,R2GEEMC0X545J5,R3KWBNS9ODP471,R3JEC32DYAIG6W,R1VD5AUGPRPO7H,R17S3I8NWLC4F1",
         "It's good \uD83D\uDC4D,Good...,Good Product,Satisfied,Good for small room,Unsure,Not bad,Don't bye it....",
         "\"It's working,Good,Good Product \uD83D\uDC4D,Nice product,Cant use for long hours. Good for small rooms and can be used for a minimum amount of time.,Not sure if I can use overnight.,Nice bad high price,Please don't bye it, I ordered this Amazon basics room heater, it running well for two months and suddenly stop working when I want to claim my 1 year warrenty, their customer card service is really sucks, when I called customer service, first it is told that \"\" You have to register warrenty first \"\" Then I register my warrenty and it takes 3 days to register and then I apply for my warrenty",
         " they told me to email at Amazon brand email",
         " and now such disaster started",
         344.1,
         1999.0,
         1969.0
        ],
        [
         "Home&Kitchen",
         "B0B25DJ352",
         "GILTON Egg Boiler Electric Automatic Off 7 Egg Poacher for Steaming, Cooking Also Boiling and Frying, Multi Color",
         "Home&Kitchen|Kitchen&HomeAppliances|SmallKitchenAppliances|EggBoilers",
         353.0,
         1199.0,
         71.0,
         4.3,
         629,
         "\"Cook up to 7 eggs in soft, medium, or hard boiled firmness, while saving time and water. Eggs come out consistently perfect, shell is easy to peel, and clean up is super easy!|This Egg Boiler takes only 10 minutes to cook the eggs Fill measuring cup with water to desired doneness, press the power button once and within minutes your eggs will be \"\"Egg-Celent!\"\" Fun and simple to use for family members of all ages!|Multi-functional egg shelf design",
         " varied size of eggs can be steamed",
         " automatic cut - off function|You can consistently prepare eggs the way you like without fat or oil.\"",
         "AET3FR7J3R37VHFFZQHMBLV5ELOA,AEURVTR2NJUO6OMIUX7AL2Q6PYLQ,AGET73SJOAW2YXZSDMPGBCTZDPAQ,AEVJJUZQMXEWZJF2MJKNQDASDCSQ,AFDQAJVNVC5DM6SHSC2TDEAZEOTQ,AHG2TGE2J6EVY6LVRY5Z4T5QXDVA,AF3QTFMFYOCXB5AQRGCPFGYLOXEA,AF4OIHI7WHGZ2DHTOI7NJPSRD3XA",
         "Sneha W.,M DHANAMJAYAN,JATIN,Vara prasad,Zaki,latheef,Laxmi,Sandesh kumar",
         "R3B2VNS1Q5M7NI,R2FKC4BNR12YR,R2QL8IDEY4CYMQ,R29W5GFT7N67BK,R52TPUGTJPEEN,R1VMPT5F3R92O1,R2XIY1Q0JEYNIH,RHJOMDBO7WS73",
         "Good product,Worth of cast and useful of batchelors,This product quality is very good,i like this product,Value for Money,Verry use ful,Good product and easy to use,Looks nice,Excellent product",
         "https://m.media-amazon.com/images/I/41FwgWAcaHL._SY88.jpg,It doesn't occupied more space easy to kept any where but wire length i feel bad bcz it is too short.,I like many things of this product like quality, colour,easy to use and most important thing is in my budget,Value for Money any one can buy and  satisfy the product,Very useful product thank Amazon,Good product easy to use,Shape and product looks nice.,Well , i am using your EGG POACHER . After using it extensively for many days i would like to say that it is a perfect device to boil eggs . At this cost i'd never expected this kind of excellent product quality .I am really satisfied with this product and looking forward to buy another for my brother .I suggest everyone to go for it without doubt .",
         2704.7,
         1999.0,
         1919.0
        ],
        [
         "Home&Kitchen",
         "B08MVSGXMY",
         "Crompton Insta Comfy 800 Watt Room Heater with 2 Heat Settings(Grey Blue)",
         "Home&Kitchen|Heating,Cooling&AirQuality|RoomHeaters|ElectricHeaters",
         1498.0,
         2300.0,
         35.0,
         3.8,
         95,
         "The advanced quartz tubes get quickly heated and its dual heat setting features allow you to adjust the temperature as per your comfort|Fused with elegant and sleek design that goes well with your décor|High efficient quick heating quartz rod with two setting 400W+400W|Rust free stainless steel reflector, along with Tip-Over proctection for a safer experience|An ISI approved product powered with shock proof body and a carrying handle|Power Requirement - 200-220E 50HZ 800W, Two Settings 400W+400W|Warranty: 1 years warranty provided by crompton from date of purchase, covers on manufacturing defects kindly read the usermanual for more details",
         "AEWNF4GPHERXGZRJC3TOQRSXCQ2A,AHDO5PN5JGBBDMPGSGB3DRKYCBWA,AGBEDXMF6BSFODJP4MWYYTSLN62Q,AHBANMLYMR32OLUTA4UWCEM4RS3A,AGO6PVXYI6OL74JB6XZNCTPLUDNQ,AF5A6W6BXOFOFEU6XLJDHGTJWWDQ,AGJGSPUQPTXAWMNQM7DVBDMOLF2Q,AHJ3MZMF6XCTMU4Q2ZRGHQIPYTVA",
         "ARCHANA SINGH,Devendra Singh,Sanjit Guruaribam,Ram Gopal Pareek,SAROJ KUMAR,Balbirsinghpathania,SHAILAJA,Vikas singh",
         "R3CDTV5JOEQJB6,R2OOA2Q6V7X8S6,R1VANIESY8QF0E,RYL1C4JQ1KCOH,R35KJ7NCHW1X1E,RIKQ3HQUQVC0Q,R2BSID2R1SF0GZ,R2SSCAXKIHE4Y6",
         "Good product,Very nice products good quality \uD83D\uDC4C\uD83D\uDC4C,use carefully,No fear of over loading,very nice,Safety switch not working witch required change,Not stainless Steel make reflector !,Bullshit product",
         "Since I have just started using, I find it a good product.,Good quality,,Very handy, light portable and safe heater. Each rod consumes only 400 Watt of power, so you may take the risk of keeping it on with one rod on for hours together with out the risk of over heating of cable, MCB breakdown or fire. It can be plugged in a five ampere ordinary domestic socket without 15 ampere power supply.,very nice,Like,Reflector is not Stainless Steel make and hence description in the web does not match. However,  I did not return the item as it it is waste of time.,Never buy this product for use,after one week its plastic frame melts itself and make smooky smellOtherwise i am mech. Engg and CROMPTON has been alreay made great name in motors, pumps",
         "https://m.media-amazon.com/images/I/41v9yj848iL._SX300_SY300_QL70_FMwebp_.jpg",
         "https://www.amazon.in/Crompton-Insta-Comfy-Heater-Settings/dp/B08MVSGXMY/ref=sr_1_110?qid=1672923596&s=kitchen&sr=1-110",
         361.0,
         1999.0,
         2029.1
        ]
       ],
       "datasetInfos": [],
       "dbfsResultPath": null,
       "isJsonSchema": true,
       "metadata": {},
       "overflow": false,
       "plotOptions": {
        "customPlotOptions": {},
        "displayType": "table",
        "pivotAggregation": null,
        "pivotColumns": null,
        "xColumns": null,
        "yColumns": null
       },
       "removedWidgets": [],
       "schema": [
        {
         "metadata": "{}",
         "name": "category_simple",
         "type": "\"string\""
        },
        {
         "metadata": "{}",
         "name": "product_id",
         "type": "\"string\""
        },
        {
         "metadata": "{}",
         "name": "product_name",
         "type": "\"string\""
        },
        {
         "metadata": "{}",
         "name": "category",
         "type": "\"string\""
        },
        {
         "metadata": "{}",
         "name": "discounted_price",
         "type": "\"double\""
        },
        {
         "metadata": "{}",
         "name": "actual_price",
         "type": "\"double\""
        },
        {
         "metadata": "{}",
         "name": "discount_percentage",
         "type": "\"double\""
        },
        {
         "metadata": "{}",
         "name": "rating",
         "type": "\"double\""
        },
        {
         "metadata": "{}",
         "name": "rating_count",
         "type": "\"integer\""
        },
        {
         "metadata": "{}",
         "name": "about_product",
         "type": "\"string\""
        },
        {
         "metadata": "{}",
         "name": "user_id",
         "type": "\"string\""
        },
        {
         "metadata": "{}",
         "name": "user_name",
         "type": "\"string\""
        },
        {
         "metadata": "{}",
         "name": "review_id",
         "type": "\"string\""
        },
        {
         "metadata": "{}",
         "name": "review_title",
         "type": "\"string\""
        },
        {
         "metadata": "{}",
         "name": "review_content",
         "type": "\"string\""
        },
        {
         "metadata": "{}",
         "name": "img_link",
         "type": "\"string\""
        },
        {
         "metadata": "{}",
         "name": "product_link",
         "type": "\"string\""
        },
        {
         "metadata": "{}",
         "name": "popularity_score",
         "type": "\"double\""
        },
        {
         "metadata": "{}",
         "name": "anchor_median_price",
         "type": "\"double\""
        },
        {
         "metadata": "{}",
         "name": "suggested_price",
         "type": "\"double\""
        }
       ],
       "type": "table"
      }
     },
     "output_type": "display_data"
    }
   ],
   "source": [
    "\n",
    "from pyspark.sql import functions as F\n",
    "\n",
    "# Simplify category: take the first part before the first \"|\"\n",
    "silver_clean = silver_pop.withColumn(\n",
    "    \"category_simple\",\n",
    "    F.split(F.col(\"category\"), r\"\\|\").getItem(0)\n",
    ")\n",
    "\n",
    "# Recompute anchors and non-anchors with cleaned category\n",
    "threshold = silver_clean.approxQuantile(\"popularity_score\", [0.9], 0.01)[0]\n",
    "anchors = silver_clean.filter(F.col(\"popularity_score\") >= threshold)\n",
    "non_anchors = silver_clean.filter(F.col(\"popularity_score\") < threshold)\n",
    "\n",
    "# Median price by cleaned category\n",
    "anchor_prices = anchors.groupBy(\"category_simple\").agg(\n",
    "    F.percentile_approx(\"discounted_price\", 0.5).alias(\"anchor_median_price\")\n",
    ")\n",
    "\n",
    "# Join and compute suggested price\n",
    "suggested = non_anchors.join(anchor_prices, \"category_simple\", \"left\") \\\n",
    "    .withColumn(\n",
    "        \"suggested_price\",\n",
    "        F.round((F.col(\"anchor_median_price\") * 0.9) + (F.col(\"actual_price\") * 0.1), 2)\n",
    "    )\n",
    "\n",
    "# Save Gold table\n",
    "suggested.write.format(\"delta\") \\\n",
    "    .mode(\"overwrite\") \\\n",
    "    .option(\"overwriteSchema\", \"true\") \\\n",
    "    .saveAsTable(\"default.amazon_gold_pricing\")\n",
    "\n",
    "display(spark.table(\"default.amazon_gold_pricing\").limit(10))\n"
   ]
  },
  {
   "cell_type": "markdown",
   "metadata": {
    "application/vnd.databricks.v1+cell": {
     "cellMetadata": {},
     "inputWidgets": {},
     "nuid": "5fac2134-db87-492a-a09b-05eb6d6114bd",
     "showTitle": false,
     "tableResultSettingsMap": {},
     "title": ""
    }
   },
   "source": [
    "**Serving Layer: Comparison View**\n",
    "\n",
    "- Load Gold table (amazon_gold_pricing)\n",
    "- Select key fields for demo:\n",
    "category_simple, product_id, product_name,\n",
    "  actual_price, anchor_median_price, suggested_price\n",
    "- Order by category and show first 20 rows"
   ]
  },
  {
   "cell_type": "code",
   "execution_count": 0,
   "metadata": {
    "application/vnd.databricks.v1+cell": {
     "cellMetadata": {
      "byteLimit": 2048000,
      "rowLimit": 10000
     },
     "inputWidgets": {},
     "nuid": "ad557bef-cdf3-40db-a01f-7fdd0cd474ad",
     "showTitle": false,
     "tableResultSettingsMap": {},
     "title": ""
    }
   },
   "outputs": [
    {
     "output_type": "display_data",
     "data": {
      "text/html": [
       "<style scoped>\n",
       "  .table-result-container {\n",
       "    max-height: 300px;\n",
       "    overflow: auto;\n",
       "  }\n",
       "  table, th, td {\n",
       "    border: 1px solid black;\n",
       "    border-collapse: collapse;\n",
       "  }\n",
       "  th, td {\n",
       "    padding: 5px;\n",
       "  }\n",
       "  th {\n",
       "    text-align: left;\n",
       "  }\n",
       "</style><div class='table-result-container'><table class='table-result'><thead style='background-color: white'><tr><th>category_simple</th><th>product_id</th><th>product_name</th><th>actual_price</th><th>anchor_median_price</th><th>suggested_price</th></tr></thead><tbody><tr><td>Computers&Accessories</td><td>B09C6H53KH</td><td>Duracell Type-C To Micro 1.2M braided Sync & Charge Cable, USB C to Micro Fast Charge Compatible for fast data transmission (Black)</td><td>699.0</td><td>389.0</td><td>420.0</td></tr><tr><td>Computers&Accessories</td><td>B09X79PP8F</td><td>MI 2-in-1 USB Type C Cable (Micro USB to Type C) 30cm for Smartphone, Headphone, Laptop (White)</td><td>299.0</td><td>389.0</td><td>380.0</td></tr><tr><td>Computers&Accessories</td><td>B09Q8HMKZX</td><td>Portronics Konnect L 20W PD Quick Charge Type-C to 8-Pin USB Mobile Charging Cable, 1.2M, Tangle Resistant, Fast Data Sync(Grey)</td><td>699.0</td><td>389.0</td><td>420.0</td></tr><tr><td>Computers&Accessories</td><td>B0BP7XLX48</td><td>Syncwire LTG to USB Cable for Fast Charging Compatible with Phone 5/ 5C/ 5S/ 6/ 6S/ 7/8/ X/XR/XS Max/ 11/12/ 13 Series and Pad Air/Mini, Pod & Other Devices (1.1 Meter, White)</td><td>1999.0</td><td>389.0</td><td>550.0</td></tr><tr><td>Computers&Accessories</td><td>B09CMP1SC8</td><td>Ambrane 2 in 1 Type-C & Micro USB Cable with 60W / 3A Fast Charging, 480 mbps High Data, PD Technology & Quick Charge 3.0, Compatible with All Type-C & Micro USB Devices (ABDC-10, Black)</td><td>499.0</td><td>389.0</td><td>400.0</td></tr><tr><td>Computers&Accessories</td><td>B0B21C4BMX</td><td>Portronics Konnect Spydr 31 3-in-1 Multi Functional Cable with 3.0A Output, Tangle Resistant, 1.2M Length, Nylon Braided(Zebra)</td><td>899.0</td><td>389.0</td><td>440.0</td></tr><tr><td>Computers&Accessories</td><td>B09RZS1NQT</td><td>Sounce 65W OnePlus Dash Warp Charge Cable, 6.5A Type-C to USB C PD Data Sync Fast Charging Cable Compatible with One Plus 8T/ 9/ 9R/ 9 pro/ 9RT/ 10R/ Nord & for All Type C Devices – Red, 1 Meter</td><td>999.0</td><td>389.0</td><td>450.0</td></tr><tr><td>Computers&Accessories</td><td>B0B4DT8MKT</td><td>Wecool Unbreakable 3 in 1 Charging Cable with 3A Speed, Fast Charging Multi Purpose Cable 1.25 Mtr Long, Type C cable, Micro Usb Cable and Cable for iPhone, White</td><td>1499.0</td><td>389.0</td><td>500.0</td></tr><tr><td>Computers&Accessories</td><td>B084N18QZY</td><td>Belkin USB C to USB-C Fast Charging Type C Cable, 60W PD, 3.3 feet (1 meter) for Laptop, Personal Computer, Tablet, Smartphone - Black, USB-IF Certified</td><td>849.0</td><td>389.0</td><td>435.0</td></tr><tr><td>Computers&Accessories</td><td>B0B86CDHL1</td><td>oraimo 65W Type C to C Fast Charging Cable USB C to USB C Cable High Speed Syncing, Nylon Braided 1M length with LED Indicator Compatible For Laptop, Macbook, Samsung Galaxy S22 S20 S10 S20Fe S21 S21 Ultra A70 A51 A71 A50S M31 M51 M31S M53 5G</td><td>899.0</td><td>389.0</td><td>440.0</td></tr><tr><td>Computers&Accessories</td><td>B0B5ZF3NRK</td><td>CEDO 65W OnePlus Dash Warp Charge Cable, USB A to Type C Data Sync Fast Charging Cable Compatible with One Plus 3 /3T /5 /5T /6 /6T /7 /7T /7 pro & for All Type C Devices - 1 Meter, Red</td><td>599.0</td><td>389.0</td><td>410.0</td></tr><tr><td>Computers&Accessories</td><td>B0B2DJDCPX</td><td>SWAPKART Fast Charging Cable and Data Sync USB Cable Compatible for iPhone 6/6S/7/7+/8/8+/10/11, 12, 13 Pro max iPad Air/Mini, iPod and iOS Devices (White)</td><td>499.0</td><td>389.0</td><td>400.0</td></tr><tr><td>Computers&Accessories</td><td>B0BMXMLSMM</td><td>Lapster 65W compatible for OnePlus Dash Warp Charge Cable , type c to c cable fast charging Data Sync Cable Compatible with One Plus 10R / 9RT/ 9 pro/ 9R/ 8T/ 9/ Nord & for All Type C Devices – Red, 1 Meter</td><td>999.0</td><td>389.0</td><td>450.0</td></tr><tr><td>Computers&Accessories</td><td>B09VT6JKRP</td><td>Lapster USB 3.0 A to Micro B SuperSpeed for hard disk cable - short cable</td><td>999.0</td><td>389.0</td><td>450.0</td></tr><tr><td>Computers&Accessories</td><td>B09W5XR9RT</td><td>Duracell USB C To Lightning Apple Certified (Mfi) Braided Sync & Charge Cable For Iphone, Ipad And Ipod. Fast Charging Lightning Cable, 3.9 Feet (1.2M) - Black</td><td>1999.0</td><td>389.0</td><td>550.0</td></tr><tr><td>Computers&Accessories</td><td>B008FWZGSG</td><td>Samsung Original Type C to C Cable - 3.28 Feet (1 Meter), White</td><td>599.0</td><td>389.0</td><td>410.0</td></tr><tr><td>Computers&Accessories</td><td>B09C6HWG18</td><td>Duracell Type C To Type C 5A (100W) Braided Sync & Fast Charging Cable, 3.9 Feet (1.2M). USB C to C Cable, Supports PD & QC 3.0 Charging, 5 GBPS Data Transmission – Black</td><td>1999.0</td><td>389.0</td><td>550.0</td></tr><tr><td>Computers&Accessories</td><td>B0BFWGBX61</td><td>Ambrane Unbreakable 3A Fast Charging Braided Type C Cable    1.5 Meter (RCT15, Blue) Supports QC 2.0/3.0 Charging</td><td>349.0</td><td>389.0</td><td>385.0</td></tr><tr><td>Computers&Accessories</td><td>B0B3RHX6B6</td><td>Ambrane BCL-15 Lightning Cable for Smartphone (1.5m Black)</td><td>399.0</td><td>389.0</td><td>390.0</td></tr><tr><td>Computers&Accessories</td><td>B09LHXNZLR</td><td>Skadioo WiFi Adapter for pc | Car Accessories, WiFi Dongle for pc | USB WiFi Adapter for pc | Wi-Fi Receiver 2.4GHz, 802.11b/g/n UNano Size WiFi Dongle Compatible Adapter,WiFi dongle for pc</td><td>499.0</td><td>389.0</td><td>400.0</td></tr></tbody></table></div>"
      ]
     },
     "metadata": {
      "application/vnd.databricks.v1+output": {
       "addedWidgets": {},
       "aggData": [],
       "aggError": "",
       "aggOverflow": false,
       "aggSchema": [],
       "aggSeriesLimitReached": false,
       "aggType": "",
       "arguments": {},
       "columnCustomDisplayInfos": {},
       "data": [
        [
         "Computers&Accessories",
         "B09C6H53KH",
         "Duracell Type-C To Micro 1.2M braided Sync & Charge Cable, USB C to Micro Fast Charge Compatible for fast data transmission (Black)",
         699.0,
         389.0,
         420.0
        ],
        [
         "Computers&Accessories",
         "B09X79PP8F",
         "MI 2-in-1 USB Type C Cable (Micro USB to Type C) 30cm for Smartphone, Headphone, Laptop (White)",
         299.0,
         389.0,
         380.0
        ],
        [
         "Computers&Accessories",
         "B09Q8HMKZX",
         "Portronics Konnect L 20W PD Quick Charge Type-C to 8-Pin USB Mobile Charging Cable, 1.2M, Tangle Resistant, Fast Data Sync(Grey)",
         699.0,
         389.0,
         420.0
        ],
        [
         "Computers&Accessories",
         "B0BP7XLX48",
         "Syncwire LTG to USB Cable for Fast Charging Compatible with Phone 5/ 5C/ 5S/ 6/ 6S/ 7/8/ X/XR/XS Max/ 11/12/ 13 Series and Pad Air/Mini, Pod & Other Devices (1.1 Meter, White)",
         1999.0,
         389.0,
         550.0
        ],
        [
         "Computers&Accessories",
         "B09CMP1SC8",
         "Ambrane 2 in 1 Type-C & Micro USB Cable with 60W / 3A Fast Charging, 480 mbps High Data, PD Technology & Quick Charge 3.0, Compatible with All Type-C & Micro USB Devices (ABDC-10, Black)",
         499.0,
         389.0,
         400.0
        ],
        [
         "Computers&Accessories",
         "B0B21C4BMX",
         "Portronics Konnect Spydr 31 3-in-1 Multi Functional Cable with 3.0A Output, Tangle Resistant, 1.2M Length, Nylon Braided(Zebra)",
         899.0,
         389.0,
         440.0
        ],
        [
         "Computers&Accessories",
         "B09RZS1NQT",
         "Sounce 65W OnePlus Dash Warp Charge Cable, 6.5A Type-C to USB C PD Data Sync Fast Charging Cable Compatible with One Plus 8T/ 9/ 9R/ 9 pro/ 9RT/ 10R/ Nord & for All Type C Devices – Red, 1 Meter",
         999.0,
         389.0,
         450.0
        ],
        [
         "Computers&Accessories",
         "B0B4DT8MKT",
         "Wecool Unbreakable 3 in 1 Charging Cable with 3A Speed, Fast Charging Multi Purpose Cable 1.25 Mtr Long, Type C cable, Micro Usb Cable and Cable for iPhone, White",
         1499.0,
         389.0,
         500.0
        ],
        [
         "Computers&Accessories",
         "B084N18QZY",
         "Belkin USB C to USB-C Fast Charging Type C Cable, 60W PD, 3.3 feet (1 meter) for Laptop, Personal Computer, Tablet, Smartphone - Black, USB-IF Certified",
         849.0,
         389.0,
         435.0
        ],
        [
         "Computers&Accessories",
         "B0B86CDHL1",
         "oraimo 65W Type C to C Fast Charging Cable USB C to USB C Cable High Speed Syncing, Nylon Braided 1M length with LED Indicator Compatible For Laptop, Macbook, Samsung Galaxy S22 S20 S10 S20Fe S21 S21 Ultra A70 A51 A71 A50S M31 M51 M31S M53 5G",
         899.0,
         389.0,
         440.0
        ],
        [
         "Computers&Accessories",
         "B0B5ZF3NRK",
         "CEDO 65W OnePlus Dash Warp Charge Cable, USB A to Type C Data Sync Fast Charging Cable Compatible with One Plus 3 /3T /5 /5T /6 /6T /7 /7T /7 pro & for All Type C Devices - 1 Meter, Red",
         599.0,
         389.0,
         410.0
        ],
        [
         "Computers&Accessories",
         "B0B2DJDCPX",
         "SWAPKART Fast Charging Cable and Data Sync USB Cable Compatible for iPhone 6/6S/7/7+/8/8+/10/11, 12, 13 Pro max iPad Air/Mini, iPod and iOS Devices (White)",
         499.0,
         389.0,
         400.0
        ],
        [
         "Computers&Accessories",
         "B0BMXMLSMM",
         "Lapster 65W compatible for OnePlus Dash Warp Charge Cable , type c to c cable fast charging Data Sync Cable Compatible with One Plus 10R / 9RT/ 9 pro/ 9R/ 8T/ 9/ Nord & for All Type C Devices – Red, 1 Meter",
         999.0,
         389.0,
         450.0
        ],
        [
         "Computers&Accessories",
         "B09VT6JKRP",
         "Lapster USB 3.0 A to Micro B SuperSpeed for hard disk cable - short cable",
         999.0,
         389.0,
         450.0
        ],
        [
         "Computers&Accessories",
         "B09W5XR9RT",
         "Duracell USB C To Lightning Apple Certified (Mfi) Braided Sync & Charge Cable For Iphone, Ipad And Ipod. Fast Charging Lightning Cable, 3.9 Feet (1.2M) - Black",
         1999.0,
         389.0,
         550.0
        ],
        [
         "Computers&Accessories",
         "B008FWZGSG",
         "Samsung Original Type C to C Cable - 3.28 Feet (1 Meter), White",
         599.0,
         389.0,
         410.0
        ],
        [
         "Computers&Accessories",
         "B09C6HWG18",
         "Duracell Type C To Type C 5A (100W) Braided Sync & Fast Charging Cable, 3.9 Feet (1.2M). USB C to C Cable, Supports PD & QC 3.0 Charging, 5 GBPS Data Transmission – Black",
         1999.0,
         389.0,
         550.0
        ],
        [
         "Computers&Accessories",
         "B0BFWGBX61",
         "Ambrane Unbreakable 3A Fast Charging Braided Type C Cable    1.5 Meter (RCT15, Blue) Supports QC 2.0/3.0 Charging",
         349.0,
         389.0,
         385.0
        ],
        [
         "Computers&Accessories",
         "B0B3RHX6B6",
         "Ambrane BCL-15 Lightning Cable for Smartphone (1.5m Black)",
         399.0,
         389.0,
         390.0
        ],
        [
         "Computers&Accessories",
         "B09LHXNZLR",
         "Skadioo WiFi Adapter for pc | Car Accessories, WiFi Dongle for pc | USB WiFi Adapter for pc | Wi-Fi Receiver 2.4GHz, 802.11b/g/n UNano Size WiFi Dongle Compatible Adapter,WiFi dongle for pc",
         499.0,
         389.0,
         400.0
        ]
       ],
       "datasetInfos": [],
       "dbfsResultPath": null,
       "isJsonSchema": true,
       "metadata": {},
       "overflow": false,
       "plotOptions": {
        "customPlotOptions": {},
        "displayType": "table",
        "pivotAggregation": null,
        "pivotColumns": null,
        "xColumns": null,
        "yColumns": null
       },
       "removedWidgets": [],
       "schema": [
        {
         "metadata": "{}",
         "name": "category_simple",
         "type": "\"string\""
        },
        {
         "metadata": "{}",
         "name": "product_id",
         "type": "\"string\""
        },
        {
         "metadata": "{}",
         "name": "product_name",
         "type": "\"string\""
        },
        {
         "metadata": "{}",
         "name": "actual_price",
         "type": "\"double\""
        },
        {
         "metadata": "{}",
         "name": "anchor_median_price",
         "type": "\"double\""
        },
        {
         "metadata": "{}",
         "name": "suggested_price",
         "type": "\"double\""
        }
       ],
       "type": "table"
      }
     },
     "output_type": "display_data"
    }
   ],
   "source": [
    "\n",
    "# Load the Gold table\n",
    "gold = spark.table(\"default.amazon_gold_pricing\")\n",
    "\n",
    "# Select useful columns for demo\n",
    "comparison = gold.select(\n",
    "    \"category_simple\",\n",
    "    \"product_id\",\n",
    "    \"product_name\",\n",
    "    \"actual_price\",\n",
    "    \"anchor_median_price\",\n",
    "    \"suggested_price\"\n",
    ").orderBy(\"category_simple\").limit(20)\n",
    "\n",
    "display(comparison)\n"
   ]
  }
 ],
 "metadata": {
  "application/vnd.databricks.v1+notebook": {
   "computePreferences": {
    "hardware": {
     "accelerator": null,
     "gpuPoolId": null,
     "memory": null
    }
   },
   "dashboards": [],
   "environmentMetadata": {
    "base_environment": "",
    "environment_version": "3"
   },
   "inputWidgetPreferences": null,
   "language": "python",
   "notebookMetadata": {
    "pythonIndentUnit": 4
   },
   "notebookName": "N1",
   "widgets": {}
  },
  "language_info": {
   "name": "python"
  }
 },
 "nbformat": 4,
 "nbformat_minor": 0
}